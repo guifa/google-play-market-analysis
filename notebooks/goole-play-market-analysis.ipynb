{
 "nbformat": 4,
 "nbformat_minor": 2,
 "metadata": {
  "language_info": {
   "name": "python",
   "codemirror_mode": {
    "name": "ipython",
    "version": 3
   },
   "version": "3.7.3-final"
  },
  "orig_nbformat": 2,
  "file_extension": ".py",
  "mimetype": "text/x-python",
  "name": "python",
  "npconvert_exporter": "python",
  "pygments_lexer": "ipython3",
  "version": 3,
  "kernelspec": {
   "name": "python37364bitbasecondabf60750d4ace4701b72d66be8319987b",
   "display_name": "Python 3.7.3 64-bit ('base': conda)"
  }
 },
 "cells": [
  {
   "cell_type": "markdown",
   "execution_count": null,
   "metadata": {},
   "outputs": [],
   "source": [
    "# Analysis goal \n",
    "- The goal for this project is to analyze Google Play's data to help understand what kinds of apps are likely to attract more users.\n",
    "- I'll focus on free apps for this analysis."
   ]
  },
  {
   "cell_type": "markdown",
   "execution_count": null,
   "metadata": {},
   "outputs": [],
   "source": [
    "## About the Data\n",
    "As of September 2019, there were [approximately 2.8 million Android apps](https://www.statista.com/statistics/266210/number-of-available-applications-in-the-google-play-store/) on Google Play.\n",
    "\n",
    "Collecting data for these many apps is not an easy task. So I decided to look for a data set that could help me. After some search I found two promising data sets:\n",
    "- [A data set](https://www.kaggle.com/lava18/google-play-store-apps) with 10k apps collected on february 2019\n",
    "- And [a data set](https://www.kaggle.com/lava18/google-play-store-apps) with 267k apps collected on april 2019\n",
    "\n",
    "\n",
    "After some thought I decided to use the last one, because it has more data and was collected more recently.\n"
   ]
  },
  {
   "cell_type": "markdown",
   "execution_count": null,
   "metadata": {},
   "outputs": [],
   "source": [
    "## Opening the Data"
   ]
  },
  {
   "cell_type": "code",
   "execution_count": 2,
   "metadata": {},
   "outputs": [],
   "source": [
    "from csv import reader\n",
    "\n",
    "### The Google Play data set ###\n",
    "opened_file = open('..\\\\data\\\\raw\\\\Google-Playstore-Full.csv')\n",
    "read_file = reader(opened_file)\n",
    "google_play = list(read_file)\n",
    "google_play_header = google_play[0]\n",
    "google_play_data = google_play[1:]"
   ]
  },
  {
   "cell_type": "markdown",
   "execution_count": null,
   "metadata": {},
   "outputs": [],
   "source": [
    "## Exploring the Data\n",
    "To make it easier to explore the data set I created 3 functions that I will reuse throughout the project."
   ]
  },
  {
   "cell_type": "code",
   "execution_count": 3,
   "metadata": {},
   "outputs": [],
   "source": [
    "def print_header(header):\n",
    "    print(header)\n",
    "    print('\\n')"
   ]
  },
  {
   "cell_type": "code",
   "execution_count": 4,
   "metadata": {},
   "outputs": [],
   "source": [
    "def print_data(data, start = 0, end = 5):\n",
    "    data_slice = data[start:end]\n",
    "    for row in data_slice:\n",
    "        print(row)\n",
    "        print('\\n')"
   ]
  },
  {
   "cell_type": "code",
   "execution_count": 5,
   "metadata": {},
   "outputs": [],
   "source": [
    "def print_data_info(data):\n",
    "    print('Number of rows:', len(data))\n",
    "    print('Number of columns:', len(data[0]))"
   ]
  },
  {
   "cell_type": "code",
   "execution_count": 6,
   "metadata": {},
   "outputs": [],
   "source": [
    "def print_data_overview():\n",
    "    print_header(google_play_header)\n",
    "    print_data(google_play_data)\n",
    "    print_data_info(google_play_data)   "
   ]
  },
  {
   "cell_type": "code",
   "execution_count": 7,
   "metadata": {},
   "outputs": [
    {
     "name": "stdout",
     "output_type": "stream",
     "text": "['App Name', 'Category', 'Rating', 'Reviews', 'Installs', 'Size', 'Price', 'Content Rating', 'Last Updated', 'Minimum Version', 'Latest Version', '', '', '', '']\n\n\n['DoorDash - Food Delivery', 'FOOD_AND_DRINK', '4.548561573', '305034', '5,000,000+', 'Varies with device', '0', 'Everyone', 'March 29, 2019', 'Varies with device', 'Varies with device', '', '', '', '']\n\n\n['TripAdvisor Hotels Flights Restaurants Attractions', 'TRAVEL_AND_LOCAL', '4.400671482', '1207922', '100,000,000+', 'Varies with device', '0', 'Everyone', 'March 29, 2019', 'Varies with device', 'Varies with device', '', '', '', '']\n\n\n['Peapod', 'SHOPPING', '3.656329393', '1967', '100,000+', '1.4M', '0', 'Everyone', 'September 20, 2018', '5.0 and up', '2.2.0', '', '', '', '']\n\n\n['foodpanda - Local Food Delivery', 'FOOD_AND_DRINK', '4.107232571', '389154', '10,000,000+', '16M', '0', 'Everyone', 'March 22, 2019', '4.2 and up', '4.18.2', '', '', '', '']\n\n\n['My CookBook Pro (Ad Free)', 'FOOD_AND_DRINK', '4.647752285', '2291', '10,000+', 'Varies with device', '$5.99', 'Everyone', 'April 1, 2019', 'Varies with device', 'Varies with device', '', '', '', '']\n\n\nNumber of rows: 267052\nNumber of columns: 15\n"
    }
   ],
   "source": [
    "print_data_overview()"
   ]
  },
  {
   "cell_type": "markdown",
   "execution_count": null,
   "metadata": {},
   "outputs": [],
   "source": [
    "## Data Wrangling\n",
    "\n",
    "After a quick glance we can get some useful information about this data, like the columns that can be important ('Category', 'Rating', 'Reviews', 'Installs', 'Price', 'Content Rating').\n",
    "\n",
    "If we pay a little more attention, we can see that the header and rows are missing the last 4 values. Since the header is mmissing too any information in these fields are meaningless. So we can start fixing that."
   ]
  },
  {
   "cell_type": "markdown",
   "execution_count": null,
   "metadata": {},
   "outputs": [],
   "source": [
    "### Drop 4 last missing values"
   ]
  },
  {
   "cell_type": "code",
   "execution_count": 8,
   "metadata": {},
   "outputs": [],
   "source": [
    "number_of_items_to_delete = 4\n",
    "\n",
    "del google_play_header[-number_of_items_to_delete:]\n",
    "\n",
    "for row in google_play_data:\n",
    "    del row[-number_of_items_to_delete:]"
   ]
  },
  {
   "cell_type": "code",
   "execution_count": 9,
   "metadata": {},
   "outputs": [
    {
     "name": "stdout",
     "output_type": "stream",
     "text": "['App Name', 'Category', 'Rating', 'Reviews', 'Installs', 'Size', 'Price', 'Content Rating', 'Last Updated', 'Minimum Version', 'Latest Version']\n\n\n['DoorDash - Food Delivery', 'FOOD_AND_DRINK', '4.548561573', '305034', '5,000,000+', 'Varies with device', '0', 'Everyone', 'March 29, 2019', 'Varies with device', 'Varies with device']\n\n\n['TripAdvisor Hotels Flights Restaurants Attractions', 'TRAVEL_AND_LOCAL', '4.400671482', '1207922', '100,000,000+', 'Varies with device', '0', 'Everyone', 'March 29, 2019', 'Varies with device', 'Varies with device']\n\n\n['Peapod', 'SHOPPING', '3.656329393', '1967', '100,000+', '1.4M', '0', 'Everyone', 'September 20, 2018', '5.0 and up', '2.2.0']\n\n\n['foodpanda - Local Food Delivery', 'FOOD_AND_DRINK', '4.107232571', '389154', '10,000,000+', '16M', '0', 'Everyone', 'March 22, 2019', '4.2 and up', '4.18.2']\n\n\n['My CookBook Pro (Ad Free)', 'FOOD_AND_DRINK', '4.647752285', '2291', '10,000+', 'Varies with device', '$5.99', 'Everyone', 'April 1, 2019', 'Varies with device', 'Varies with device']\n\n\nNumber of rows: 267052\nNumber of columns: 11\n"
    }
   ],
   "source": [
    "print_data_overview()"
   ]
  },
  {
   "cell_type": "markdown",
   "execution_count": null,
   "metadata": {},
   "outputs": [],
   "source": [
    "### Find duplicates\n",
    "\n",
    "So here is where I hit a wall using pure python, to check for duplicates I'd have to do something like:\n",
    "```python\n",
    "duplicate_apps = []\n",
    "unique_apps = []\n",
    "\n",
    "for app in google_play_data:\n",
    "    name = app[0]\n",
    "    if name in unique_apps:\n",
    "        duplicate_apps.append(name)\n",
    "    else:\n",
    "        unique_apps.append(name)\n",
    "```\n",
    "This would work just fine for a small data set. But in this data set it just takes too long, so for now I'll start using pandas"
   ]
  },
  {
   "cell_type": "code",
   "execution_count": 10,
   "metadata": {},
   "outputs": [],
   "source": [
    "import pandas as pd"
   ]
  },
  {
   "cell_type": "code",
   "execution_count": 11,
   "metadata": {},
   "outputs": [],
   "source": [
    "df = pd.read_csv('..\\\\data\\\\raw\\\\Google-Playstore-Full.csv', low_memory=False)"
   ]
  },
  {
   "cell_type": "code",
   "execution_count": 12,
   "metadata": {},
   "outputs": [
    {
     "data": {
      "text/html": "<div>\n<style scoped>\n    .dataframe tbody tr th:only-of-type {\n        vertical-align: middle;\n    }\n\n    .dataframe tbody tr th {\n        vertical-align: top;\n    }\n\n    .dataframe thead th {\n        text-align: right;\n    }\n</style>\n<table border=\"1\" class=\"dataframe\">\n  <thead>\n    <tr style=\"text-align: right;\">\n      <th></th>\n      <th>App Name</th>\n      <th>Category</th>\n      <th>Rating</th>\n      <th>Reviews</th>\n      <th>Installs</th>\n      <th>Size</th>\n      <th>Price</th>\n      <th>Content Rating</th>\n      <th>Last Updated</th>\n      <th>Minimum Version</th>\n      <th>Latest Version</th>\n      <th>Unnamed: 11</th>\n      <th>Unnamed: 12</th>\n      <th>Unnamed: 13</th>\n      <th>Unnamed: 14</th>\n    </tr>\n  </thead>\n  <tbody>\n    <tr>\n      <th>0</th>\n      <td>DoorDash - Food Delivery</td>\n      <td>FOOD_AND_DRINK</td>\n      <td>4.548561573</td>\n      <td>305034</td>\n      <td>5,000,000+</td>\n      <td>Varies with device</td>\n      <td>0</td>\n      <td>Everyone</td>\n      <td>March 29, 2019</td>\n      <td>Varies with device</td>\n      <td>Varies with device</td>\n      <td>NaN</td>\n      <td>NaN</td>\n      <td>NaN</td>\n      <td>NaN</td>\n    </tr>\n    <tr>\n      <th>1</th>\n      <td>TripAdvisor Hotels Flights Restaurants Attract...</td>\n      <td>TRAVEL_AND_LOCAL</td>\n      <td>4.400671482</td>\n      <td>1207922</td>\n      <td>100,000,000+</td>\n      <td>Varies with device</td>\n      <td>0</td>\n      <td>Everyone</td>\n      <td>March 29, 2019</td>\n      <td>Varies with device</td>\n      <td>Varies with device</td>\n      <td>NaN</td>\n      <td>NaN</td>\n      <td>NaN</td>\n      <td>NaN</td>\n    </tr>\n    <tr>\n      <th>2</th>\n      <td>Peapod</td>\n      <td>SHOPPING</td>\n      <td>3.656329393</td>\n      <td>1967</td>\n      <td>100,000+</td>\n      <td>1.4M</td>\n      <td>0</td>\n      <td>Everyone</td>\n      <td>September 20, 2018</td>\n      <td>5.0 and up</td>\n      <td>2.2.0</td>\n      <td>NaN</td>\n      <td>NaN</td>\n      <td>NaN</td>\n      <td>NaN</td>\n    </tr>\n    <tr>\n      <th>3</th>\n      <td>foodpanda - Local Food Delivery</td>\n      <td>FOOD_AND_DRINK</td>\n      <td>4.107232571</td>\n      <td>389154</td>\n      <td>10,000,000+</td>\n      <td>16M</td>\n      <td>0</td>\n      <td>Everyone</td>\n      <td>March 22, 2019</td>\n      <td>4.2 and up</td>\n      <td>4.18.2</td>\n      <td>NaN</td>\n      <td>NaN</td>\n      <td>NaN</td>\n      <td>NaN</td>\n    </tr>\n    <tr>\n      <th>4</th>\n      <td>My CookBook Pro (Ad Free)</td>\n      <td>FOOD_AND_DRINK</td>\n      <td>4.647752285</td>\n      <td>2291</td>\n      <td>10,000+</td>\n      <td>Varies with device</td>\n      <td>$5.99</td>\n      <td>Everyone</td>\n      <td>April 1, 2019</td>\n      <td>Varies with device</td>\n      <td>Varies with device</td>\n      <td>NaN</td>\n      <td>NaN</td>\n      <td>NaN</td>\n      <td>NaN</td>\n    </tr>\n  </tbody>\n</table>\n</div>",
      "text/plain": "                                            App Name          Category  \\\n0                           DoorDash - Food Delivery    FOOD_AND_DRINK   \n1  TripAdvisor Hotels Flights Restaurants Attract...  TRAVEL_AND_LOCAL   \n2                                             Peapod          SHOPPING   \n3                    foodpanda - Local Food Delivery    FOOD_AND_DRINK   \n4                          My CookBook Pro (Ad Free)    FOOD_AND_DRINK   \n\n        Rating  Reviews      Installs                Size  Price  \\\n0  4.548561573   305034    5,000,000+  Varies with device      0   \n1  4.400671482  1207922  100,000,000+  Varies with device      0   \n2  3.656329393     1967      100,000+                1.4M      0   \n3  4.107232571   389154   10,000,000+                 16M      0   \n4  4.647752285     2291       10,000+  Varies with device  $5.99   \n\n  Content Rating        Last Updated     Minimum Version      Latest Version  \\\n0       Everyone      March 29, 2019  Varies with device  Varies with device   \n1       Everyone      March 29, 2019  Varies with device  Varies with device   \n2       Everyone  September 20, 2018          5.0 and up               2.2.0   \n3       Everyone      March 22, 2019          4.2 and up              4.18.2   \n4       Everyone       April 1, 2019  Varies with device  Varies with device   \n\n  Unnamed: 11 Unnamed: 12 Unnamed: 13  Unnamed: 14  \n0         NaN         NaN         NaN          NaN  \n1         NaN         NaN         NaN          NaN  \n2         NaN         NaN         NaN          NaN  \n3         NaN         NaN         NaN          NaN  \n4         NaN         NaN         NaN          NaN  "
     },
     "execution_count": 12,
     "metadata": {},
     "output_type": "execute_result"
    }
   ],
   "source": [
    "df.head()"
   ]
  },
  {
   "cell_type": "code",
   "execution_count": 13,
   "metadata": {},
   "outputs": [],
   "source": [
    "df.drop(columns=['Unnamed: 11', 'Unnamed: 12', 'Unnamed: 13', 'Unnamed: 14'], inplace=True)"
   ]
  },
  {
   "cell_type": "markdown",
   "execution_count": null,
   "metadata": {},
   "outputs": [],
   "source": [
    "### Filtering only free apps\n",
    "\n",
    "For this we'll focus on the price column, looking closer we can see a price like this '$5.99', which indicates that the entire column is composed of strings. Knowing this we can create a function to transform the price column in number.\n"
   ]
  },
  {
   "cell_type": "code",
   "execution_count": 14,
   "metadata": {},
   "outputs": [],
   "source": [
    "def price_to_number(price):\n",
    "    price = price.replace('$', '')\n",
    "    return float(price)"
   ]
  },
  {
   "cell_type": "markdown",
   "execution_count": null,
   "metadata": {},
   "outputs": [],
   "source": [
    "Let's apply this function to the price column"
   ]
  },
  {
   "cell_type": "code",
   "execution_count": 15,
   "metadata": {},
   "outputs": [
    {
     "ename": "ValueError",
     "evalue": "could not convert string to float: '2.4M'",
     "output_type": "error",
     "traceback": [
      "\u001b[1;31m---------------------------------------------------------------------------\u001b[0m",
      "\u001b[1;31mValueError\u001b[0m                                Traceback (most recent call last)",
      "\u001b[1;32m<ipython-input-15-768070ca94b7>\u001b[0m in \u001b[0;36m<module>\u001b[1;34m\u001b[0m\n\u001b[1;32m----> 1\u001b[1;33m \u001b[0mdf\u001b[0m\u001b[1;33m[\u001b[0m\u001b[1;34m'Price'\u001b[0m\u001b[1;33m]\u001b[0m\u001b[1;33m.\u001b[0m\u001b[0mapply\u001b[0m\u001b[1;33m(\u001b[0m\u001b[0mprice_to_number\u001b[0m\u001b[1;33m)\u001b[0m\u001b[1;33m\u001b[0m\u001b[1;33m\u001b[0m\u001b[0m\n\u001b[0m",
      "\u001b[1;32m~\\Anaconda3\\lib\\site-packages\\pandas\\core\\series.py\u001b[0m in \u001b[0;36mapply\u001b[1;34m(self, func, convert_dtype, args, **kwds)\u001b[0m\n\u001b[0;32m   3589\u001b[0m             \u001b[1;32melse\u001b[0m\u001b[1;33m:\u001b[0m\u001b[1;33m\u001b[0m\u001b[1;33m\u001b[0m\u001b[0m\n\u001b[0;32m   3590\u001b[0m                 \u001b[0mvalues\u001b[0m \u001b[1;33m=\u001b[0m \u001b[0mself\u001b[0m\u001b[1;33m.\u001b[0m\u001b[0mastype\u001b[0m\u001b[1;33m(\u001b[0m\u001b[0mobject\u001b[0m\u001b[1;33m)\u001b[0m\u001b[1;33m.\u001b[0m\u001b[0mvalues\u001b[0m\u001b[1;33m\u001b[0m\u001b[1;33m\u001b[0m\u001b[0m\n\u001b[1;32m-> 3591\u001b[1;33m                 \u001b[0mmapped\u001b[0m \u001b[1;33m=\u001b[0m \u001b[0mlib\u001b[0m\u001b[1;33m.\u001b[0m\u001b[0mmap_infer\u001b[0m\u001b[1;33m(\u001b[0m\u001b[0mvalues\u001b[0m\u001b[1;33m,\u001b[0m \u001b[0mf\u001b[0m\u001b[1;33m,\u001b[0m \u001b[0mconvert\u001b[0m\u001b[1;33m=\u001b[0m\u001b[0mconvert_dtype\u001b[0m\u001b[1;33m)\u001b[0m\u001b[1;33m\u001b[0m\u001b[1;33m\u001b[0m\u001b[0m\n\u001b[0m\u001b[0;32m   3592\u001b[0m \u001b[1;33m\u001b[0m\u001b[0m\n\u001b[0;32m   3593\u001b[0m         \u001b[1;32mif\u001b[0m \u001b[0mlen\u001b[0m\u001b[1;33m(\u001b[0m\u001b[0mmapped\u001b[0m\u001b[1;33m)\u001b[0m \u001b[1;32mand\u001b[0m \u001b[0misinstance\u001b[0m\u001b[1;33m(\u001b[0m\u001b[0mmapped\u001b[0m\u001b[1;33m[\u001b[0m\u001b[1;36m0\u001b[0m\u001b[1;33m]\u001b[0m\u001b[1;33m,\u001b[0m \u001b[0mSeries\u001b[0m\u001b[1;33m)\u001b[0m\u001b[1;33m:\u001b[0m\u001b[1;33m\u001b[0m\u001b[1;33m\u001b[0m\u001b[0m\n",
      "\u001b[1;32mpandas/_libs/lib.pyx\u001b[0m in \u001b[0;36mpandas._libs.lib.map_infer\u001b[1;34m()\u001b[0m\n",
      "\u001b[1;32m<ipython-input-14-ee0237c1f05f>\u001b[0m in \u001b[0;36mprice_to_number\u001b[1;34m(price)\u001b[0m\n\u001b[0;32m      1\u001b[0m \u001b[1;32mdef\u001b[0m \u001b[0mprice_to_number\u001b[0m\u001b[1;33m(\u001b[0m\u001b[0mprice\u001b[0m\u001b[1;33m)\u001b[0m\u001b[1;33m:\u001b[0m\u001b[1;33m\u001b[0m\u001b[1;33m\u001b[0m\u001b[0m\n\u001b[0;32m      2\u001b[0m     \u001b[0mprice\u001b[0m \u001b[1;33m=\u001b[0m \u001b[0mprice\u001b[0m\u001b[1;33m.\u001b[0m\u001b[0mreplace\u001b[0m\u001b[1;33m(\u001b[0m\u001b[1;34m'$'\u001b[0m\u001b[1;33m,\u001b[0m \u001b[1;34m''\u001b[0m\u001b[1;33m)\u001b[0m\u001b[1;33m\u001b[0m\u001b[1;33m\u001b[0m\u001b[0m\n\u001b[1;32m----> 3\u001b[1;33m     \u001b[1;32mreturn\u001b[0m \u001b[0mfloat\u001b[0m\u001b[1;33m(\u001b[0m\u001b[0mprice\u001b[0m\u001b[1;33m)\u001b[0m\u001b[1;33m\u001b[0m\u001b[1;33m\u001b[0m\u001b[0m\n\u001b[0m",
      "\u001b[1;31mValueError\u001b[0m: could not convert string to float: '2.4M'"
     ]
    }
   ],
   "source": [
    "df['Price'].apply(price_to_number)"
   ]
  },
  {
   "cell_type": "markdown",
   "execution_count": null,
   "metadata": {},
   "outputs": [],
   "source": [
    "Let's check what's going on"
   ]
  },
  {
   "cell_type": "code",
   "execution_count": null,
   "metadata": {},
   "outputs": [],
   "source": [
    "df[df['Price'].str.contains(pat = 'M')]"
   ]
  },
  {
   "cell_type": "markdown",
   "execution_count": null,
   "metadata": {},
   "outputs": [],
   "source": [
    "Some kind of shift happened to the data on these rows. As consequence of this error, we'll delete these rows."
   ]
  },
  {
   "cell_type": "code",
   "execution_count": null,
   "metadata": {},
   "outputs": [],
   "source": [
    "#Get column indexes\n",
    "indexes = df[df['Price'].str.contains(pat = 'M')].index\n",
    "\n",
    "# Delete these row indexes from dataFrame\n",
    "df.drop(indexes , inplace=True)"
   ]
  },
  {
   "cell_type": "markdown",
   "execution_count": null,
   "metadata": {},
   "outputs": [],
   "source": [
    "Let's try to apply our price_to_number function again"
   ]
  },
  {
   "cell_type": "code",
   "execution_count": null,
   "metadata": {},
   "outputs": [],
   "source": [
    "df['Price'] = df['Price'].apply(price_to_number)"
   ]
  },
  {
   "cell_type": "markdown",
   "execution_count": 0,
   "metadata": {},
   "outputs": [],
   "source": [
    "After trying to apply our function again, we just realized that we can do a better job by just getting all rows where price is '0', this will also fix problematic rows at the same time."
   ]
  },
  {
   "cell_type": "code",
   "execution_count": 20,
   "metadata": {},
   "outputs": [],
   "source": [
    "df_free = df[df['Price'] == '0']"
   ]
  },
  {
   "cell_type": "markdown",
   "metadata": {},
   "source": [
    "### Removing Duplicate Entries\n",
    "Now that we have only free apps we can go back to remove duplicate entries.\n",
    "First we have to think about why the duplication is happening, let's take a look at some duplicate entries."
   ]
  },
  {
   "cell_type": "code",
   "execution_count": 32,
   "metadata": {},
   "outputs": [
    {
     "data": {
      "text/html": "<div>\n<style scoped>\n    .dataframe tbody tr th:only-of-type {\n        vertical-align: middle;\n    }\n\n    .dataframe tbody tr th {\n        vertical-align: top;\n    }\n\n    .dataframe thead th {\n        text-align: right;\n    }\n</style>\n<table border=\"1\" class=\"dataframe\">\n  <thead>\n    <tr style=\"text-align: right;\">\n      <th></th>\n      <th>App Name</th>\n      <th>Category</th>\n      <th>Rating</th>\n      <th>Reviews</th>\n      <th>Installs</th>\n      <th>Size</th>\n      <th>Price</th>\n      <th>Content Rating</th>\n      <th>Last Updated</th>\n      <th>Minimum Version</th>\n      <th>Latest Version</th>\n    </tr>\n  </thead>\n  <tbody>\n    <tr>\n      <th>28513</th>\n      <td>.Net Interview Questions</td>\n      <td>EDUCATION</td>\n      <td>4.599999905</td>\n      <td>35</td>\n      <td>5,000+</td>\n      <td>5.3M</td>\n      <td>0</td>\n      <td>Everyone</td>\n      <td>November 26, 2018</td>\n      <td>4.4 and up</td>\n      <td>1.1</td>\n    </tr>\n    <tr>\n      <th>195447</th>\n      <td>.Net Interview Questions</td>\n      <td>EDUCATION</td>\n      <td>4.537036896</td>\n      <td>54</td>\n      <td>10,000+</td>\n      <td>20M</td>\n      <td>0</td>\n      <td>Everyone</td>\n      <td>January 14, 2018</td>\n      <td>4.4 and up</td>\n      <td>1.0.9</td>\n    </tr>\n    <tr>\n      <th>67744</th>\n      <td>10,000 Chistes</td>\n      <td>ENTERTAINMENT</td>\n      <td>4.434963703</td>\n      <td>961</td>\n      <td>100,000+</td>\n      <td>4.2M</td>\n      <td>0</td>\n      <td>Everyone</td>\n      <td>December 2, 2018</td>\n      <td>4.4 and up</td>\n      <td>1.0.3</td>\n    </tr>\n    <tr>\n      <th>111316</th>\n      <td>10,000 Chistes</td>\n      <td>LIFESTYLE</td>\n      <td>4.361298561</td>\n      <td>6222</td>\n      <td>500,000+</td>\n      <td>4.4M</td>\n      <td>0</td>\n      <td>Everyone</td>\n      <td>August 8, 2018</td>\n      <td>4.1 and up</td>\n      <td>1.0.1</td>\n    </tr>\n    <tr>\n      <th>9293</th>\n      <td>1000 English Stories</td>\n      <td>EDUCATION</td>\n      <td>4.59296608</td>\n      <td>7137</td>\n      <td>1,000,000+</td>\n      <td>4.4M</td>\n      <td>0</td>\n      <td>Everyone</td>\n      <td>March 3, 2019</td>\n      <td>4.0.3 and up</td>\n      <td>1.0.8</td>\n    </tr>\n    <tr>\n      <th>108073</th>\n      <td>1000 English Stories</td>\n      <td>EDUCATION</td>\n      <td>5</td>\n      <td>2</td>\n      <td>1,000+</td>\n      <td>4.0M</td>\n      <td>0</td>\n      <td>Everyone</td>\n      <td>December 29, 2018</td>\n      <td>4.0 and up</td>\n      <td>0.0.1</td>\n    </tr>\n    <tr>\n      <th>237847</th>\n      <td>1000 Powerful Affirmations</td>\n      <td>LIFESTYLE</td>\n      <td>4.252830029</td>\n      <td>265</td>\n      <td>100,000+</td>\n      <td>3.2M</td>\n      <td>0</td>\n      <td>Everyone 10+</td>\n      <td>November 8, 2018</td>\n      <td>4.1 and up</td>\n      <td>2.8</td>\n    </tr>\n    <tr>\n      <th>230351</th>\n      <td>1000 Powerful Affirmations</td>\n      <td>BOOKS_AND_REFERENCE</td>\n      <td>4.25</td>\n      <td>4</td>\n      <td>100+</td>\n      <td>4.9M</td>\n      <td>0</td>\n      <td>Teen</td>\n      <td>December 20, 2018</td>\n      <td>4.0 and up</td>\n      <td>1</td>\n    </tr>\n    <tr>\n      <th>175808</th>\n      <td>1000 Praises Tamil</td>\n      <td>LIFESTYLE</td>\n      <td>4.810126781</td>\n      <td>79</td>\n      <td>5,000+</td>\n      <td>63M</td>\n      <td>0</td>\n      <td>Everyone</td>\n      <td>April 11, 2017</td>\n      <td>4.0.3 and up</td>\n      <td>1</td>\n    </tr>\n    <tr>\n      <th>227862</th>\n      <td>1000 Praises Tamil</td>\n      <td>BOOKS_AND_REFERENCE</td>\n      <td>4.719745159</td>\n      <td>157</td>\n      <td>10,000+</td>\n      <td>1.9M</td>\n      <td>0</td>\n      <td>Everyone</td>\n      <td>April 4, 2015</td>\n      <td>2.2 and up</td>\n      <td>1</td>\n    </tr>\n    <tr>\n      <th>165690</th>\n      <td>1000+ Hindi Stories</td>\n      <td>EDUCATION</td>\n      <td>4.322033882</td>\n      <td>59</td>\n      <td>10,000+</td>\n      <td>3.9M</td>\n      <td>0</td>\n      <td>Everyone</td>\n      <td>February 16, 2018</td>\n      <td>4.0.3 and up</td>\n      <td>1.0.1</td>\n    </tr>\n    <tr>\n      <th>14242</th>\n      <td>1000+ Hindi Stories</td>\n      <td>ENTERTAINMENT</td>\n      <td>4.514175415</td>\n      <td>12698</td>\n      <td>500,000+</td>\n      <td>12M</td>\n      <td>0</td>\n      <td>Everyone</td>\n      <td>February 15, 2019</td>\n      <td>4.2 and up</td>\n      <td>5.7j</td>\n    </tr>\n    <tr>\n      <th>266254</th>\n      <td>1008 Amman Pottri</td>\n      <td>MUSIC_AND_AUDIO</td>\n      <td>4.560723305</td>\n      <td>387</td>\n      <td>100,000+</td>\n      <td>19M</td>\n      <td>0</td>\n      <td>Everyone</td>\n      <td>June 23, 2018</td>\n      <td>4.0.3 and up</td>\n      <td>7.0.0</td>\n    </tr>\n    <tr>\n      <th>168265</th>\n      <td>1008 Amman Pottri</td>\n      <td>ENTERTAINMENT</td>\n      <td>4.312063694</td>\n      <td>1003</td>\n      <td>100,000+</td>\n      <td>49M</td>\n      <td>0</td>\n      <td>Everyone</td>\n      <td>June 26, 2015</td>\n      <td>2.3 and up</td>\n      <td>1.1</td>\n    </tr>\n    <tr>\n      <th>179588</th>\n      <td>1008 Amman Pottri</td>\n      <td>LIFESTYLE</td>\n      <td>4.296360493</td>\n      <td>577</td>\n      <td>50,000+</td>\n      <td>52M</td>\n      <td>0</td>\n      <td>Everyone</td>\n      <td>October 6, 2018</td>\n      <td>4.0 and up</td>\n      <td>1.1</td>\n    </tr>\n    <tr>\n      <th>25768</th>\n      <td>101 Okey - ?nternetsiz</td>\n      <td>GAME_BOARD</td>\n      <td>4.543731213</td>\n      <td>68315</td>\n      <td>1,000,000+</td>\n      <td>23M</td>\n      <td>0</td>\n      <td>Teen</td>\n      <td>April 2, 2019</td>\n      <td>4.1 and up</td>\n      <td>1.4.2</td>\n    </tr>\n    <tr>\n      <th>17366</th>\n      <td>101 Okey - ?nternetsiz</td>\n      <td>GAME_BOARD</td>\n      <td>4.400608063</td>\n      <td>10529</td>\n      <td>1,000,000+</td>\n      <td>30M</td>\n      <td>0</td>\n      <td>Everyone</td>\n      <td>March 28, 2019</td>\n      <td>4.0 and up</td>\n      <td>2.4.0</td>\n    </tr>\n    <tr>\n      <th>131629</th>\n      <td>10th Maths NCERT Solution</td>\n      <td>BOOKS_AND_REFERENCE</td>\n      <td>5</td>\n      <td>5</td>\n      <td>10+</td>\n      <td>30M</td>\n      <td>0</td>\n      <td>Everyone</td>\n      <td>December 16, 2018</td>\n      <td>4.1 and up</td>\n      <td>1.1</td>\n    </tr>\n    <tr>\n      <th>96589</th>\n      <td>10th Maths NCERT Solution</td>\n      <td>BOOKS_AND_REFERENCE</td>\n      <td>4.549529552</td>\n      <td>8611</td>\n      <td>500,000+</td>\n      <td>26M</td>\n      <td>0</td>\n      <td>Everyone</td>\n      <td>July 24, 2017</td>\n      <td>4.3 and up</td>\n      <td>1</td>\n    </tr>\n    <tr>\n      <th>12253</th>\n      <td>10th Maths NCERT Solution</td>\n      <td>BOOKS_AND_REFERENCE</td>\n      <td>4.53656292</td>\n      <td>4335</td>\n      <td>100,000+</td>\n      <td>29M</td>\n      <td>0</td>\n      <td>Everyone</td>\n      <td>September 25, 2018</td>\n      <td>4.4 and up</td>\n      <td>2.12</td>\n    </tr>\n    <tr>\n      <th>82497</th>\n      <td>10th class maths solution in hindi</td>\n      <td>EDUCATION</td>\n      <td>4.518574715</td>\n      <td>2638</td>\n      <td>500,000+</td>\n      <td>41M</td>\n      <td>0</td>\n      <td>Everyone</td>\n      <td>June 7, 2018</td>\n      <td>4.0.3 and up</td>\n      <td>2</td>\n    </tr>\n    <tr>\n      <th>215207</th>\n      <td>10th class maths solution in hindi</td>\n      <td>EDUCATION</td>\n      <td>4.421052456</td>\n      <td>38</td>\n      <td>10,000+</td>\n      <td>28M</td>\n      <td>0</td>\n      <td>Everyone</td>\n      <td>December 7, 2018</td>\n      <td>4.0.3 and up</td>\n      <td>1.3</td>\n    </tr>\n    <tr>\n      <th>133633</th>\n      <td>12th Maths NCERT Solution</td>\n      <td>BOOKS_AND_REFERENCE</td>\n      <td>4.483117104</td>\n      <td>770</td>\n      <td>50,000+</td>\n      <td>37M</td>\n      <td>0</td>\n      <td>Everyone</td>\n      <td>July 24, 2017</td>\n      <td>4.3 and up</td>\n      <td>1</td>\n    </tr>\n    <tr>\n      <th>12254</th>\n      <td>12th Maths NCERT Solution</td>\n      <td>BOOKS_AND_REFERENCE</td>\n      <td>4.510233402</td>\n      <td>3469</td>\n      <td>100,000+</td>\n      <td>28M</td>\n      <td>0</td>\n      <td>Everyone</td>\n      <td>May 12, 2018</td>\n      <td>4.4 and up</td>\n      <td>2.01</td>\n    </tr>\n    <tr>\n      <th>16177</th>\n      <td>12th class maths solution in hindi Part-1</td>\n      <td>EDUCATION</td>\n      <td>4.523553371</td>\n      <td>743</td>\n      <td>100,000+</td>\n      <td>43M</td>\n      <td>0</td>\n      <td>Everyone</td>\n      <td>December 9, 2018</td>\n      <td>4.0.3 and up</td>\n      <td>1.3</td>\n    </tr>\n    <tr>\n      <th>44987</th>\n      <td>12th class maths solution in hindi Part-1</td>\n      <td>EDUCATION</td>\n      <td>4.534090996</td>\n      <td>88</td>\n      <td>10,000+</td>\n      <td>44M</td>\n      <td>0</td>\n      <td>Everyone</td>\n      <td>October 19, 2018</td>\n      <td>4.0.3 and up</td>\n      <td>1</td>\n    </tr>\n    <tr>\n      <th>263591</th>\n      <td>13!</td>\n      <td>GAME_PUZZLE</td>\n      <td>4.178947449</td>\n      <td>1235</td>\n      <td>100,000+</td>\n      <td>28M</td>\n      <td>0</td>\n      <td>Everyone</td>\n      <td>December 17, 2018</td>\n      <td>4.1 and up</td>\n      <td>1.01</td>\n    </tr>\n    <tr>\n      <th>99213</th>\n      <td>13!</td>\n      <td>GAME_PUZZLE</td>\n      <td>4.777777672</td>\n      <td>9</td>\n      <td>1,000+</td>\n      <td>21M</td>\n      <td>0</td>\n      <td>Everyone</td>\n      <td>September 24, 2018</td>\n      <td>4.0.3 and up</td>\n      <td>1.2</td>\n    </tr>\n    <tr>\n      <th>91961</th>\n      <td>2 Cars</td>\n      <td>GAME_RACING</td>\n      <td>2</td>\n      <td>1</td>\n      <td>50+</td>\n      <td>28M</td>\n      <td>0</td>\n      <td>Everyone</td>\n      <td>February 28, 2018</td>\n      <td>4.1 and up</td>\n      <td>1</td>\n    </tr>\n    <tr>\n      <th>86290</th>\n      <td>2 Cars</td>\n      <td>GAME_ADVENTURE</td>\n      <td>4.034455299</td>\n      <td>78420</td>\n      <td>1,000,000+</td>\n      <td>9.9M</td>\n      <td>0</td>\n      <td>Everyone</td>\n      <td>December 26, 2014</td>\n      <td>2.3 and up</td>\n      <td>1.0.4</td>\n    </tr>\n  </tbody>\n</table>\n</div>",
      "text/plain": "                                         App Name             Category  \\\n28513                    .Net Interview Questions            EDUCATION   \n195447                   .Net Interview Questions            EDUCATION   \n67744                              10,000 Chistes        ENTERTAINMENT   \n111316                             10,000 Chistes            LIFESTYLE   \n9293                         1000 English Stories            EDUCATION   \n108073                       1000 English Stories            EDUCATION   \n237847                 1000 Powerful Affirmations            LIFESTYLE   \n230351                 1000 Powerful Affirmations  BOOKS_AND_REFERENCE   \n175808                         1000 Praises Tamil            LIFESTYLE   \n227862                         1000 Praises Tamil  BOOKS_AND_REFERENCE   \n165690                        1000+ Hindi Stories            EDUCATION   \n14242                         1000+ Hindi Stories        ENTERTAINMENT   \n266254                          1008 Amman Pottri      MUSIC_AND_AUDIO   \n168265                          1008 Amman Pottri        ENTERTAINMENT   \n179588                          1008 Amman Pottri            LIFESTYLE   \n25768                      101 Okey - ?nternetsiz           GAME_BOARD   \n17366                      101 Okey - ?nternetsiz           GAME_BOARD   \n131629                  10th Maths NCERT Solution  BOOKS_AND_REFERENCE   \n96589                   10th Maths NCERT Solution  BOOKS_AND_REFERENCE   \n12253                   10th Maths NCERT Solution  BOOKS_AND_REFERENCE   \n82497          10th class maths solution in hindi            EDUCATION   \n215207         10th class maths solution in hindi            EDUCATION   \n133633                  12th Maths NCERT Solution  BOOKS_AND_REFERENCE   \n12254                   12th Maths NCERT Solution  BOOKS_AND_REFERENCE   \n16177   12th class maths solution in hindi Part-1            EDUCATION   \n44987   12th class maths solution in hindi Part-1            EDUCATION   \n263591                                        13!          GAME_PUZZLE   \n99213                                         13!          GAME_PUZZLE   \n91961                                      2 Cars          GAME_RACING   \n86290                                      2 Cars       GAME_ADVENTURE   \n\n             Rating Reviews    Installs  Size Price Content Rating  \\\n28513   4.599999905      35      5,000+  5.3M     0       Everyone   \n195447  4.537036896      54     10,000+   20M     0       Everyone   \n67744   4.434963703     961    100,000+  4.2M     0       Everyone   \n111316  4.361298561    6222    500,000+  4.4M     0       Everyone   \n9293     4.59296608    7137  1,000,000+  4.4M     0       Everyone   \n108073            5       2      1,000+  4.0M     0       Everyone   \n237847  4.252830029     265    100,000+  3.2M     0   Everyone 10+   \n230351         4.25       4        100+  4.9M     0           Teen   \n175808  4.810126781      79      5,000+   63M     0       Everyone   \n227862  4.719745159     157     10,000+  1.9M     0       Everyone   \n165690  4.322033882      59     10,000+  3.9M     0       Everyone   \n14242   4.514175415   12698    500,000+   12M     0       Everyone   \n266254  4.560723305     387    100,000+   19M     0       Everyone   \n168265  4.312063694    1003    100,000+   49M     0       Everyone   \n179588  4.296360493     577     50,000+   52M     0       Everyone   \n25768   4.543731213   68315  1,000,000+   23M     0           Teen   \n17366   4.400608063   10529  1,000,000+   30M     0       Everyone   \n131629            5       5         10+   30M     0       Everyone   \n96589   4.549529552    8611    500,000+   26M     0       Everyone   \n12253    4.53656292    4335    100,000+   29M     0       Everyone   \n82497   4.518574715    2638    500,000+   41M     0       Everyone   \n215207  4.421052456      38     10,000+   28M     0       Everyone   \n133633  4.483117104     770     50,000+   37M     0       Everyone   \n12254   4.510233402    3469    100,000+   28M     0       Everyone   \n16177   4.523553371     743    100,000+   43M     0       Everyone   \n44987   4.534090996      88     10,000+   44M     0       Everyone   \n263591  4.178947449    1235    100,000+   28M     0       Everyone   \n99213   4.777777672       9      1,000+   21M     0       Everyone   \n91961             2       1         50+   28M     0       Everyone   \n86290   4.034455299   78420  1,000,000+  9.9M     0       Everyone   \n\n              Last Updated Minimum Version Latest Version  \n28513    November 26, 2018      4.4 and up            1.1  \n195447    January 14, 2018      4.4 and up          1.0.9  \n67744     December 2, 2018      4.4 and up          1.0.3  \n111316      August 8, 2018      4.1 and up          1.0.1  \n9293         March 3, 2019    4.0.3 and up          1.0.8  \n108073   December 29, 2018      4.0 and up          0.0.1  \n237847    November 8, 2018      4.1 and up            2.8  \n230351   December 20, 2018      4.0 and up              1  \n175808      April 11, 2017    4.0.3 and up              1  \n227862       April 4, 2015      2.2 and up              1  \n165690   February 16, 2018    4.0.3 and up          1.0.1  \n14242    February 15, 2019      4.2 and up           5.7j  \n266254       June 23, 2018    4.0.3 and up          7.0.0  \n168265       June 26, 2015      2.3 and up            1.1  \n179588     October 6, 2018      4.0 and up            1.1  \n25768        April 2, 2019      4.1 and up          1.4.2  \n17366       March 28, 2019      4.0 and up          2.4.0  \n131629   December 16, 2018      4.1 and up            1.1  \n96589        July 24, 2017      4.3 and up              1  \n12253   September 25, 2018      4.4 and up           2.12  \n82497         June 7, 2018    4.0.3 and up              2  \n215207    December 7, 2018    4.0.3 and up            1.3  \n133633       July 24, 2017      4.3 and up              1  \n12254         May 12, 2018      4.4 and up           2.01  \n16177     December 9, 2018    4.0.3 and up            1.3  \n44987     October 19, 2018    4.0.3 and up              1  \n263591   December 17, 2018      4.1 and up           1.01  \n99213   September 24, 2018    4.0.3 and up            1.2  \n91961    February 28, 2018      4.1 and up              1  \n86290    December 26, 2014      2.3 and up          1.0.4  "
     },
     "execution_count": 32,
     "metadata": {},
     "output_type": "execute_result"
    }
   ],
   "source": [
    "df_free.sort_values('App Name', ascending=True)[df_free.duplicated(subset=['App Name'], keep=False)].head(30)"
   ]
  },
  {
   "cell_type": "markdown",
   "metadata": {},
   "source": [
    "As we can the first apps are missing names and they were just replaced with '#NAME?'. Let's remove them."
   ]
  },
  {
   "cell_type": "code",
   "execution_count": 30,
   "metadata": {},
   "outputs": [],
   "source": [
    "#Get column indexes\n",
    "indexes = df_free[df_free['App Name'] == '#NAME?'].index\n",
    "\n",
    "# Delete these row indexes from dataFrame\n",
    "df_free.drop(indexes , inplace=True)"
   ]
  },
  {
   "cell_type": "markdown",
   "metadata": {},
   "source": [
    "Now to avoid removing duplicates randomly, we can remove them based on some information like rating, number of reviews, number of installs, last updated or last version. But number of reviews seems the best, the highest number of reviews among the duplicates would give us at the same time the most reliable rating, so we'll keep the highest number of reviews."
   ]
  },
  {
   "cell_type": "code",
   "execution_count": 33,
   "metadata": {},
   "outputs": [],
   "source": [
    "#First we'll sort the data frame based on the Reviews column\n",
    "df_free.sort_values('Reviews', ascending=False, inplace=True)"
   ]
  },
  {
   "cell_type": "code",
   "execution_count": 34,
   "metadata": {},
   "outputs": [],
   "source": [
    "#After we'll drop the duplicated names leaving only the highest number of reviews app\n",
    "df_free.drop_duplicates(subset='App Name', keep='first', inplace=True)"
   ]
  },
  {
   "cell_type": "code",
   "execution_count": null,
   "metadata": {},
   "outputs": [],
   "source": []
  }
 ]
}