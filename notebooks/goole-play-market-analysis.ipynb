{
 "nbformat": 4,
 "nbformat_minor": 2,
 "metadata": {
  "language_info": {
   "name": "python",
   "codemirror_mode": {
    "name": "ipython",
    "version": 3
   },
   "version": "3.7.3-final"
  },
  "orig_nbformat": 2,
  "file_extension": ".py",
  "mimetype": "text/x-python",
  "name": "python",
  "npconvert_exporter": "python",
  "pygments_lexer": "ipython3",
  "version": 3,
  "kernelspec": {
   "name": "python37364bitbasecondabf60750d4ace4701b72d66be8319987b",
   "display_name": "Python 3.7.3 64-bit ('base': conda)"
  }
 },
 "cells": [
  {
   "cell_type": "markdown",
   "execution_count": null,
   "metadata": {},
   "outputs": [],
   "source": [
    "# Analysis goal \n",
    "- The goal for this project is to analyze Google Play's data to help understand what kinds of apps are likely to attract more users.\n",
    "- I'll focus on free apps for this analysis."
   ]
  },
  {
   "cell_type": "markdown",
   "execution_count": null,
   "metadata": {},
   "outputs": [],
   "source": [
    "## About the Data\n",
    "As of September 2019, there were [approximately 2.8 million Android apps](https://www.statista.com/statistics/266210/number-of-available-applications-in-the-google-play-store/) on Google Play.\n",
    "\n",
    "Collecting data for these many apps is not an easy task. So I decided to look for a data set that could help me. After some search I found two promising data sets:\n",
    "- [A data set](https://www.kaggle.com/lava18/google-play-store-apps) with 10k apps collected on february 2019\n",
    "- And [a data set](https://www.kaggle.com/lava18/google-play-store-apps) with 267k apps collected on april 2019\n",
    "\n",
    "\n",
    "After some thought I decided to use the last one, because it has more data and was collected more recently.\n"
   ]
  },
  {
   "cell_type": "markdown",
   "execution_count": null,
   "metadata": {},
   "outputs": [],
   "source": [
    "## Opening the Data"
   ]
  },
  {
   "cell_type": "code",
   "execution_count": 1,
   "metadata": {},
   "outputs": [],
   "source": [
    "from csv import reader\n",
    "\n",
    "### The Google Play data set ###\n",
    "opened_file = open('..\\\\data\\\\raw\\\\Google-Playstore-Full.csv')\n",
    "read_file = reader(opened_file)\n",
    "google_play = list(read_file)\n",
    "google_play_header = google_play[0]\n",
    "google_play_data = google_play[1:]"
   ]
  },
  {
   "cell_type": "markdown",
   "execution_count": null,
   "metadata": {},
   "outputs": [],
   "source": [
    "## Exploring the Data\n",
    "To make it easier to explore the data set I created 3 functions that I will reuse throughout the project."
   ]
  },
  {
   "cell_type": "code",
   "execution_count": 2,
   "metadata": {},
   "outputs": [],
   "source": [
    "def print_header(header):\n",
    "    print(header)\n",
    "    print('\\n')"
   ]
  },
  {
   "cell_type": "code",
   "execution_count": 3,
   "metadata": {},
   "outputs": [],
   "source": [
    "def print_data(data, start = 0, end = 5):\n",
    "    data_slice = data[start:end]\n",
    "    for row in data_slice:\n",
    "        print(row)\n",
    "        print('\\n')"
   ]
  },
  {
   "cell_type": "code",
   "execution_count": 5,
   "metadata": {},
   "outputs": [],
   "source": [
    "def print_data_info(data):\n",
    "    print('Number of rows:', len(data))\n",
    "    print('Number of columns:', len(data[0]))"
   ]
  },
  {
   "cell_type": "code",
   "execution_count": 6,
   "metadata": {},
   "outputs": [],
   "source": [
    "def print_data_overview():\n",
    "    print_header(google_play_header)\n",
    "    print_data(google_play_data)\n",
    "    print_data_info(google_play_data)   "
   ]
  },
  {
   "cell_type": "code",
   "execution_count": 7,
   "metadata": {},
   "outputs": [
    {
     "name": "stdout",
     "output_type": "stream",
     "text": "['App Name', 'Category', 'Rating', 'Reviews', 'Installs', 'Size', 'Price', 'Content Rating', 'Last Updated', 'Minimum Version', 'Latest Version', '', '', '', '']\n\n\n['DoorDash - Food Delivery', 'FOOD_AND_DRINK', '4.548561573', '305034', '5,000,000+', 'Varies with device', '0', 'Everyone', 'March 29, 2019', 'Varies with device', 'Varies with device', '', '', '', '']\n\n\n['TripAdvisor Hotels Flights Restaurants Attractions', 'TRAVEL_AND_LOCAL', '4.400671482', '1207922', '100,000,000+', 'Varies with device', '0', 'Everyone', 'March 29, 2019', 'Varies with device', 'Varies with device', '', '', '', '']\n\n\n['Peapod', 'SHOPPING', '3.656329393', '1967', '100,000+', '1.4M', '0', 'Everyone', 'September 20, 2018', '5.0 and up', '2.2.0', '', '', '', '']\n\n\n['foodpanda - Local Food Delivery', 'FOOD_AND_DRINK', '4.107232571', '389154', '10,000,000+', '16M', '0', 'Everyone', 'March 22, 2019', '4.2 and up', '4.18.2', '', '', '', '']\n\n\n['My CookBook Pro (Ad Free)', 'FOOD_AND_DRINK', '4.647752285', '2291', '10,000+', 'Varies with device', '$5.99', 'Everyone', 'April 1, 2019', 'Varies with device', 'Varies with device', '', '', '', '']\n\n\nNumber of rows: 267052\nNumber of columns: 15\n"
    }
   ],
   "source": [
    "print_data_overview()"
   ]
  },
  {
   "cell_type": "markdown",
   "execution_count": null,
   "metadata": {},
   "outputs": [],
   "source": [
    "## Data Wrangling\n",
    "\n",
    "After a quick glance we can get some useful information about this data, like the columns that can be important ('Category', 'Rating', 'Reviews', 'Installs', 'Price', 'Content Rating').\n",
    "\n",
    "If we pay a little more attention, we can see that the header and rows are missing the last 4 values. Since the header is mmissing too any information in these fields are meaningless. So we can start fixing that."
   ]
  },
  {
   "cell_type": "markdown",
   "execution_count": null,
   "metadata": {},
   "outputs": [],
   "source": [
    "### Drop 4 last missing values"
   ]
  },
  {
   "cell_type": "code",
   "execution_count": 8,
   "metadata": {},
   "outputs": [],
   "source": [
    "number_of_items_to_delete = 4\n",
    "\n",
    "del google_play_header[-number_of_items_to_delete:]\n",
    "\n",
    "for row in google_play_data:\n",
    "    del row[-number_of_items_to_delete:]"
   ]
  },
  {
   "cell_type": "code",
   "execution_count": 9,
   "metadata": {},
   "outputs": [
    {
     "name": "stdout",
     "output_type": "stream",
     "text": "['App Name', 'Category', 'Rating', 'Reviews', 'Installs', 'Size', 'Price', 'Content Rating', 'Last Updated', 'Minimum Version', 'Latest Version']\n\n\n['DoorDash - Food Delivery', 'FOOD_AND_DRINK', '4.548561573', '305034', '5,000,000+', 'Varies with device', '0', 'Everyone', 'March 29, 2019', 'Varies with device', 'Varies with device']\n\n\n['TripAdvisor Hotels Flights Restaurants Attractions', 'TRAVEL_AND_LOCAL', '4.400671482', '1207922', '100,000,000+', 'Varies with device', '0', 'Everyone', 'March 29, 2019', 'Varies with device', 'Varies with device']\n\n\n['Peapod', 'SHOPPING', '3.656329393', '1967', '100,000+', '1.4M', '0', 'Everyone', 'September 20, 2018', '5.0 and up', '2.2.0']\n\n\n['foodpanda - Local Food Delivery', 'FOOD_AND_DRINK', '4.107232571', '389154', '10,000,000+', '16M', '0', 'Everyone', 'March 22, 2019', '4.2 and up', '4.18.2']\n\n\n['My CookBook Pro (Ad Free)', 'FOOD_AND_DRINK', '4.647752285', '2291', '10,000+', 'Varies with device', '$5.99', 'Everyone', 'April 1, 2019', 'Varies with device', 'Varies with device']\n\n\nNumber of rows: 267052\nNumber of columns: 11\n"
    }
   ],
   "source": [
    "print_data_overview()"
   ]
  },
  {
   "cell_type": "markdown",
   "execution_count": null,
   "metadata": {},
   "outputs": [],
   "source": [
    "### Find duplicates\n",
    "\n",
    "So here is where I hit a wall using pure python, to check for duplicates I'd have to do something like:\n",
    "```python\n",
    "duplicate_apps = []\n",
    "unique_apps = []\n",
    "\n",
    "for app in google_play_data:\n",
    "    name = app[0]\n",
    "    if name in unique_apps:\n",
    "        duplicate_apps.append(name)\n",
    "    else:\n",
    "        unique_apps.append(name)\n",
    "```\n",
    "This would work just fine for a small data set. But in this data set it just takes too long, so for now I'll start using pandas"
   ]
  },
  {
   "cell_type": "code",
   "execution_count": 10,
   "metadata": {},
   "outputs": [],
   "source": [
    "import pandas as pd"
   ]
  },
  {
   "cell_type": "code",
   "execution_count": 11,
   "metadata": {},
   "outputs": [],
   "source": [
    "df = pd.read_csv('..\\\\data\\\\raw\\\\Google-Playstore-Full.csv', low_memory=False)"
   ]
  },
  {
   "cell_type": "code",
   "execution_count": 12,
   "metadata": {},
   "outputs": [
    {
     "data": {
      "text/html": "<div>\n<style scoped>\n    .dataframe tbody tr th:only-of-type {\n        vertical-align: middle;\n    }\n\n    .dataframe tbody tr th {\n        vertical-align: top;\n    }\n\n    .dataframe thead th {\n        text-align: right;\n    }\n</style>\n<table border=\"1\" class=\"dataframe\">\n  <thead>\n    <tr style=\"text-align: right;\">\n      <th></th>\n      <th>App Name</th>\n      <th>Category</th>\n      <th>Rating</th>\n      <th>Reviews</th>\n      <th>Installs</th>\n      <th>Size</th>\n      <th>Price</th>\n      <th>Content Rating</th>\n      <th>Last Updated</th>\n      <th>Minimum Version</th>\n      <th>Latest Version</th>\n      <th>Unnamed: 11</th>\n      <th>Unnamed: 12</th>\n      <th>Unnamed: 13</th>\n      <th>Unnamed: 14</th>\n    </tr>\n  </thead>\n  <tbody>\n    <tr>\n      <th>0</th>\n      <td>DoorDash - Food Delivery</td>\n      <td>FOOD_AND_DRINK</td>\n      <td>4.548561573</td>\n      <td>305034</td>\n      <td>5,000,000+</td>\n      <td>Varies with device</td>\n      <td>0</td>\n      <td>Everyone</td>\n      <td>March 29, 2019</td>\n      <td>Varies with device</td>\n      <td>Varies with device</td>\n      <td>NaN</td>\n      <td>NaN</td>\n      <td>NaN</td>\n      <td>NaN</td>\n    </tr>\n    <tr>\n      <th>1</th>\n      <td>TripAdvisor Hotels Flights Restaurants Attract...</td>\n      <td>TRAVEL_AND_LOCAL</td>\n      <td>4.400671482</td>\n      <td>1207922</td>\n      <td>100,000,000+</td>\n      <td>Varies with device</td>\n      <td>0</td>\n      <td>Everyone</td>\n      <td>March 29, 2019</td>\n      <td>Varies with device</td>\n      <td>Varies with device</td>\n      <td>NaN</td>\n      <td>NaN</td>\n      <td>NaN</td>\n      <td>NaN</td>\n    </tr>\n    <tr>\n      <th>2</th>\n      <td>Peapod</td>\n      <td>SHOPPING</td>\n      <td>3.656329393</td>\n      <td>1967</td>\n      <td>100,000+</td>\n      <td>1.4M</td>\n      <td>0</td>\n      <td>Everyone</td>\n      <td>September 20, 2018</td>\n      <td>5.0 and up</td>\n      <td>2.2.0</td>\n      <td>NaN</td>\n      <td>NaN</td>\n      <td>NaN</td>\n      <td>NaN</td>\n    </tr>\n    <tr>\n      <th>3</th>\n      <td>foodpanda - Local Food Delivery</td>\n      <td>FOOD_AND_DRINK</td>\n      <td>4.107232571</td>\n      <td>389154</td>\n      <td>10,000,000+</td>\n      <td>16M</td>\n      <td>0</td>\n      <td>Everyone</td>\n      <td>March 22, 2019</td>\n      <td>4.2 and up</td>\n      <td>4.18.2</td>\n      <td>NaN</td>\n      <td>NaN</td>\n      <td>NaN</td>\n      <td>NaN</td>\n    </tr>\n    <tr>\n      <th>4</th>\n      <td>My CookBook Pro (Ad Free)</td>\n      <td>FOOD_AND_DRINK</td>\n      <td>4.647752285</td>\n      <td>2291</td>\n      <td>10,000+</td>\n      <td>Varies with device</td>\n      <td>$5.99</td>\n      <td>Everyone</td>\n      <td>April 1, 2019</td>\n      <td>Varies with device</td>\n      <td>Varies with device</td>\n      <td>NaN</td>\n      <td>NaN</td>\n      <td>NaN</td>\n      <td>NaN</td>\n    </tr>\n  </tbody>\n</table>\n</div>",
      "text/plain": "                                            App Name          Category  \\\n0                           DoorDash - Food Delivery    FOOD_AND_DRINK   \n1  TripAdvisor Hotels Flights Restaurants Attract...  TRAVEL_AND_LOCAL   \n2                                             Peapod          SHOPPING   \n3                    foodpanda - Local Food Delivery    FOOD_AND_DRINK   \n4                          My CookBook Pro (Ad Free)    FOOD_AND_DRINK   \n\n        Rating  Reviews      Installs                Size  Price  \\\n0  4.548561573   305034    5,000,000+  Varies with device      0   \n1  4.400671482  1207922  100,000,000+  Varies with device      0   \n2  3.656329393     1967      100,000+                1.4M      0   \n3  4.107232571   389154   10,000,000+                 16M      0   \n4  4.647752285     2291       10,000+  Varies with device  $5.99   \n\n  Content Rating        Last Updated     Minimum Version      Latest Version  \\\n0       Everyone      March 29, 2019  Varies with device  Varies with device   \n1       Everyone      March 29, 2019  Varies with device  Varies with device   \n2       Everyone  September 20, 2018          5.0 and up               2.2.0   \n3       Everyone      March 22, 2019          4.2 and up              4.18.2   \n4       Everyone       April 1, 2019  Varies with device  Varies with device   \n\n  Unnamed: 11 Unnamed: 12 Unnamed: 13  Unnamed: 14  \n0         NaN         NaN         NaN          NaN  \n1         NaN         NaN         NaN          NaN  \n2         NaN         NaN         NaN          NaN  \n3         NaN         NaN         NaN          NaN  \n4         NaN         NaN         NaN          NaN  "
     },
     "execution_count": 12,
     "metadata": {},
     "output_type": "execute_result"
    }
   ],
   "source": [
    "df.head()"
   ]
  },
  {
   "cell_type": "code",
   "execution_count": 13,
   "metadata": {},
   "outputs": [],
   "source": [
    "df.drop(columns=['Unnamed: 11', 'Unnamed: 12', 'Unnamed: 13', 'Unnamed: 14'], inplace=True)"
   ]
  },
  {
   "cell_type": "markdown",
   "execution_count": null,
   "metadata": {},
   "outputs": [],
   "source": [
    "### Filtering only free apps\n",
    "\n",
    "For this we'll focus on the price column, looking closer we can see a price like this '$5.99', which indicates that the entire column is composed of strings. Knowwing this we can create a function to transform the price column in number.\n"
   ]
  },
  {
   "cell_type": "code",
   "execution_count": 14,
   "metadata": {},
   "outputs": [],
   "source": [
    "def price_to_number(price):\n",
    "    price = price.replace('$', '')\n",
    "    return float(price)"
   ]
  },
  {
   "cell_type": "markdown",
   "execution_count": null,
   "metadata": {},
   "outputs": [],
   "source": [
    "Let's apply this function to the price column"
   ]
  },
  {
   "cell_type": "code",
   "execution_count": 15,
   "metadata": {},
   "outputs": [
    {
     "ename": "ValueError",
     "evalue": "could not convert string to float: '2.4M'",
     "output_type": "error",
     "traceback": [
      "\u001b[1;31m---------------------------------------------------------------------------\u001b[0m",
      "\u001b[1;31mValueError\u001b[0m                                Traceback (most recent call last)",
      "\u001b[1;32m<ipython-input-15-768070ca94b7>\u001b[0m in \u001b[0;36m<module>\u001b[1;34m\u001b[0m\n\u001b[1;32m----> 1\u001b[1;33m \u001b[0mdf\u001b[0m\u001b[1;33m[\u001b[0m\u001b[1;34m'Price'\u001b[0m\u001b[1;33m]\u001b[0m\u001b[1;33m.\u001b[0m\u001b[0mapply\u001b[0m\u001b[1;33m(\u001b[0m\u001b[0mprice_to_number\u001b[0m\u001b[1;33m)\u001b[0m\u001b[1;33m\u001b[0m\u001b[1;33m\u001b[0m\u001b[0m\n\u001b[0m",
      "\u001b[1;32m~\\Anaconda3\\lib\\site-packages\\pandas\\core\\series.py\u001b[0m in \u001b[0;36mapply\u001b[1;34m(self, func, convert_dtype, args, **kwds)\u001b[0m\n\u001b[0;32m   3589\u001b[0m             \u001b[1;32melse\u001b[0m\u001b[1;33m:\u001b[0m\u001b[1;33m\u001b[0m\u001b[1;33m\u001b[0m\u001b[0m\n\u001b[0;32m   3590\u001b[0m                 \u001b[0mvalues\u001b[0m \u001b[1;33m=\u001b[0m \u001b[0mself\u001b[0m\u001b[1;33m.\u001b[0m\u001b[0mastype\u001b[0m\u001b[1;33m(\u001b[0m\u001b[0mobject\u001b[0m\u001b[1;33m)\u001b[0m\u001b[1;33m.\u001b[0m\u001b[0mvalues\u001b[0m\u001b[1;33m\u001b[0m\u001b[1;33m\u001b[0m\u001b[0m\n\u001b[1;32m-> 3591\u001b[1;33m                 \u001b[0mmapped\u001b[0m \u001b[1;33m=\u001b[0m \u001b[0mlib\u001b[0m\u001b[1;33m.\u001b[0m\u001b[0mmap_infer\u001b[0m\u001b[1;33m(\u001b[0m\u001b[0mvalues\u001b[0m\u001b[1;33m,\u001b[0m \u001b[0mf\u001b[0m\u001b[1;33m,\u001b[0m \u001b[0mconvert\u001b[0m\u001b[1;33m=\u001b[0m\u001b[0mconvert_dtype\u001b[0m\u001b[1;33m)\u001b[0m\u001b[1;33m\u001b[0m\u001b[1;33m\u001b[0m\u001b[0m\n\u001b[0m\u001b[0;32m   3592\u001b[0m \u001b[1;33m\u001b[0m\u001b[0m\n\u001b[0;32m   3593\u001b[0m         \u001b[1;32mif\u001b[0m \u001b[0mlen\u001b[0m\u001b[1;33m(\u001b[0m\u001b[0mmapped\u001b[0m\u001b[1;33m)\u001b[0m \u001b[1;32mand\u001b[0m \u001b[0misinstance\u001b[0m\u001b[1;33m(\u001b[0m\u001b[0mmapped\u001b[0m\u001b[1;33m[\u001b[0m\u001b[1;36m0\u001b[0m\u001b[1;33m]\u001b[0m\u001b[1;33m,\u001b[0m \u001b[0mSeries\u001b[0m\u001b[1;33m)\u001b[0m\u001b[1;33m:\u001b[0m\u001b[1;33m\u001b[0m\u001b[1;33m\u001b[0m\u001b[0m\n",
      "\u001b[1;32mpandas/_libs/lib.pyx\u001b[0m in \u001b[0;36mpandas._libs.lib.map_infer\u001b[1;34m()\u001b[0m\n",
      "\u001b[1;32m<ipython-input-14-ee0237c1f05f>\u001b[0m in \u001b[0;36mprice_to_number\u001b[1;34m(price)\u001b[0m\n\u001b[0;32m      1\u001b[0m \u001b[1;32mdef\u001b[0m \u001b[0mprice_to_number\u001b[0m\u001b[1;33m(\u001b[0m\u001b[0mprice\u001b[0m\u001b[1;33m)\u001b[0m\u001b[1;33m:\u001b[0m\u001b[1;33m\u001b[0m\u001b[1;33m\u001b[0m\u001b[0m\n\u001b[0;32m      2\u001b[0m     \u001b[0mprice\u001b[0m \u001b[1;33m=\u001b[0m \u001b[0mprice\u001b[0m\u001b[1;33m.\u001b[0m\u001b[0mreplace\u001b[0m\u001b[1;33m(\u001b[0m\u001b[1;34m'$'\u001b[0m\u001b[1;33m,\u001b[0m \u001b[1;34m''\u001b[0m\u001b[1;33m)\u001b[0m\u001b[1;33m\u001b[0m\u001b[1;33m\u001b[0m\u001b[0m\n\u001b[1;32m----> 3\u001b[1;33m     \u001b[1;32mreturn\u001b[0m \u001b[0mfloat\u001b[0m\u001b[1;33m(\u001b[0m\u001b[0mprice\u001b[0m\u001b[1;33m)\u001b[0m\u001b[1;33m\u001b[0m\u001b[1;33m\u001b[0m\u001b[0m\n\u001b[0m",
      "\u001b[1;31mValueError\u001b[0m: could not convert string to float: '2.4M'"
     ]
    }
   ],
   "source": [
    "df['Price'].apply(price_to_number)"
   ]
  },
  {
   "cell_type": "markdown",
   "execution_count": null,
   "metadata": {},
   "outputs": [],
   "source": [
    "Let's check what's going on"
   ]
  },
  {
   "cell_type": "code",
   "execution_count": 16,
   "metadata": {},
   "outputs": [
    {
     "data": {
      "text/html": "<div>\n<style scoped>\n    .dataframe tbody tr th:only-of-type {\n        vertical-align: middle;\n    }\n\n    .dataframe tbody tr th {\n        vertical-align: top;\n    }\n\n    .dataframe thead th {\n        text-align: right;\n    }\n</style>\n<table border=\"1\" class=\"dataframe\">\n  <thead>\n    <tr style=\"text-align: right;\">\n      <th></th>\n      <th>App Name</th>\n      <th>Category</th>\n      <th>Rating</th>\n      <th>Reviews</th>\n      <th>Installs</th>\n      <th>Size</th>\n      <th>Price</th>\n      <th>Content Rating</th>\n      <th>Last Updated</th>\n      <th>Minimum Version</th>\n      <th>Latest Version</th>\n    </tr>\n  </thead>\n  <tbody>\n    <tr>\n      <th>13504</th>\n      <td>Never have I ever 18+</td>\n      <td>)</td>\n      <td>GAME_STRATEGY</td>\n      <td>4</td>\n      <td>6</td>\n      <td>100+</td>\n      <td>2.4M</td>\n      <td>$0.99</td>\n      <td>Mature 17+</td>\n      <td>December 30, 2018</td>\n      <td>4.0.3 and up</td>\n    </tr>\n    <tr>\n      <th>32229</th>\n      <td>Old-time Radio presents</td>\n      <td>NaN</td>\n      <td>ENTERTAINMENT</td>\n      <td>4</td>\n      <td>20</td>\n      <td>10,000+</td>\n      <td>3.1M</td>\n      <td>0</td>\n      <td>Everyone</td>\n      <td>October 16, 2018</td>\n      <td>4.1 and up</td>\n    </tr>\n    <tr>\n      <th>48438</th>\n      <td>Mojo Times: Bihar Hindi Video News</td>\n      <td>Breaking News</td>\n      <td>NEWS_AND_MAGAZINES</td>\n      <td>4.775640965</td>\n      <td>156</td>\n      <td>10,000+</td>\n      <td>6.9M</td>\n      <td>0</td>\n      <td>Teen</td>\n      <td>March 30, 2019</td>\n      <td>4.1 and up</td>\n    </tr>\n    <tr>\n      <th>113151</th>\n      <td>Steins</td>\n      <td>Gate ALARM</td>\n      <td>ENTERTAINMENT</td>\n      <td>4.716867447</td>\n      <td>166</td>\n      <td>500+</td>\n      <td>67M</td>\n      <td>$0.99</td>\n      <td>Teen</td>\n      <td>November 12, 2018</td>\n      <td>4.4 and up</td>\n    </tr>\n    <tr>\n      <th>125479</th>\n      <td>2-6 Ya? E?itici �ocuk Zeka Oyunlar?</td>\n      <td>Alfabe �?ren</td>\n      <td>EDUCATION</td>\n      <td>5</td>\n      <td>1</td>\n      <td>10+</td>\n      <td>57M</td>\n      <td>$2.49</td>\n      <td>Everyone</td>\n      <td>October 31, 2017</td>\n      <td>2.3 and up</td>\n    </tr>\n    <tr>\n      <th>125480</th>\n      <td>2-6 Ya? E?itici �ocuk Zeka Oyunlar?</td>\n      <td>T�rk Alfabesi</td>\n      <td>EDUCATION</td>\n      <td>4.333333492</td>\n      <td>54</td>\n      <td>50,000+</td>\n      <td>43M</td>\n      <td>0</td>\n      <td>Everyone</td>\n      <td>October 31, 2017</td>\n      <td>2.3 and up</td>\n    </tr>\n    <tr>\n      <th>165230</th>\n      <td>Shytter -Twitter client</td>\n      <td>not notified you follow -</td>\n      <td>SOCIAL</td>\n      <td>4.098591328</td>\n      <td>71</td>\n      <td>5,000+</td>\n      <td>7.7M</td>\n      <td>0</td>\n      <td>Everyone</td>\n      <td>March 30, 2019</td>\n      <td>4.1 and up</td>\n    </tr>\n    <tr>\n      <th>168914</th>\n      <td>CorreosTrack 2.0 (Correos de M�xico</td>\n      <td>Mexpost)</td>\n      <td>PRODUCTIVITY</td>\n      <td>4.389830589</td>\n      <td>59</td>\n      <td>10,000+</td>\n      <td>16M</td>\n      <td>0</td>\n      <td>Everyone</td>\n      <td>December 21, 2018</td>\n      <td>4.1 and up</td>\n    </tr>\n    <tr>\n      <th>180371</th>\n      <td>eShagird - Online academy</td>\n      <td>ETEA &amp; MDCAT</td>\n      <td>EDUCATION</td>\n      <td>4.504273415</td>\n      <td>117</td>\n      <td>10,000+</td>\n      <td>6.9M</td>\n      <td>0</td>\n      <td>Everyone</td>\n      <td>March 2, 2019</td>\n      <td>4.0 and up</td>\n    </tr>\n    <tr>\n      <th>190759</th>\n      <td>Friend in Iceland</td>\n      <td>Tour Guide</td>\n      <td>TRAVEL_AND_LOCAL</td>\n      <td>5</td>\n      <td>6</td>\n      <td>1,000+</td>\n      <td>27M</td>\n      <td>0</td>\n      <td>Everyone</td>\n      <td>October 16, 2017</td>\n      <td>4.0 and up</td>\n    </tr>\n    <tr>\n      <th>193869</th>\n      <td>Equalizer &amp; Volume Booster</td>\n      <td>Speaker Pro 2019</td>\n      <td>MUSIC_AND_AUDIO</td>\n      <td>4.632093906</td>\n      <td>511</td>\n      <td>10,000+</td>\n      <td>2.5M</td>\n      <td>0</td>\n      <td>Everyone</td>\n      <td>September 25, 2018</td>\n      <td>2.3 and up</td>\n    </tr>\n    <tr>\n      <th>194165</th>\n      <td>Muslim Baby Names</td>\n      <td>Islamic Name Boy &amp; Girl+Meaning</td>\n      <td>LIFESTYLE</td>\n      <td>4.388349533</td>\n      <td>927</td>\n      <td>100,000+</td>\n      <td>3.7M</td>\n      <td>0</td>\n      <td>Everyone</td>\n      <td>May 23, 2018</td>\n      <td>4.0 and up</td>\n    </tr>\n    <tr>\n      <th>257773</th>\n      <td>High Volume Booster</td>\n      <td>super loud speaker booster</td>\n      <td>MUSIC_AND_AUDIO</td>\n      <td>4.400000095</td>\n      <td>10</td>\n      <td>1,000+</td>\n      <td>3.5M</td>\n      <td>0</td>\n      <td>Everyone</td>\n      <td>November 7, 2018</td>\n      <td>4.0 and up</td>\n    </tr>\n  </tbody>\n</table>\n</div>",
      "text/plain": "                                   App Name                          Category  \\\n13504                Never have I ever 18+                                  )   \n32229               Old-time Radio presents                               NaN   \n48438    Mojo Times: Bihar Hindi Video News                     Breaking News   \n113151                               Steins                        Gate ALARM   \n125479  2-6 Ya? E?itici �ocuk Zeka Oyunlar?                      Alfabe �?ren   \n125480  2-6 Ya? E?itici �ocuk Zeka Oyunlar?                     T�rk Alfabesi   \n165230              Shytter -Twitter client         not notified you follow -   \n168914  CorreosTrack 2.0 (Correos de M�xico                          Mexpost)   \n180371            eShagird - Online academy                      ETEA & MDCAT   \n190759                    Friend in Iceland                        Tour Guide   \n193869          Equalizer & Volume Booster                   Speaker Pro 2019   \n194165                    Muslim Baby Names   Islamic Name Boy & Girl+Meaning   \n257773                 High Volume Booster         super loud speaker booster   \n\n                    Rating      Reviews Installs      Size Price  \\\n13504        GAME_STRATEGY            4        6      100+  2.4M   \n32229        ENTERTAINMENT            4       20   10,000+  3.1M   \n48438   NEWS_AND_MAGAZINES  4.775640965      156   10,000+  6.9M   \n113151       ENTERTAINMENT  4.716867447      166      500+   67M   \n125479           EDUCATION            5        1       10+   57M   \n125480           EDUCATION  4.333333492       54   50,000+   43M   \n165230              SOCIAL  4.098591328       71    5,000+  7.7M   \n168914        PRODUCTIVITY  4.389830589       59   10,000+   16M   \n180371           EDUCATION  4.504273415      117   10,000+  6.9M   \n190759    TRAVEL_AND_LOCAL            5        6    1,000+   27M   \n193869     MUSIC_AND_AUDIO  4.632093906      511   10,000+  2.5M   \n194165           LIFESTYLE  4.388349533      927  100,000+  3.7M   \n257773     MUSIC_AND_AUDIO  4.400000095       10    1,000+  3.5M   \n\n       Content Rating Last Updated     Minimum Version Latest Version  \n13504           $0.99   Mature 17+   December 30, 2018   4.0.3 and up  \n32229               0     Everyone    October 16, 2018     4.1 and up  \n48438               0         Teen      March 30, 2019     4.1 and up  \n113151          $0.99         Teen   November 12, 2018     4.4 and up  \n125479          $2.49     Everyone    October 31, 2017     2.3 and up  \n125480              0     Everyone    October 31, 2017     2.3 and up  \n165230              0     Everyone      March 30, 2019     4.1 and up  \n168914              0     Everyone   December 21, 2018     4.1 and up  \n180371              0     Everyone       March 2, 2019     4.0 and up  \n190759              0     Everyone    October 16, 2017     4.0 and up  \n193869              0     Everyone  September 25, 2018     2.3 and up  \n194165              0     Everyone        May 23, 2018     4.0 and up  \n257773              0     Everyone    November 7, 2018     4.0 and up  "
     },
     "execution_count": 16,
     "metadata": {},
     "output_type": "execute_result"
    }
   ],
   "source": [
    "df[df['Price'].str.contains(pat = 'M')]"
   ]
  },
  {
   "cell_type": "markdown",
   "execution_count": null,
   "metadata": {},
   "outputs": [],
   "source": [
    "Some kind of shift happened to the data on these rows. As consequence of this error, we'll delete these rows."
   ]
  },
  {
   "cell_type": "code",
   "execution_count": 17,
   "metadata": {},
   "outputs": [],
   "source": [
    "#Get column indexes\n",
    "indexes = df[df['Price'].str.contains(pat = 'M')].index\n",
    "\n",
    "# Delete these row indexes from dataFrame\n",
    "df.drop(indexes , inplace=True)"
   ]
  },
  {
   "cell_type": "markdown",
   "execution_count": null,
   "metadata": {},
   "outputs": [],
   "source": [
    "Let's try to apply our price_to_number function again"
   ]
  },
  {
   "cell_type": "code",
   "execution_count": 18,
   "metadata": {},
   "outputs": [
    {
     "ename": "ValueError",
     "evalue": "could not convert string to float: 'Varies with device'",
     "output_type": "error",
     "traceback": [
      "\u001b[1;31m---------------------------------------------------------------------------\u001b[0m",
      "\u001b[1;31mValueError\u001b[0m                                Traceback (most recent call last)",
      "\u001b[1;32m<ipython-input-18-8429a635357a>\u001b[0m in \u001b[0;36m<module>\u001b[1;34m\u001b[0m\n\u001b[1;32m----> 1\u001b[1;33m \u001b[0mdf\u001b[0m\u001b[1;33m[\u001b[0m\u001b[1;34m'Price'\u001b[0m\u001b[1;33m]\u001b[0m \u001b[1;33m=\u001b[0m \u001b[0mdf\u001b[0m\u001b[1;33m[\u001b[0m\u001b[1;34m'Price'\u001b[0m\u001b[1;33m]\u001b[0m\u001b[1;33m.\u001b[0m\u001b[0mapply\u001b[0m\u001b[1;33m(\u001b[0m\u001b[0mprice_to_number\u001b[0m\u001b[1;33m)\u001b[0m\u001b[1;33m\u001b[0m\u001b[1;33m\u001b[0m\u001b[0m\n\u001b[0m",
      "\u001b[1;32m~\\Anaconda3\\lib\\site-packages\\pandas\\core\\series.py\u001b[0m in \u001b[0;36mapply\u001b[1;34m(self, func, convert_dtype, args, **kwds)\u001b[0m\n\u001b[0;32m   3589\u001b[0m             \u001b[1;32melse\u001b[0m\u001b[1;33m:\u001b[0m\u001b[1;33m\u001b[0m\u001b[1;33m\u001b[0m\u001b[0m\n\u001b[0;32m   3590\u001b[0m                 \u001b[0mvalues\u001b[0m \u001b[1;33m=\u001b[0m \u001b[0mself\u001b[0m\u001b[1;33m.\u001b[0m\u001b[0mastype\u001b[0m\u001b[1;33m(\u001b[0m\u001b[0mobject\u001b[0m\u001b[1;33m)\u001b[0m\u001b[1;33m.\u001b[0m\u001b[0mvalues\u001b[0m\u001b[1;33m\u001b[0m\u001b[1;33m\u001b[0m\u001b[0m\n\u001b[1;32m-> 3591\u001b[1;33m                 \u001b[0mmapped\u001b[0m \u001b[1;33m=\u001b[0m \u001b[0mlib\u001b[0m\u001b[1;33m.\u001b[0m\u001b[0mmap_infer\u001b[0m\u001b[1;33m(\u001b[0m\u001b[0mvalues\u001b[0m\u001b[1;33m,\u001b[0m \u001b[0mf\u001b[0m\u001b[1;33m,\u001b[0m \u001b[0mconvert\u001b[0m\u001b[1;33m=\u001b[0m\u001b[0mconvert_dtype\u001b[0m\u001b[1;33m)\u001b[0m\u001b[1;33m\u001b[0m\u001b[1;33m\u001b[0m\u001b[0m\n\u001b[0m\u001b[0;32m   3592\u001b[0m \u001b[1;33m\u001b[0m\u001b[0m\n\u001b[0;32m   3593\u001b[0m         \u001b[1;32mif\u001b[0m \u001b[0mlen\u001b[0m\u001b[1;33m(\u001b[0m\u001b[0mmapped\u001b[0m\u001b[1;33m)\u001b[0m \u001b[1;32mand\u001b[0m \u001b[0misinstance\u001b[0m\u001b[1;33m(\u001b[0m\u001b[0mmapped\u001b[0m\u001b[1;33m[\u001b[0m\u001b[1;36m0\u001b[0m\u001b[1;33m]\u001b[0m\u001b[1;33m,\u001b[0m \u001b[0mSeries\u001b[0m\u001b[1;33m)\u001b[0m\u001b[1;33m:\u001b[0m\u001b[1;33m\u001b[0m\u001b[1;33m\u001b[0m\u001b[0m\n",
      "\u001b[1;32mpandas/_libs/lib.pyx\u001b[0m in \u001b[0;36mpandas._libs.lib.map_infer\u001b[1;34m()\u001b[0m\n",
      "\u001b[1;32m<ipython-input-14-ee0237c1f05f>\u001b[0m in \u001b[0;36mprice_to_number\u001b[1;34m(price)\u001b[0m\n\u001b[0;32m      1\u001b[0m \u001b[1;32mdef\u001b[0m \u001b[0mprice_to_number\u001b[0m\u001b[1;33m(\u001b[0m\u001b[0mprice\u001b[0m\u001b[1;33m)\u001b[0m\u001b[1;33m:\u001b[0m\u001b[1;33m\u001b[0m\u001b[1;33m\u001b[0m\u001b[0m\n\u001b[0;32m      2\u001b[0m     \u001b[0mprice\u001b[0m \u001b[1;33m=\u001b[0m \u001b[0mprice\u001b[0m\u001b[1;33m.\u001b[0m\u001b[0mreplace\u001b[0m\u001b[1;33m(\u001b[0m\u001b[1;34m'$'\u001b[0m\u001b[1;33m,\u001b[0m \u001b[1;34m''\u001b[0m\u001b[1;33m)\u001b[0m\u001b[1;33m\u001b[0m\u001b[1;33m\u001b[0m\u001b[0m\n\u001b[1;32m----> 3\u001b[1;33m     \u001b[1;32mreturn\u001b[0m \u001b[0mfloat\u001b[0m\u001b[1;33m(\u001b[0m\u001b[0mprice\u001b[0m\u001b[1;33m)\u001b[0m\u001b[1;33m\u001b[0m\u001b[1;33m\u001b[0m\u001b[0m\n\u001b[0m",
      "\u001b[1;31mValueError\u001b[0m: could not convert string to float: 'Varies with device'"
     ]
    }
   ],
   "source": [
    "df['Price'] = df['Price'].apply(price_to_number)"
   ]
  },
  {
   "cell_type": "markdown",
   "execution_count": 0,
   "metadata": {},
   "outputs": [],
   "source": [
    "After trying to apply our function again, we just realized that we can do a better job by just getting all rows where price is '0', this will also fix problematic rows at the same time."
   ]
  },
  {
   "cell_type": "code",
   "execution_count": 20,
   "metadata": {},
   "outputs": [],
   "source": [
    "df_free = df[df['Price'] == '0']"
   ]
  }
 ]
}