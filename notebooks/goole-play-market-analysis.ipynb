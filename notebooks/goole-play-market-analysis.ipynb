{
 "cells": [
  {
   "cell_type": "markdown",
   "metadata": {},
   "source": [
    "# Analysis goal \n",
    "- The goal for this project is to analyze Google Play's data to help understand what kinds of apps are likely to attract more users.\n",
    "- I'll focus on free apps for this analysis."
   ]
  },
  {
   "cell_type": "markdown",
   "metadata": {},
   "source": [
    "## About the Data\n",
    "As of September 2019, there were [approximately 2.8 million Android apps](https://www.statista.com/statistics/266210/number-of-available-applications-in-the-google-play-store/) on Google Play.\n",
    "\n",
    "Collecting data for these many apps is not an easy task. So I decided to look for a data set that could help me. After some search I found two promising data sets:\n",
    "- [A data set](https://www.kaggle.com/lava18/google-play-store-apps) with 10k apps collected on february 2019\n",
    "- And [a data set](https://www.kaggle.com/lava18/google-play-store-apps) with 267k apps collected on april 2019\n",
    "\n",
    "\n",
    "After some thought I decided to use the last one, because it has more data and was collected more recently.\n"
   ]
  },
  {
   "cell_type": "markdown",
   "metadata": {},
   "source": [
    "## Opening the Data"
   ]
  },
  {
   "cell_type": "code",
   "execution_count": 2,
   "metadata": {},
   "outputs": [],
   "source": [
    "from csv import reader\n",
    "\n",
    "### The Google Play data set ###\n",
    "opened_file = open('..\\\\data\\\\raw\\\\Google-Playstore-Full.csv')\n",
    "read_file = reader(opened_file)\n",
    "google_play = list(read_file)\n",
    "google_play_header = google_play[0]\n",
    "google_play_data = google_play[1:]"
   ]
  },
  {
   "cell_type": "markdown",
   "metadata": {},
   "source": [
    "## Exploring the Data\n",
    "To make it easier to explore the data set I created 3 functions that I will reuse throughout the project."
   ]
  },
  {
   "cell_type": "code",
   "execution_count": 3,
   "metadata": {},
   "outputs": [],
   "source": [
    "def print_header(header):\n",
    "    print(header)\n",
    "    print('\\n')"
   ]
  },
  {
   "cell_type": "code",
   "execution_count": 4,
   "metadata": {},
   "outputs": [],
   "source": [
    "def print_data(data, start = 0, end = 5):\n",
    "    data_slice = data[start:end]\n",
    "    for row in data_slice:\n",
    "        print(row)\n",
    "        print('\\n')"
   ]
  },
  {
   "cell_type": "code",
   "execution_count": 5,
   "metadata": {},
   "outputs": [],
   "source": [
    "def print_data_info(data):\n",
    "    print('Number of rows:', len(data))\n",
    "    print('Number of columns:', len(data[0]))"
   ]
  },
  {
   "cell_type": "code",
   "execution_count": 6,
   "metadata": {},
   "outputs": [],
   "source": [
    "def print_data_overview():\n",
    "    print_header(google_play_header)\n",
    "    print_data(google_play_data)\n",
    "    print_data_info(google_play_data)   "
   ]
  },
  {
   "cell_type": "code",
   "execution_count": 7,
   "metadata": {},
   "outputs": [
    {
     "output_type": "stream",
     "name": "stdout",
     "text": "['App Name', 'Category', 'Rating', 'Reviews', 'Installs', 'Size', 'Price', 'Content Rating', 'Last Updated', 'Minimum Version', 'Latest Version', '', '', '', '']\n\n\n['DoorDash - Food Delivery', 'FOOD_AND_DRINK', '4.548561573', '305034', '5,000,000+', 'Varies with device', '0', 'Everyone', 'March 29, 2019', 'Varies with device', 'Varies with device', '', '', '', '']\n\n\n['TripAdvisor Hotels Flights Restaurants Attractions', 'TRAVEL_AND_LOCAL', '4.400671482', '1207922', '100,000,000+', 'Varies with device', '0', 'Everyone', 'March 29, 2019', 'Varies with device', 'Varies with device', '', '', '', '']\n\n\n['Peapod', 'SHOPPING', '3.656329393', '1967', '100,000+', '1.4M', '0', 'Everyone', 'September 20, 2018', '5.0 and up', '2.2.0', '', '', '', '']\n\n\n['foodpanda - Local Food Delivery', 'FOOD_AND_DRINK', '4.107232571', '389154', '10,000,000+', '16M', '0', 'Everyone', 'March 22, 2019', '4.2 and up', '4.18.2', '', '', '', '']\n\n\n['My CookBook Pro (Ad Free)', 'FOOD_AND_DRINK', '4.647752285', '2291', '10,000+', 'Varies with device', '$5.99', 'Everyone', 'April 1, 2019', 'Varies with device', 'Varies with device', '', '', '', '']\n\n\nNumber of rows: 267052\nNumber of columns: 15\n"
    }
   ],
   "source": [
    "print_data_overview()"
   ]
  },
  {
   "cell_type": "markdown",
   "metadata": {},
   "source": [
    "## Data Wrangling\n",
    "\n",
    "After a quick glance we can get some useful information about this data, like the columns that can be important ('Category', 'Rating', 'Reviews', 'Installs', 'Price', 'Content Rating').\n",
    "\n",
    "If we pay a little more attention, we can see that the header and rows are missing the last 4 values. Since the header is mmissing too any information in these fields are meaningless. So we can start fixing that."
   ]
  },
  {
   "cell_type": "markdown",
   "metadata": {},
   "source": [
    "### Drop 4 last missing values"
   ]
  },
  {
   "cell_type": "code",
   "execution_count": 8,
   "metadata": {},
   "outputs": [],
   "source": [
    "number_of_items_to_delete = 4\n",
    "\n",
    "del google_play_header[-number_of_items_to_delete:]\n",
    "\n",
    "for row in google_play_data:\n",
    "    del row[-number_of_items_to_delete:]"
   ]
  },
  {
   "cell_type": "code",
   "execution_count": 9,
   "metadata": {},
   "outputs": [
    {
     "output_type": "stream",
     "name": "stdout",
     "text": "['App Name', 'Category', 'Rating', 'Reviews', 'Installs', 'Size', 'Price', 'Content Rating', 'Last Updated', 'Minimum Version', 'Latest Version']\n\n\n['DoorDash - Food Delivery', 'FOOD_AND_DRINK', '4.548561573', '305034', '5,000,000+', 'Varies with device', '0', 'Everyone', 'March 29, 2019', 'Varies with device', 'Varies with device']\n\n\n['TripAdvisor Hotels Flights Restaurants Attractions', 'TRAVEL_AND_LOCAL', '4.400671482', '1207922', '100,000,000+', 'Varies with device', '0', 'Everyone', 'March 29, 2019', 'Varies with device', 'Varies with device']\n\n\n['Peapod', 'SHOPPING', '3.656329393', '1967', '100,000+', '1.4M', '0', 'Everyone', 'September 20, 2018', '5.0 and up', '2.2.0']\n\n\n['foodpanda - Local Food Delivery', 'FOOD_AND_DRINK', '4.107232571', '389154', '10,000,000+', '16M', '0', 'Everyone', 'March 22, 2019', '4.2 and up', '4.18.2']\n\n\n['My CookBook Pro (Ad Free)', 'FOOD_AND_DRINK', '4.647752285', '2291', '10,000+', 'Varies with device', '$5.99', 'Everyone', 'April 1, 2019', 'Varies with device', 'Varies with device']\n\n\nNumber of rows: 267052\nNumber of columns: 11\n"
    }
   ],
   "source": [
    "print_data_overview()"
   ]
  },
  {
   "cell_type": "markdown",
   "metadata": {},
   "source": [
    "### Find duplicates\n",
    "\n",
    "So here is where I hit a wall using pure python, to check for duplicates I'd have to do something like:\n",
    "```python\n",
    "duplicate_apps = []\n",
    "unique_apps = []\n",
    "\n",
    "for app in google_play_data:\n",
    "    name = app[0]\n",
    "    if name in unique_apps:\n",
    "        duplicate_apps.append(name)\n",
    "    else:\n",
    "        unique_apps.append(name)\n",
    "```\n",
    "This would work just fine for a small data set. But in this data set it just takes too long, so for now I'll start using pandas"
   ]
  },
  {
   "cell_type": "code",
   "execution_count": 10,
   "metadata": {},
   "outputs": [],
   "source": [
    "import pandas as pd\n",
    "pd.set_option('display.float_format', lambda x: '%.5f' % x)"
   ]
  },
  {
   "cell_type": "code",
   "execution_count": 11,
   "metadata": {},
   "outputs": [],
   "source": [
    "df = pd.read_csv('..\\\\data\\\\raw\\\\Google-Playstore-Full.csv', low_memory=False)"
   ]
  },
  {
   "cell_type": "code",
   "execution_count": 12,
   "metadata": {},
   "outputs": [
    {
     "output_type": "execute_result",
     "data": {
      "text/plain": "                                            App Name          Category  \\\n0                           DoorDash - Food Delivery    FOOD_AND_DRINK   \n1  TripAdvisor Hotels Flights Restaurants Attract...  TRAVEL_AND_LOCAL   \n2                                             Peapod          SHOPPING   \n3                    foodpanda - Local Food Delivery    FOOD_AND_DRINK   \n4                          My CookBook Pro (Ad Free)    FOOD_AND_DRINK   \n\n        Rating  Reviews      Installs                Size  Price  \\\n0  4.548561573   305034    5,000,000+  Varies with device      0   \n1  4.400671482  1207922  100,000,000+  Varies with device      0   \n2  3.656329393     1967      100,000+                1.4M      0   \n3  4.107232571   389154   10,000,000+                 16M      0   \n4  4.647752285     2291       10,000+  Varies with device  $5.99   \n\n  Content Rating        Last Updated     Minimum Version      Latest Version  \\\n0       Everyone      March 29, 2019  Varies with device  Varies with device   \n1       Everyone      March 29, 2019  Varies with device  Varies with device   \n2       Everyone  September 20, 2018          5.0 and up               2.2.0   \n3       Everyone      March 22, 2019          4.2 and up              4.18.2   \n4       Everyone       April 1, 2019  Varies with device  Varies with device   \n\n  Unnamed: 11 Unnamed: 12 Unnamed: 13  Unnamed: 14  \n0         NaN         NaN         NaN          nan  \n1         NaN         NaN         NaN          nan  \n2         NaN         NaN         NaN          nan  \n3         NaN         NaN         NaN          nan  \n4         NaN         NaN         NaN          nan  ",
      "text/html": "<div>\n<style scoped>\n    .dataframe tbody tr th:only-of-type {\n        vertical-align: middle;\n    }\n\n    .dataframe tbody tr th {\n        vertical-align: top;\n    }\n\n    .dataframe thead th {\n        text-align: right;\n    }\n</style>\n<table border=\"1\" class=\"dataframe\">\n  <thead>\n    <tr style=\"text-align: right;\">\n      <th></th>\n      <th>App Name</th>\n      <th>Category</th>\n      <th>Rating</th>\n      <th>Reviews</th>\n      <th>Installs</th>\n      <th>Size</th>\n      <th>Price</th>\n      <th>Content Rating</th>\n      <th>Last Updated</th>\n      <th>Minimum Version</th>\n      <th>Latest Version</th>\n      <th>Unnamed: 11</th>\n      <th>Unnamed: 12</th>\n      <th>Unnamed: 13</th>\n      <th>Unnamed: 14</th>\n    </tr>\n  </thead>\n  <tbody>\n    <tr>\n      <th>0</th>\n      <td>DoorDash - Food Delivery</td>\n      <td>FOOD_AND_DRINK</td>\n      <td>4.548561573</td>\n      <td>305034</td>\n      <td>5,000,000+</td>\n      <td>Varies with device</td>\n      <td>0</td>\n      <td>Everyone</td>\n      <td>March 29, 2019</td>\n      <td>Varies with device</td>\n      <td>Varies with device</td>\n      <td>NaN</td>\n      <td>NaN</td>\n      <td>NaN</td>\n      <td>nan</td>\n    </tr>\n    <tr>\n      <th>1</th>\n      <td>TripAdvisor Hotels Flights Restaurants Attract...</td>\n      <td>TRAVEL_AND_LOCAL</td>\n      <td>4.400671482</td>\n      <td>1207922</td>\n      <td>100,000,000+</td>\n      <td>Varies with device</td>\n      <td>0</td>\n      <td>Everyone</td>\n      <td>March 29, 2019</td>\n      <td>Varies with device</td>\n      <td>Varies with device</td>\n      <td>NaN</td>\n      <td>NaN</td>\n      <td>NaN</td>\n      <td>nan</td>\n    </tr>\n    <tr>\n      <th>2</th>\n      <td>Peapod</td>\n      <td>SHOPPING</td>\n      <td>3.656329393</td>\n      <td>1967</td>\n      <td>100,000+</td>\n      <td>1.4M</td>\n      <td>0</td>\n      <td>Everyone</td>\n      <td>September 20, 2018</td>\n      <td>5.0 and up</td>\n      <td>2.2.0</td>\n      <td>NaN</td>\n      <td>NaN</td>\n      <td>NaN</td>\n      <td>nan</td>\n    </tr>\n    <tr>\n      <th>3</th>\n      <td>foodpanda - Local Food Delivery</td>\n      <td>FOOD_AND_DRINK</td>\n      <td>4.107232571</td>\n      <td>389154</td>\n      <td>10,000,000+</td>\n      <td>16M</td>\n      <td>0</td>\n      <td>Everyone</td>\n      <td>March 22, 2019</td>\n      <td>4.2 and up</td>\n      <td>4.18.2</td>\n      <td>NaN</td>\n      <td>NaN</td>\n      <td>NaN</td>\n      <td>nan</td>\n    </tr>\n    <tr>\n      <th>4</th>\n      <td>My CookBook Pro (Ad Free)</td>\n      <td>FOOD_AND_DRINK</td>\n      <td>4.647752285</td>\n      <td>2291</td>\n      <td>10,000+</td>\n      <td>Varies with device</td>\n      <td>$5.99</td>\n      <td>Everyone</td>\n      <td>April 1, 2019</td>\n      <td>Varies with device</td>\n      <td>Varies with device</td>\n      <td>NaN</td>\n      <td>NaN</td>\n      <td>NaN</td>\n      <td>nan</td>\n    </tr>\n  </tbody>\n</table>\n</div>"
     },
     "metadata": {},
     "execution_count": 12
    }
   ],
   "source": [
    "df.head()"
   ]
  },
  {
   "cell_type": "code",
   "execution_count": 13,
   "metadata": {},
   "outputs": [],
   "source": [
    "df.drop(columns=['Unnamed: 11', 'Unnamed: 12', 'Unnamed: 13', 'Unnamed: 14'], inplace=True)"
   ]
  },
  {
   "cell_type": "markdown",
   "metadata": {},
   "source": [
    "### Filtering only free apps\n",
    "\n",
    "For this we'll focus on the price column, looking closer we can see a price like this '$5.99', which indicates that the entire column is composed of strings. Knowing this we can create a function to transform the price column in number.\n"
   ]
  },
  {
   "cell_type": "code",
   "execution_count": 14,
   "metadata": {},
   "outputs": [],
   "source": [
    "def price_to_number(price):\n",
    "    price = price.replace('$', '')\n",
    "    return float(price)"
   ]
  },
  {
   "cell_type": "markdown",
   "metadata": {},
   "source": [
    "Let's apply this function to the price column"
   ]
  },
  {
   "cell_type": "code",
   "execution_count": 15,
   "metadata": {},
   "outputs": [
    {
     "output_type": "error",
     "ename": "ValueError",
     "evalue": "could not convert string to float: '2.4M'",
     "traceback": [
      "\u001b[1;31m---------------------------------------------------------------------------\u001b[0m",
      "\u001b[1;31mValueError\u001b[0m                                Traceback (most recent call last)",
      "\u001b[1;32m<ipython-input-15-768070ca94b7>\u001b[0m in \u001b[0;36m<module>\u001b[1;34m\u001b[0m\n\u001b[1;32m----> 1\u001b[1;33m \u001b[0mdf\u001b[0m\u001b[1;33m[\u001b[0m\u001b[1;34m'Price'\u001b[0m\u001b[1;33m]\u001b[0m\u001b[1;33m.\u001b[0m\u001b[0mapply\u001b[0m\u001b[1;33m(\u001b[0m\u001b[0mprice_to_number\u001b[0m\u001b[1;33m)\u001b[0m\u001b[1;33m\u001b[0m\u001b[1;33m\u001b[0m\u001b[0m\n\u001b[0m",
      "\u001b[1;32m~\\Anaconda3\\lib\\site-packages\\pandas\\core\\series.py\u001b[0m in \u001b[0;36mapply\u001b[1;34m(self, func, convert_dtype, args, **kwds)\u001b[0m\n\u001b[0;32m   3846\u001b[0m             \u001b[1;32melse\u001b[0m\u001b[1;33m:\u001b[0m\u001b[1;33m\u001b[0m\u001b[1;33m\u001b[0m\u001b[0m\n\u001b[0;32m   3847\u001b[0m                 \u001b[0mvalues\u001b[0m \u001b[1;33m=\u001b[0m \u001b[0mself\u001b[0m\u001b[1;33m.\u001b[0m\u001b[0mastype\u001b[0m\u001b[1;33m(\u001b[0m\u001b[0mobject\u001b[0m\u001b[1;33m)\u001b[0m\u001b[1;33m.\u001b[0m\u001b[0mvalues\u001b[0m\u001b[1;33m\u001b[0m\u001b[1;33m\u001b[0m\u001b[0m\n\u001b[1;32m-> 3848\u001b[1;33m                 \u001b[0mmapped\u001b[0m \u001b[1;33m=\u001b[0m \u001b[0mlib\u001b[0m\u001b[1;33m.\u001b[0m\u001b[0mmap_infer\u001b[0m\u001b[1;33m(\u001b[0m\u001b[0mvalues\u001b[0m\u001b[1;33m,\u001b[0m \u001b[0mf\u001b[0m\u001b[1;33m,\u001b[0m \u001b[0mconvert\u001b[0m\u001b[1;33m=\u001b[0m\u001b[0mconvert_dtype\u001b[0m\u001b[1;33m)\u001b[0m\u001b[1;33m\u001b[0m\u001b[1;33m\u001b[0m\u001b[0m\n\u001b[0m\u001b[0;32m   3849\u001b[0m \u001b[1;33m\u001b[0m\u001b[0m\n\u001b[0;32m   3850\u001b[0m         \u001b[1;32mif\u001b[0m \u001b[0mlen\u001b[0m\u001b[1;33m(\u001b[0m\u001b[0mmapped\u001b[0m\u001b[1;33m)\u001b[0m \u001b[1;32mand\u001b[0m \u001b[0misinstance\u001b[0m\u001b[1;33m(\u001b[0m\u001b[0mmapped\u001b[0m\u001b[1;33m[\u001b[0m\u001b[1;36m0\u001b[0m\u001b[1;33m]\u001b[0m\u001b[1;33m,\u001b[0m \u001b[0mSeries\u001b[0m\u001b[1;33m)\u001b[0m\u001b[1;33m:\u001b[0m\u001b[1;33m\u001b[0m\u001b[1;33m\u001b[0m\u001b[0m\n",
      "\u001b[1;32mpandas\\_libs\\lib.pyx\u001b[0m in \u001b[0;36mpandas._libs.lib.map_infer\u001b[1;34m()\u001b[0m\n",
      "\u001b[1;32m<ipython-input-14-ee0237c1f05f>\u001b[0m in \u001b[0;36mprice_to_number\u001b[1;34m(price)\u001b[0m\n\u001b[0;32m      1\u001b[0m \u001b[1;32mdef\u001b[0m \u001b[0mprice_to_number\u001b[0m\u001b[1;33m(\u001b[0m\u001b[0mprice\u001b[0m\u001b[1;33m)\u001b[0m\u001b[1;33m:\u001b[0m\u001b[1;33m\u001b[0m\u001b[1;33m\u001b[0m\u001b[0m\n\u001b[0;32m      2\u001b[0m     \u001b[0mprice\u001b[0m \u001b[1;33m=\u001b[0m \u001b[0mprice\u001b[0m\u001b[1;33m.\u001b[0m\u001b[0mreplace\u001b[0m\u001b[1;33m(\u001b[0m\u001b[1;34m'$'\u001b[0m\u001b[1;33m,\u001b[0m \u001b[1;34m''\u001b[0m\u001b[1;33m)\u001b[0m\u001b[1;33m\u001b[0m\u001b[1;33m\u001b[0m\u001b[0m\n\u001b[1;32m----> 3\u001b[1;33m     \u001b[1;32mreturn\u001b[0m \u001b[0mfloat\u001b[0m\u001b[1;33m(\u001b[0m\u001b[0mprice\u001b[0m\u001b[1;33m)\u001b[0m\u001b[1;33m\u001b[0m\u001b[1;33m\u001b[0m\u001b[0m\n\u001b[0m",
      "\u001b[1;31mValueError\u001b[0m: could not convert string to float: '2.4M'"
     ]
    }
   ],
   "source": [
    "df['Price'].apply(price_to_number)"
   ]
  },
  {
   "cell_type": "markdown",
   "metadata": {},
   "source": [
    "Let's check what's going on"
   ]
  },
  {
   "cell_type": "code",
   "execution_count": 16,
   "metadata": {},
   "outputs": [
    {
     "output_type": "execute_result",
     "data": {
      "text/plain": "                                   App Name                          Category  \\\n13504                Never have I ever 18+                                  )   \n32229               Old-time Radio presents                               NaN   \n48438    Mojo Times: Bihar Hindi Video News                     Breaking News   \n113151                               Steins                        Gate ALARM   \n125479  2-6 Ya? E?itici �ocuk Zeka Oyunlar?                      Alfabe �?ren   \n125480  2-6 Ya? E?itici �ocuk Zeka Oyunlar?                     T�rk Alfabesi   \n165230              Shytter -Twitter client         not notified you follow -   \n168914  CorreosTrack 2.0 (Correos de M�xico                          Mexpost)   \n180371            eShagird - Online academy                      ETEA & MDCAT   \n190759                    Friend in Iceland                        Tour Guide   \n193869          Equalizer & Volume Booster                   Speaker Pro 2019   \n194165                    Muslim Baby Names   Islamic Name Boy & Girl+Meaning   \n257773                 High Volume Booster         super loud speaker booster   \n\n                    Rating      Reviews Installs      Size Price  \\\n13504        GAME_STRATEGY            4        6      100+  2.4M   \n32229        ENTERTAINMENT            4       20   10,000+  3.1M   \n48438   NEWS_AND_MAGAZINES  4.775640965      156   10,000+  6.9M   \n113151       ENTERTAINMENT  4.716867447      166      500+   67M   \n125479           EDUCATION            5        1       10+   57M   \n125480           EDUCATION  4.333333492       54   50,000+   43M   \n165230              SOCIAL  4.098591328       71    5,000+  7.7M   \n168914        PRODUCTIVITY  4.389830589       59   10,000+   16M   \n180371           EDUCATION  4.504273415      117   10,000+  6.9M   \n190759    TRAVEL_AND_LOCAL            5        6    1,000+   27M   \n193869     MUSIC_AND_AUDIO  4.632093906      511   10,000+  2.5M   \n194165           LIFESTYLE  4.388349533      927  100,000+  3.7M   \n257773     MUSIC_AND_AUDIO  4.400000095       10    1,000+  3.5M   \n\n       Content Rating Last Updated     Minimum Version Latest Version  \n13504           $0.99   Mature 17+   December 30, 2018   4.0.3 and up  \n32229               0     Everyone    October 16, 2018     4.1 and up  \n48438               0         Teen      March 30, 2019     4.1 and up  \n113151          $0.99         Teen   November 12, 2018     4.4 and up  \n125479          $2.49     Everyone    October 31, 2017     2.3 and up  \n125480              0     Everyone    October 31, 2017     2.3 and up  \n165230              0     Everyone      March 30, 2019     4.1 and up  \n168914              0     Everyone   December 21, 2018     4.1 and up  \n180371              0     Everyone       March 2, 2019     4.0 and up  \n190759              0     Everyone    October 16, 2017     4.0 and up  \n193869              0     Everyone  September 25, 2018     2.3 and up  \n194165              0     Everyone        May 23, 2018     4.0 and up  \n257773              0     Everyone    November 7, 2018     4.0 and up  ",
      "text/html": "<div>\n<style scoped>\n    .dataframe tbody tr th:only-of-type {\n        vertical-align: middle;\n    }\n\n    .dataframe tbody tr th {\n        vertical-align: top;\n    }\n\n    .dataframe thead th {\n        text-align: right;\n    }\n</style>\n<table border=\"1\" class=\"dataframe\">\n  <thead>\n    <tr style=\"text-align: right;\">\n      <th></th>\n      <th>App Name</th>\n      <th>Category</th>\n      <th>Rating</th>\n      <th>Reviews</th>\n      <th>Installs</th>\n      <th>Size</th>\n      <th>Price</th>\n      <th>Content Rating</th>\n      <th>Last Updated</th>\n      <th>Minimum Version</th>\n      <th>Latest Version</th>\n    </tr>\n  </thead>\n  <tbody>\n    <tr>\n      <th>13504</th>\n      <td>Never have I ever 18+</td>\n      <td>)</td>\n      <td>GAME_STRATEGY</td>\n      <td>4</td>\n      <td>6</td>\n      <td>100+</td>\n      <td>2.4M</td>\n      <td>$0.99</td>\n      <td>Mature 17+</td>\n      <td>December 30, 2018</td>\n      <td>4.0.3 and up</td>\n    </tr>\n    <tr>\n      <th>32229</th>\n      <td>Old-time Radio presents</td>\n      <td>NaN</td>\n      <td>ENTERTAINMENT</td>\n      <td>4</td>\n      <td>20</td>\n      <td>10,000+</td>\n      <td>3.1M</td>\n      <td>0</td>\n      <td>Everyone</td>\n      <td>October 16, 2018</td>\n      <td>4.1 and up</td>\n    </tr>\n    <tr>\n      <th>48438</th>\n      <td>Mojo Times: Bihar Hindi Video News</td>\n      <td>Breaking News</td>\n      <td>NEWS_AND_MAGAZINES</td>\n      <td>4.775640965</td>\n      <td>156</td>\n      <td>10,000+</td>\n      <td>6.9M</td>\n      <td>0</td>\n      <td>Teen</td>\n      <td>March 30, 2019</td>\n      <td>4.1 and up</td>\n    </tr>\n    <tr>\n      <th>113151</th>\n      <td>Steins</td>\n      <td>Gate ALARM</td>\n      <td>ENTERTAINMENT</td>\n      <td>4.716867447</td>\n      <td>166</td>\n      <td>500+</td>\n      <td>67M</td>\n      <td>$0.99</td>\n      <td>Teen</td>\n      <td>November 12, 2018</td>\n      <td>4.4 and up</td>\n    </tr>\n    <tr>\n      <th>125479</th>\n      <td>2-6 Ya? E?itici �ocuk Zeka Oyunlar?</td>\n      <td>Alfabe �?ren</td>\n      <td>EDUCATION</td>\n      <td>5</td>\n      <td>1</td>\n      <td>10+</td>\n      <td>57M</td>\n      <td>$2.49</td>\n      <td>Everyone</td>\n      <td>October 31, 2017</td>\n      <td>2.3 and up</td>\n    </tr>\n    <tr>\n      <th>125480</th>\n      <td>2-6 Ya? E?itici �ocuk Zeka Oyunlar?</td>\n      <td>T�rk Alfabesi</td>\n      <td>EDUCATION</td>\n      <td>4.333333492</td>\n      <td>54</td>\n      <td>50,000+</td>\n      <td>43M</td>\n      <td>0</td>\n      <td>Everyone</td>\n      <td>October 31, 2017</td>\n      <td>2.3 and up</td>\n    </tr>\n    <tr>\n      <th>165230</th>\n      <td>Shytter -Twitter client</td>\n      <td>not notified you follow -</td>\n      <td>SOCIAL</td>\n      <td>4.098591328</td>\n      <td>71</td>\n      <td>5,000+</td>\n      <td>7.7M</td>\n      <td>0</td>\n      <td>Everyone</td>\n      <td>March 30, 2019</td>\n      <td>4.1 and up</td>\n    </tr>\n    <tr>\n      <th>168914</th>\n      <td>CorreosTrack 2.0 (Correos de M�xico</td>\n      <td>Mexpost)</td>\n      <td>PRODUCTIVITY</td>\n      <td>4.389830589</td>\n      <td>59</td>\n      <td>10,000+</td>\n      <td>16M</td>\n      <td>0</td>\n      <td>Everyone</td>\n      <td>December 21, 2018</td>\n      <td>4.1 and up</td>\n    </tr>\n    <tr>\n      <th>180371</th>\n      <td>eShagird - Online academy</td>\n      <td>ETEA &amp; MDCAT</td>\n      <td>EDUCATION</td>\n      <td>4.504273415</td>\n      <td>117</td>\n      <td>10,000+</td>\n      <td>6.9M</td>\n      <td>0</td>\n      <td>Everyone</td>\n      <td>March 2, 2019</td>\n      <td>4.0 and up</td>\n    </tr>\n    <tr>\n      <th>190759</th>\n      <td>Friend in Iceland</td>\n      <td>Tour Guide</td>\n      <td>TRAVEL_AND_LOCAL</td>\n      <td>5</td>\n      <td>6</td>\n      <td>1,000+</td>\n      <td>27M</td>\n      <td>0</td>\n      <td>Everyone</td>\n      <td>October 16, 2017</td>\n      <td>4.0 and up</td>\n    </tr>\n    <tr>\n      <th>193869</th>\n      <td>Equalizer &amp; Volume Booster</td>\n      <td>Speaker Pro 2019</td>\n      <td>MUSIC_AND_AUDIO</td>\n      <td>4.632093906</td>\n      <td>511</td>\n      <td>10,000+</td>\n      <td>2.5M</td>\n      <td>0</td>\n      <td>Everyone</td>\n      <td>September 25, 2018</td>\n      <td>2.3 and up</td>\n    </tr>\n    <tr>\n      <th>194165</th>\n      <td>Muslim Baby Names</td>\n      <td>Islamic Name Boy &amp; Girl+Meaning</td>\n      <td>LIFESTYLE</td>\n      <td>4.388349533</td>\n      <td>927</td>\n      <td>100,000+</td>\n      <td>3.7M</td>\n      <td>0</td>\n      <td>Everyone</td>\n      <td>May 23, 2018</td>\n      <td>4.0 and up</td>\n    </tr>\n    <tr>\n      <th>257773</th>\n      <td>High Volume Booster</td>\n      <td>super loud speaker booster</td>\n      <td>MUSIC_AND_AUDIO</td>\n      <td>4.400000095</td>\n      <td>10</td>\n      <td>1,000+</td>\n      <td>3.5M</td>\n      <td>0</td>\n      <td>Everyone</td>\n      <td>November 7, 2018</td>\n      <td>4.0 and up</td>\n    </tr>\n  </tbody>\n</table>\n</div>"
     },
     "metadata": {},
     "execution_count": 16
    }
   ],
   "source": [
    "df[df['Price'].str.contains(pat = 'M')]"
   ]
  },
  {
   "cell_type": "markdown",
   "metadata": {},
   "source": [
    "Some kind of shift happened to the data on these rows. As consequence of this error, we'll delete these rows."
   ]
  },
  {
   "cell_type": "code",
   "execution_count": 17,
   "metadata": {},
   "outputs": [],
   "source": [
    "#Get column indexes\n",
    "indexes = df[df['Price'].str.contains(pat = 'M')].index\n",
    "\n",
    "# Delete these row indexes from dataFrame\n",
    "df.drop(indexes , inplace=True)"
   ]
  },
  {
   "cell_type": "markdown",
   "metadata": {},
   "source": [
    "Let's try to apply our price_to_number function again"
   ]
  },
  {
   "cell_type": "code",
   "execution_count": 18,
   "metadata": {},
   "outputs": [
    {
     "output_type": "error",
     "ename": "ValueError",
     "evalue": "could not convert string to float: 'Varies with device'",
     "traceback": [
      "\u001b[1;31m---------------------------------------------------------------------------\u001b[0m",
      "\u001b[1;31mValueError\u001b[0m                                Traceback (most recent call last)",
      "\u001b[1;32m<ipython-input-18-8429a635357a>\u001b[0m in \u001b[0;36m<module>\u001b[1;34m\u001b[0m\n\u001b[1;32m----> 1\u001b[1;33m \u001b[0mdf\u001b[0m\u001b[1;33m[\u001b[0m\u001b[1;34m'Price'\u001b[0m\u001b[1;33m]\u001b[0m \u001b[1;33m=\u001b[0m \u001b[0mdf\u001b[0m\u001b[1;33m[\u001b[0m\u001b[1;34m'Price'\u001b[0m\u001b[1;33m]\u001b[0m\u001b[1;33m.\u001b[0m\u001b[0mapply\u001b[0m\u001b[1;33m(\u001b[0m\u001b[0mprice_to_number\u001b[0m\u001b[1;33m)\u001b[0m\u001b[1;33m\u001b[0m\u001b[1;33m\u001b[0m\u001b[0m\n\u001b[0m",
      "\u001b[1;32m~\\Anaconda3\\lib\\site-packages\\pandas\\core\\series.py\u001b[0m in \u001b[0;36mapply\u001b[1;34m(self, func, convert_dtype, args, **kwds)\u001b[0m\n\u001b[0;32m   3846\u001b[0m             \u001b[1;32melse\u001b[0m\u001b[1;33m:\u001b[0m\u001b[1;33m\u001b[0m\u001b[1;33m\u001b[0m\u001b[0m\n\u001b[0;32m   3847\u001b[0m                 \u001b[0mvalues\u001b[0m \u001b[1;33m=\u001b[0m \u001b[0mself\u001b[0m\u001b[1;33m.\u001b[0m\u001b[0mastype\u001b[0m\u001b[1;33m(\u001b[0m\u001b[0mobject\u001b[0m\u001b[1;33m)\u001b[0m\u001b[1;33m.\u001b[0m\u001b[0mvalues\u001b[0m\u001b[1;33m\u001b[0m\u001b[1;33m\u001b[0m\u001b[0m\n\u001b[1;32m-> 3848\u001b[1;33m                 \u001b[0mmapped\u001b[0m \u001b[1;33m=\u001b[0m \u001b[0mlib\u001b[0m\u001b[1;33m.\u001b[0m\u001b[0mmap_infer\u001b[0m\u001b[1;33m(\u001b[0m\u001b[0mvalues\u001b[0m\u001b[1;33m,\u001b[0m \u001b[0mf\u001b[0m\u001b[1;33m,\u001b[0m \u001b[0mconvert\u001b[0m\u001b[1;33m=\u001b[0m\u001b[0mconvert_dtype\u001b[0m\u001b[1;33m)\u001b[0m\u001b[1;33m\u001b[0m\u001b[1;33m\u001b[0m\u001b[0m\n\u001b[0m\u001b[0;32m   3849\u001b[0m \u001b[1;33m\u001b[0m\u001b[0m\n\u001b[0;32m   3850\u001b[0m         \u001b[1;32mif\u001b[0m \u001b[0mlen\u001b[0m\u001b[1;33m(\u001b[0m\u001b[0mmapped\u001b[0m\u001b[1;33m)\u001b[0m \u001b[1;32mand\u001b[0m \u001b[0misinstance\u001b[0m\u001b[1;33m(\u001b[0m\u001b[0mmapped\u001b[0m\u001b[1;33m[\u001b[0m\u001b[1;36m0\u001b[0m\u001b[1;33m]\u001b[0m\u001b[1;33m,\u001b[0m \u001b[0mSeries\u001b[0m\u001b[1;33m)\u001b[0m\u001b[1;33m:\u001b[0m\u001b[1;33m\u001b[0m\u001b[1;33m\u001b[0m\u001b[0m\n",
      "\u001b[1;32mpandas\\_libs\\lib.pyx\u001b[0m in \u001b[0;36mpandas._libs.lib.map_infer\u001b[1;34m()\u001b[0m\n",
      "\u001b[1;32m<ipython-input-14-ee0237c1f05f>\u001b[0m in \u001b[0;36mprice_to_number\u001b[1;34m(price)\u001b[0m\n\u001b[0;32m      1\u001b[0m \u001b[1;32mdef\u001b[0m \u001b[0mprice_to_number\u001b[0m\u001b[1;33m(\u001b[0m\u001b[0mprice\u001b[0m\u001b[1;33m)\u001b[0m\u001b[1;33m:\u001b[0m\u001b[1;33m\u001b[0m\u001b[1;33m\u001b[0m\u001b[0m\n\u001b[0;32m      2\u001b[0m     \u001b[0mprice\u001b[0m \u001b[1;33m=\u001b[0m \u001b[0mprice\u001b[0m\u001b[1;33m.\u001b[0m\u001b[0mreplace\u001b[0m\u001b[1;33m(\u001b[0m\u001b[1;34m'$'\u001b[0m\u001b[1;33m,\u001b[0m \u001b[1;34m''\u001b[0m\u001b[1;33m)\u001b[0m\u001b[1;33m\u001b[0m\u001b[1;33m\u001b[0m\u001b[0m\n\u001b[1;32m----> 3\u001b[1;33m     \u001b[1;32mreturn\u001b[0m \u001b[0mfloat\u001b[0m\u001b[1;33m(\u001b[0m\u001b[0mprice\u001b[0m\u001b[1;33m)\u001b[0m\u001b[1;33m\u001b[0m\u001b[1;33m\u001b[0m\u001b[0m\n\u001b[0m",
      "\u001b[1;31mValueError\u001b[0m: could not convert string to float: 'Varies with device'"
     ]
    }
   ],
   "source": [
    "df['Price'] = df['Price'].apply(price_to_number)"
   ]
  },
  {
   "cell_type": "markdown",
   "metadata": {},
   "source": [
    "After trying to apply our function again, we just realized that we can do a better job by just getting all rows where price is '0', this will also fix problematic rows at the same time."
   ]
  },
  {
   "cell_type": "code",
   "execution_count": 19,
   "metadata": {},
   "outputs": [],
   "source": [
    "df_free = df[df['Price'] == '0']"
   ]
  },
  {
   "cell_type": "markdown",
   "metadata": {},
   "source": [
    "### Removing Duplicate Entries\n",
    "Now that we have only free apps we can go back to remove duplicate entries.\n",
    "First we have to think about why the duplication is happening, let's take a look at some duplicate entries."
   ]
  },
  {
   "cell_type": "code",
   "execution_count": 20,
   "metadata": {},
   "outputs": [
    {
     "output_type": "execute_result",
     "data": {
      "text/plain": "                          App Name             Category       Rating Reviews  \\\n66734                       #NAME?               SPORTS   4.55343914    4725   \n85493                       #NAME?        COMMUNICATION  2.817708254     192   \n65076                       #NAME?            LIFESTYLE  3.971428633    2520   \n250895                      #NAME?        COMMUNICATION  4.879069805     215   \n83867                       #NAME?   HEALTH_AND_FITNESS  2.846153736      39   \n183900                      #NAME?              FINANCE  3.158273458     278   \n209262                      #NAME?            EDUCATION  4.594594479     370   \n155728                      #NAME?                TOOLS  4.647058964      85   \n170318                      #NAME?            EDUCATION            5       2   \n181267                      #NAME?              FINANCE  3.972222328     180   \n155727                      #NAME?                TOOLS  4.673239231     355   \n195447    .Net Interview Questions            EDUCATION  4.537036896      54   \n28513     .Net Interview Questions            EDUCATION  4.599999905      35   \n67744               10,000 Chistes        ENTERTAINMENT  4.434963703     961   \n111316              10,000 Chistes            LIFESTYLE  4.361298561    6222   \n9293          1000 English Stories            EDUCATION   4.59296608    7137   \n108073        1000 English Stories            EDUCATION            5       2   \n230351  1000 Powerful Affirmations  BOOKS_AND_REFERENCE         4.25       4   \n237847  1000 Powerful Affirmations            LIFESTYLE  4.252830029     265   \n227862          1000 Praises Tamil  BOOKS_AND_REFERENCE  4.719745159     157   \n175808          1000 Praises Tamil            LIFESTYLE  4.810126781      79   \n14242          1000+ Hindi Stories        ENTERTAINMENT  4.514175415   12698   \n165690         1000+ Hindi Stories            EDUCATION  4.322033882      59   \n179588           1008 Amman Pottri            LIFESTYLE  4.296360493     577   \n266254           1008 Amman Pottri      MUSIC_AND_AUDIO  4.560723305     387   \n168265           1008 Amman Pottri        ENTERTAINMENT  4.312063694    1003   \n25768       101 Okey - ?nternetsiz           GAME_BOARD  4.543731213   68315   \n17366       101 Okey - ?nternetsiz           GAME_BOARD  4.400608063   10529   \n12253    10th Maths NCERT Solution  BOOKS_AND_REFERENCE   4.53656292    4335   \n96589    10th Maths NCERT Solution  BOOKS_AND_REFERENCE  4.549529552    8611   \n\n          Installs  Size Price Content Rating        Last Updated  \\\n66734     100,000+  4.9M     0       Everyone    November 6, 2018   \n85493      10,000+   46M     0           Teen    October 31, 2018   \n65076     100,000+   16M     0       Everyone   February 25, 2019   \n250895      5,000+   16M     0       Everyone   December 10, 2018   \n83867       1,000+  4.3M     0       Everyone        May 14, 2015   \n183900     50,000+  3.0M     0       Everyone       March 4, 2019   \n209262     10,000+   18M     0       Everyone   December 12, 2018   \n155728      1,000+  5.2M     0       Everyone      March 26, 2019   \n170318        100+  6.4M     0       Everyone       July 23, 2018   \n181267     10,000+  3.1M     0       Everyone       March 4, 2019   \n155727      5,000+  3.3M     0       Everyone      March 25, 2019   \n195447     10,000+   20M     0       Everyone    January 14, 2018   \n28513       5,000+  5.3M     0       Everyone   November 26, 2018   \n67744     100,000+  4.2M     0       Everyone    December 2, 2018   \n111316    500,000+  4.4M     0       Everyone      August 8, 2018   \n9293    1,000,000+  4.4M     0       Everyone       March 3, 2019   \n108073      1,000+  4.0M     0       Everyone   December 29, 2018   \n230351        100+  4.9M     0           Teen   December 20, 2018   \n237847    100,000+  3.2M     0   Everyone 10+    November 8, 2018   \n227862     10,000+  1.9M     0       Everyone       April 4, 2015   \n175808      5,000+   63M     0       Everyone      April 11, 2017   \n14242     500,000+   12M     0       Everyone   February 15, 2019   \n165690     10,000+  3.9M     0       Everyone   February 16, 2018   \n179588     50,000+   52M     0       Everyone     October 6, 2018   \n266254    100,000+   19M     0       Everyone       June 23, 2018   \n168265    100,000+   49M     0       Everyone       June 26, 2015   \n25768   1,000,000+   23M     0           Teen       April 2, 2019   \n17366   1,000,000+   30M     0       Everyone      March 28, 2019   \n12253     100,000+   29M     0       Everyone  September 25, 2018   \n96589     500,000+   26M     0       Everyone       July 24, 2017   \n\n       Minimum Version Latest Version  \n66734       4.1 and up          1.7.5  \n85493       4.2 and up  4.0.180.15257  \n65076       4.1 and up          2.1.7  \n250895      4.1 and up            1.1  \n83867     4.0.3 and up            1.2  \n183900      4.4 and up         1.15.5  \n209262      4.1 and up            2.1  \n155728      4.4 and up          1.1.6  \n170318      4.4 and up              1  \n181267      4.4 and up          1.8.5  \n155727      4.4 and up          1.1.7  \n195447      4.4 and up          1.0.9  \n28513       4.4 and up            1.1  \n67744       4.4 and up          1.0.3  \n111316      4.1 and up          1.0.1  \n9293      4.0.3 and up          1.0.8  \n108073      4.0 and up          0.0.1  \n230351      4.0 and up              1  \n237847      4.1 and up            2.8  \n227862      2.2 and up              1  \n175808    4.0.3 and up              1  \n14242       4.2 and up           5.7j  \n165690    4.0.3 and up          1.0.1  \n179588      4.0 and up            1.1  \n266254    4.0.3 and up          7.0.0  \n168265      2.3 and up            1.1  \n25768       4.1 and up          1.4.2  \n17366       4.0 and up          2.4.0  \n12253       4.4 and up           2.12  \n96589       4.3 and up              1  ",
      "text/html": "<div>\n<style scoped>\n    .dataframe tbody tr th:only-of-type {\n        vertical-align: middle;\n    }\n\n    .dataframe tbody tr th {\n        vertical-align: top;\n    }\n\n    .dataframe thead th {\n        text-align: right;\n    }\n</style>\n<table border=\"1\" class=\"dataframe\">\n  <thead>\n    <tr style=\"text-align: right;\">\n      <th></th>\n      <th>App Name</th>\n      <th>Category</th>\n      <th>Rating</th>\n      <th>Reviews</th>\n      <th>Installs</th>\n      <th>Size</th>\n      <th>Price</th>\n      <th>Content Rating</th>\n      <th>Last Updated</th>\n      <th>Minimum Version</th>\n      <th>Latest Version</th>\n    </tr>\n  </thead>\n  <tbody>\n    <tr>\n      <th>66734</th>\n      <td>#NAME?</td>\n      <td>SPORTS</td>\n      <td>4.55343914</td>\n      <td>4725</td>\n      <td>100,000+</td>\n      <td>4.9M</td>\n      <td>0</td>\n      <td>Everyone</td>\n      <td>November 6, 2018</td>\n      <td>4.1 and up</td>\n      <td>1.7.5</td>\n    </tr>\n    <tr>\n      <th>85493</th>\n      <td>#NAME?</td>\n      <td>COMMUNICATION</td>\n      <td>2.817708254</td>\n      <td>192</td>\n      <td>10,000+</td>\n      <td>46M</td>\n      <td>0</td>\n      <td>Teen</td>\n      <td>October 31, 2018</td>\n      <td>4.2 and up</td>\n      <td>4.0.180.15257</td>\n    </tr>\n    <tr>\n      <th>65076</th>\n      <td>#NAME?</td>\n      <td>LIFESTYLE</td>\n      <td>3.971428633</td>\n      <td>2520</td>\n      <td>100,000+</td>\n      <td>16M</td>\n      <td>0</td>\n      <td>Everyone</td>\n      <td>February 25, 2019</td>\n      <td>4.1 and up</td>\n      <td>2.1.7</td>\n    </tr>\n    <tr>\n      <th>250895</th>\n      <td>#NAME?</td>\n      <td>COMMUNICATION</td>\n      <td>4.879069805</td>\n      <td>215</td>\n      <td>5,000+</td>\n      <td>16M</td>\n      <td>0</td>\n      <td>Everyone</td>\n      <td>December 10, 2018</td>\n      <td>4.1 and up</td>\n      <td>1.1</td>\n    </tr>\n    <tr>\n      <th>83867</th>\n      <td>#NAME?</td>\n      <td>HEALTH_AND_FITNESS</td>\n      <td>2.846153736</td>\n      <td>39</td>\n      <td>1,000+</td>\n      <td>4.3M</td>\n      <td>0</td>\n      <td>Everyone</td>\n      <td>May 14, 2015</td>\n      <td>4.0.3 and up</td>\n      <td>1.2</td>\n    </tr>\n    <tr>\n      <th>183900</th>\n      <td>#NAME?</td>\n      <td>FINANCE</td>\n      <td>3.158273458</td>\n      <td>278</td>\n      <td>50,000+</td>\n      <td>3.0M</td>\n      <td>0</td>\n      <td>Everyone</td>\n      <td>March 4, 2019</td>\n      <td>4.4 and up</td>\n      <td>1.15.5</td>\n    </tr>\n    <tr>\n      <th>209262</th>\n      <td>#NAME?</td>\n      <td>EDUCATION</td>\n      <td>4.594594479</td>\n      <td>370</td>\n      <td>10,000+</td>\n      <td>18M</td>\n      <td>0</td>\n      <td>Everyone</td>\n      <td>December 12, 2018</td>\n      <td>4.1 and up</td>\n      <td>2.1</td>\n    </tr>\n    <tr>\n      <th>155728</th>\n      <td>#NAME?</td>\n      <td>TOOLS</td>\n      <td>4.647058964</td>\n      <td>85</td>\n      <td>1,000+</td>\n      <td>5.2M</td>\n      <td>0</td>\n      <td>Everyone</td>\n      <td>March 26, 2019</td>\n      <td>4.4 and up</td>\n      <td>1.1.6</td>\n    </tr>\n    <tr>\n      <th>170318</th>\n      <td>#NAME?</td>\n      <td>EDUCATION</td>\n      <td>5</td>\n      <td>2</td>\n      <td>100+</td>\n      <td>6.4M</td>\n      <td>0</td>\n      <td>Everyone</td>\n      <td>July 23, 2018</td>\n      <td>4.4 and up</td>\n      <td>1</td>\n    </tr>\n    <tr>\n      <th>181267</th>\n      <td>#NAME?</td>\n      <td>FINANCE</td>\n      <td>3.972222328</td>\n      <td>180</td>\n      <td>10,000+</td>\n      <td>3.1M</td>\n      <td>0</td>\n      <td>Everyone</td>\n      <td>March 4, 2019</td>\n      <td>4.4 and up</td>\n      <td>1.8.5</td>\n    </tr>\n    <tr>\n      <th>155727</th>\n      <td>#NAME?</td>\n      <td>TOOLS</td>\n      <td>4.673239231</td>\n      <td>355</td>\n      <td>5,000+</td>\n      <td>3.3M</td>\n      <td>0</td>\n      <td>Everyone</td>\n      <td>March 25, 2019</td>\n      <td>4.4 and up</td>\n      <td>1.1.7</td>\n    </tr>\n    <tr>\n      <th>195447</th>\n      <td>.Net Interview Questions</td>\n      <td>EDUCATION</td>\n      <td>4.537036896</td>\n      <td>54</td>\n      <td>10,000+</td>\n      <td>20M</td>\n      <td>0</td>\n      <td>Everyone</td>\n      <td>January 14, 2018</td>\n      <td>4.4 and up</td>\n      <td>1.0.9</td>\n    </tr>\n    <tr>\n      <th>28513</th>\n      <td>.Net Interview Questions</td>\n      <td>EDUCATION</td>\n      <td>4.599999905</td>\n      <td>35</td>\n      <td>5,000+</td>\n      <td>5.3M</td>\n      <td>0</td>\n      <td>Everyone</td>\n      <td>November 26, 2018</td>\n      <td>4.4 and up</td>\n      <td>1.1</td>\n    </tr>\n    <tr>\n      <th>67744</th>\n      <td>10,000 Chistes</td>\n      <td>ENTERTAINMENT</td>\n      <td>4.434963703</td>\n      <td>961</td>\n      <td>100,000+</td>\n      <td>4.2M</td>\n      <td>0</td>\n      <td>Everyone</td>\n      <td>December 2, 2018</td>\n      <td>4.4 and up</td>\n      <td>1.0.3</td>\n    </tr>\n    <tr>\n      <th>111316</th>\n      <td>10,000 Chistes</td>\n      <td>LIFESTYLE</td>\n      <td>4.361298561</td>\n      <td>6222</td>\n      <td>500,000+</td>\n      <td>4.4M</td>\n      <td>0</td>\n      <td>Everyone</td>\n      <td>August 8, 2018</td>\n      <td>4.1 and up</td>\n      <td>1.0.1</td>\n    </tr>\n    <tr>\n      <th>9293</th>\n      <td>1000 English Stories</td>\n      <td>EDUCATION</td>\n      <td>4.59296608</td>\n      <td>7137</td>\n      <td>1,000,000+</td>\n      <td>4.4M</td>\n      <td>0</td>\n      <td>Everyone</td>\n      <td>March 3, 2019</td>\n      <td>4.0.3 and up</td>\n      <td>1.0.8</td>\n    </tr>\n    <tr>\n      <th>108073</th>\n      <td>1000 English Stories</td>\n      <td>EDUCATION</td>\n      <td>5</td>\n      <td>2</td>\n      <td>1,000+</td>\n      <td>4.0M</td>\n      <td>0</td>\n      <td>Everyone</td>\n      <td>December 29, 2018</td>\n      <td>4.0 and up</td>\n      <td>0.0.1</td>\n    </tr>\n    <tr>\n      <th>230351</th>\n      <td>1000 Powerful Affirmations</td>\n      <td>BOOKS_AND_REFERENCE</td>\n      <td>4.25</td>\n      <td>4</td>\n      <td>100+</td>\n      <td>4.9M</td>\n      <td>0</td>\n      <td>Teen</td>\n      <td>December 20, 2018</td>\n      <td>4.0 and up</td>\n      <td>1</td>\n    </tr>\n    <tr>\n      <th>237847</th>\n      <td>1000 Powerful Affirmations</td>\n      <td>LIFESTYLE</td>\n      <td>4.252830029</td>\n      <td>265</td>\n      <td>100,000+</td>\n      <td>3.2M</td>\n      <td>0</td>\n      <td>Everyone 10+</td>\n      <td>November 8, 2018</td>\n      <td>4.1 and up</td>\n      <td>2.8</td>\n    </tr>\n    <tr>\n      <th>227862</th>\n      <td>1000 Praises Tamil</td>\n      <td>BOOKS_AND_REFERENCE</td>\n      <td>4.719745159</td>\n      <td>157</td>\n      <td>10,000+</td>\n      <td>1.9M</td>\n      <td>0</td>\n      <td>Everyone</td>\n      <td>April 4, 2015</td>\n      <td>2.2 and up</td>\n      <td>1</td>\n    </tr>\n    <tr>\n      <th>175808</th>\n      <td>1000 Praises Tamil</td>\n      <td>LIFESTYLE</td>\n      <td>4.810126781</td>\n      <td>79</td>\n      <td>5,000+</td>\n      <td>63M</td>\n      <td>0</td>\n      <td>Everyone</td>\n      <td>April 11, 2017</td>\n      <td>4.0.3 and up</td>\n      <td>1</td>\n    </tr>\n    <tr>\n      <th>14242</th>\n      <td>1000+ Hindi Stories</td>\n      <td>ENTERTAINMENT</td>\n      <td>4.514175415</td>\n      <td>12698</td>\n      <td>500,000+</td>\n      <td>12M</td>\n      <td>0</td>\n      <td>Everyone</td>\n      <td>February 15, 2019</td>\n      <td>4.2 and up</td>\n      <td>5.7j</td>\n    </tr>\n    <tr>\n      <th>165690</th>\n      <td>1000+ Hindi Stories</td>\n      <td>EDUCATION</td>\n      <td>4.322033882</td>\n      <td>59</td>\n      <td>10,000+</td>\n      <td>3.9M</td>\n      <td>0</td>\n      <td>Everyone</td>\n      <td>February 16, 2018</td>\n      <td>4.0.3 and up</td>\n      <td>1.0.1</td>\n    </tr>\n    <tr>\n      <th>179588</th>\n      <td>1008 Amman Pottri</td>\n      <td>LIFESTYLE</td>\n      <td>4.296360493</td>\n      <td>577</td>\n      <td>50,000+</td>\n      <td>52M</td>\n      <td>0</td>\n      <td>Everyone</td>\n      <td>October 6, 2018</td>\n      <td>4.0 and up</td>\n      <td>1.1</td>\n    </tr>\n    <tr>\n      <th>266254</th>\n      <td>1008 Amman Pottri</td>\n      <td>MUSIC_AND_AUDIO</td>\n      <td>4.560723305</td>\n      <td>387</td>\n      <td>100,000+</td>\n      <td>19M</td>\n      <td>0</td>\n      <td>Everyone</td>\n      <td>June 23, 2018</td>\n      <td>4.0.3 and up</td>\n      <td>7.0.0</td>\n    </tr>\n    <tr>\n      <th>168265</th>\n      <td>1008 Amman Pottri</td>\n      <td>ENTERTAINMENT</td>\n      <td>4.312063694</td>\n      <td>1003</td>\n      <td>100,000+</td>\n      <td>49M</td>\n      <td>0</td>\n      <td>Everyone</td>\n      <td>June 26, 2015</td>\n      <td>2.3 and up</td>\n      <td>1.1</td>\n    </tr>\n    <tr>\n      <th>25768</th>\n      <td>101 Okey - ?nternetsiz</td>\n      <td>GAME_BOARD</td>\n      <td>4.543731213</td>\n      <td>68315</td>\n      <td>1,000,000+</td>\n      <td>23M</td>\n      <td>0</td>\n      <td>Teen</td>\n      <td>April 2, 2019</td>\n      <td>4.1 and up</td>\n      <td>1.4.2</td>\n    </tr>\n    <tr>\n      <th>17366</th>\n      <td>101 Okey - ?nternetsiz</td>\n      <td>GAME_BOARD</td>\n      <td>4.400608063</td>\n      <td>10529</td>\n      <td>1,000,000+</td>\n      <td>30M</td>\n      <td>0</td>\n      <td>Everyone</td>\n      <td>March 28, 2019</td>\n      <td>4.0 and up</td>\n      <td>2.4.0</td>\n    </tr>\n    <tr>\n      <th>12253</th>\n      <td>10th Maths NCERT Solution</td>\n      <td>BOOKS_AND_REFERENCE</td>\n      <td>4.53656292</td>\n      <td>4335</td>\n      <td>100,000+</td>\n      <td>29M</td>\n      <td>0</td>\n      <td>Everyone</td>\n      <td>September 25, 2018</td>\n      <td>4.4 and up</td>\n      <td>2.12</td>\n    </tr>\n    <tr>\n      <th>96589</th>\n      <td>10th Maths NCERT Solution</td>\n      <td>BOOKS_AND_REFERENCE</td>\n      <td>4.549529552</td>\n      <td>8611</td>\n      <td>500,000+</td>\n      <td>26M</td>\n      <td>0</td>\n      <td>Everyone</td>\n      <td>July 24, 2017</td>\n      <td>4.3 and up</td>\n      <td>1</td>\n    </tr>\n  </tbody>\n</table>\n</div>"
     },
     "metadata": {},
     "execution_count": 20
    }
   ],
   "source": [
    "df_free.sort_values('App Name', ascending=True)[df_free.duplicated(subset=['App Name'], keep=False)].head(30)"
   ]
  },
  {
   "cell_type": "markdown",
   "metadata": {},
   "source": [
    "As we can the first apps are missing names and they were just replaced with '#NAME?'. Let's remove them."
   ]
  },
  {
   "cell_type": "code",
   "execution_count": 21,
   "metadata": {},
   "outputs": [],
   "source": [
    "#Get column indexes\n",
    "indexes = df_free[df_free['App Name'] == '#NAME?'].index\n",
    "\n",
    "# Delete these row indexes from dataFrame\n",
    "df_free.drop(indexes , inplace=True)"
   ]
  },
  {
   "cell_type": "markdown",
   "metadata": {},
   "source": [
    "Now to avoid removing duplicates randomly, we can remove them based on some information like rating, number of reviews, number of installs, last updated or last version. But number of reviews seems the best, the highest number of reviews among the duplicates would give us at the same time the most reliable rating, so we'll keep the highest number of reviews."
   ]
  },
  {
   "cell_type": "code",
   "execution_count": 22,
   "metadata": {},
   "outputs": [],
   "source": [
    "#First we'll sort the data frame based on the Reviews column\n",
    "df_free.sort_values('Reviews', ascending=False, inplace=True)"
   ]
  },
  {
   "cell_type": "code",
   "execution_count": 23,
   "metadata": {},
   "outputs": [],
   "source": [
    "#After we'll drop the duplicated names leaving only the highest number of reviews app\n",
    "df_free.drop_duplicates(subset='App Name', keep='first', inplace=True)"
   ]
  },
  {
   "cell_type": "markdown",
   "metadata": {},
   "source": [
    "## Most Common Apps by Category"
   ]
  },
  {
   "cell_type": "code",
   "execution_count": 24,
   "metadata": {},
   "outputs": [
    {
     "output_type": "execute_result",
     "data": {
      "text/plain": "               Category  Percentage\n8             EDUCATION    12.46185\n9         ENTERTAINMENT     7.92797\n45                TOOLS     7.81738\n3   BOOKS_AND_REFERENCE     7.56104\n36      MUSIC_AND_AUDIO     6.84604\n33            LIFESTYLE     5.56865\n4              BUSINESS     4.12152\n11              FINANCE     4.05807\n39      PERSONALIZATION     3.79788\n41         PRODUCTIVITY     3.44210\n37   NEWS_AND_MAGAZINES     3.14590\n30   HEALTH_AND_FITNESS     2.85870\n47     TRAVEL_AND_LOCAL     2.64994\n40          PHOTOGRAPHY     2.58607\n44               SPORTS     2.17371\n6         COMMUNICATION     2.16171\n42             SHOPPING     2.08369\n43               SOCIAL     1.81021\n34  MAPS_AND_NAVIGATION     1.58774\n35              MEDICAL     1.34383\n22          GAME_PUZZLE     1.26968\n12       FOOD_AND_DRINK     1.23152\n48        VIDEO_PLAYERS     1.00648\n19          GAME_CASUAL     0.91132\n15          GAME_ARCADE     0.87274\n1     AUTO_AND_VEHICLES     0.82430\n20     GAME_EDUCATIONAL     0.69528\n0        ART_AND_DESIGN     0.68370\n49              WEATHER     0.60655\n25      GAME_SIMULATION     0.54739\n13          GAME_ACTION     0.54311\n17            GAME_CARD     0.38793\n2                BEAUTY     0.36993\n31       HOUSE_AND_HOME     0.36007\n29            GAME_WORD     0.34378\n16           GAME_BOARD     0.31249\n24    GAME_ROLE_PLAYING     0.30220\n14       GAME_ADVENTURE     0.30092\n23          GAME_RACING     0.29577\n27        GAME_STRATEGY     0.28677\n26          GAME_SPORTS     0.28377\n28          GAME_TRIVIA     0.27520\n10               EVENTS     0.25248\n32   LIBRARIES_AND_DEMO     0.23319\n38            PARENTING     0.23062\n5                COMICS     0.19718\n18          GAME_CASINO     0.14917\n7                DATING     0.12945\n21           GAME_MUSIC     0.09216\n46               TRAVEL     0.00043",
      "text/html": "<div>\n<style scoped>\n    .dataframe tbody tr th:only-of-type {\n        vertical-align: middle;\n    }\n\n    .dataframe tbody tr th {\n        vertical-align: top;\n    }\n\n    .dataframe thead th {\n        text-align: right;\n    }\n</style>\n<table border=\"1\" class=\"dataframe\">\n  <thead>\n    <tr style=\"text-align: right;\">\n      <th></th>\n      <th>Category</th>\n      <th>Percentage</th>\n    </tr>\n  </thead>\n  <tbody>\n    <tr>\n      <th>8</th>\n      <td>EDUCATION</td>\n      <td>12.46185</td>\n    </tr>\n    <tr>\n      <th>9</th>\n      <td>ENTERTAINMENT</td>\n      <td>7.92797</td>\n    </tr>\n    <tr>\n      <th>45</th>\n      <td>TOOLS</td>\n      <td>7.81738</td>\n    </tr>\n    <tr>\n      <th>3</th>\n      <td>BOOKS_AND_REFERENCE</td>\n      <td>7.56104</td>\n    </tr>\n    <tr>\n      <th>36</th>\n      <td>MUSIC_AND_AUDIO</td>\n      <td>6.84604</td>\n    </tr>\n    <tr>\n      <th>33</th>\n      <td>LIFESTYLE</td>\n      <td>5.56865</td>\n    </tr>\n    <tr>\n      <th>4</th>\n      <td>BUSINESS</td>\n      <td>4.12152</td>\n    </tr>\n    <tr>\n      <th>11</th>\n      <td>FINANCE</td>\n      <td>4.05807</td>\n    </tr>\n    <tr>\n      <th>39</th>\n      <td>PERSONALIZATION</td>\n      <td>3.79788</td>\n    </tr>\n    <tr>\n      <th>41</th>\n      <td>PRODUCTIVITY</td>\n      <td>3.44210</td>\n    </tr>\n    <tr>\n      <th>37</th>\n      <td>NEWS_AND_MAGAZINES</td>\n      <td>3.14590</td>\n    </tr>\n    <tr>\n      <th>30</th>\n      <td>HEALTH_AND_FITNESS</td>\n      <td>2.85870</td>\n    </tr>\n    <tr>\n      <th>47</th>\n      <td>TRAVEL_AND_LOCAL</td>\n      <td>2.64994</td>\n    </tr>\n    <tr>\n      <th>40</th>\n      <td>PHOTOGRAPHY</td>\n      <td>2.58607</td>\n    </tr>\n    <tr>\n      <th>44</th>\n      <td>SPORTS</td>\n      <td>2.17371</td>\n    </tr>\n    <tr>\n      <th>6</th>\n      <td>COMMUNICATION</td>\n      <td>2.16171</td>\n    </tr>\n    <tr>\n      <th>42</th>\n      <td>SHOPPING</td>\n      <td>2.08369</td>\n    </tr>\n    <tr>\n      <th>43</th>\n      <td>SOCIAL</td>\n      <td>1.81021</td>\n    </tr>\n    <tr>\n      <th>34</th>\n      <td>MAPS_AND_NAVIGATION</td>\n      <td>1.58774</td>\n    </tr>\n    <tr>\n      <th>35</th>\n      <td>MEDICAL</td>\n      <td>1.34383</td>\n    </tr>\n    <tr>\n      <th>22</th>\n      <td>GAME_PUZZLE</td>\n      <td>1.26968</td>\n    </tr>\n    <tr>\n      <th>12</th>\n      <td>FOOD_AND_DRINK</td>\n      <td>1.23152</td>\n    </tr>\n    <tr>\n      <th>48</th>\n      <td>VIDEO_PLAYERS</td>\n      <td>1.00648</td>\n    </tr>\n    <tr>\n      <th>19</th>\n      <td>GAME_CASUAL</td>\n      <td>0.91132</td>\n    </tr>\n    <tr>\n      <th>15</th>\n      <td>GAME_ARCADE</td>\n      <td>0.87274</td>\n    </tr>\n    <tr>\n      <th>1</th>\n      <td>AUTO_AND_VEHICLES</td>\n      <td>0.82430</td>\n    </tr>\n    <tr>\n      <th>20</th>\n      <td>GAME_EDUCATIONAL</td>\n      <td>0.69528</td>\n    </tr>\n    <tr>\n      <th>0</th>\n      <td>ART_AND_DESIGN</td>\n      <td>0.68370</td>\n    </tr>\n    <tr>\n      <th>49</th>\n      <td>WEATHER</td>\n      <td>0.60655</td>\n    </tr>\n    <tr>\n      <th>25</th>\n      <td>GAME_SIMULATION</td>\n      <td>0.54739</td>\n    </tr>\n    <tr>\n      <th>13</th>\n      <td>GAME_ACTION</td>\n      <td>0.54311</td>\n    </tr>\n    <tr>\n      <th>17</th>\n      <td>GAME_CARD</td>\n      <td>0.38793</td>\n    </tr>\n    <tr>\n      <th>2</th>\n      <td>BEAUTY</td>\n      <td>0.36993</td>\n    </tr>\n    <tr>\n      <th>31</th>\n      <td>HOUSE_AND_HOME</td>\n      <td>0.36007</td>\n    </tr>\n    <tr>\n      <th>29</th>\n      <td>GAME_WORD</td>\n      <td>0.34378</td>\n    </tr>\n    <tr>\n      <th>16</th>\n      <td>GAME_BOARD</td>\n      <td>0.31249</td>\n    </tr>\n    <tr>\n      <th>24</th>\n      <td>GAME_ROLE_PLAYING</td>\n      <td>0.30220</td>\n    </tr>\n    <tr>\n      <th>14</th>\n      <td>GAME_ADVENTURE</td>\n      <td>0.30092</td>\n    </tr>\n    <tr>\n      <th>23</th>\n      <td>GAME_RACING</td>\n      <td>0.29577</td>\n    </tr>\n    <tr>\n      <th>27</th>\n      <td>GAME_STRATEGY</td>\n      <td>0.28677</td>\n    </tr>\n    <tr>\n      <th>26</th>\n      <td>GAME_SPORTS</td>\n      <td>0.28377</td>\n    </tr>\n    <tr>\n      <th>28</th>\n      <td>GAME_TRIVIA</td>\n      <td>0.27520</td>\n    </tr>\n    <tr>\n      <th>10</th>\n      <td>EVENTS</td>\n      <td>0.25248</td>\n    </tr>\n    <tr>\n      <th>32</th>\n      <td>LIBRARIES_AND_DEMO</td>\n      <td>0.23319</td>\n    </tr>\n    <tr>\n      <th>38</th>\n      <td>PARENTING</td>\n      <td>0.23062</td>\n    </tr>\n    <tr>\n      <th>5</th>\n      <td>COMICS</td>\n      <td>0.19718</td>\n    </tr>\n    <tr>\n      <th>18</th>\n      <td>GAME_CASINO</td>\n      <td>0.14917</td>\n    </tr>\n    <tr>\n      <th>7</th>\n      <td>DATING</td>\n      <td>0.12945</td>\n    </tr>\n    <tr>\n      <th>21</th>\n      <td>GAME_MUSIC</td>\n      <td>0.09216</td>\n    </tr>\n    <tr>\n      <th>46</th>\n      <td>TRAVEL</td>\n      <td>0.00043</td>\n    </tr>\n  </tbody>\n</table>\n</div>"
     },
     "metadata": {},
     "execution_count": 24
    }
   ],
   "source": [
    "df_free_groupby_category_percentage = df_free.groupby('Category', as_index=False).agg({'App Name': lambda x: (x.count()/len(df_free)) * 100}).rename(columns={'App Name':'Percentage'})\n",
    "df_free_groupby_category_percentage.sort_values('Percentage', ascending=False)"
   ]
  },
  {
   "cell_type": "markdown",
   "metadata": {},
   "source": [
    "As we can see there are more than one category for games so lets put them together."
   ]
  },
  {
   "cell_type": "code",
   "execution_count": 25,
   "metadata": {},
   "outputs": [
    {
     "output_type": "execute_result",
     "data": {
      "text/plain": "Category      GAME_ACTIONGAME_ADVENTUREGAME_ARCADEGAME_BOARD...\nPercentage                                              7.86967\ndtype: object"
     },
     "metadata": {},
     "execution_count": 25
    }
   ],
   "source": [
    "df_free_groupby_category_percentage[df_free_groupby_category_percentage['Category'].str.contains(\"GAME\")].sum()"
   ]
  },
  {
   "cell_type": "markdown",
   "metadata": {},
   "source": [
    "Google Play shows a balanced landscape of apps. Even if we group up all games categories they would come in third place. Now we'd like to get an idea about the kind of apps that have most users."
   ]
  },
  {
   "cell_type": "markdown",
   "metadata": {},
   "source": [
    "## Most Popular Apps by Category\n",
    "\n",
    "One way to find out what categories are the most popular (have the most users) is to calculate the average number of installs for each app category. We can find this information in the Installs column. However, the install numbers don't seem precise enough, we have numbers like '50+', '100+', '100,000+'. But for our purposes we don't need to be so precise, we need only to have an idea of which category atracts more users. For that we'll only convert these numbers to float, so we can make calculations."
   ]
  },
  {
   "cell_type": "code",
   "execution_count": 26,
   "metadata": {},
   "outputs": [],
   "source": [
    "df_free['Installs'] = df_free['Installs'].apply(lambda x: float(x.replace(',', '').replace('+', '')))"
   ]
  },
  {
   "cell_type": "markdown",
   "metadata": {},
   "source": [
    "With the code above we remove commas and plus signs and convert the string to float so we can make some calculations.\n",
    "\n",
    "Let's get the average of number of installs per category."
   ]
  },
  {
   "cell_type": "code",
   "execution_count": 27,
   "metadata": {},
   "outputs": [
    {
     "output_type": "execute_result",
     "data": {
      "text/plain": "               Category      Installs\n23          GAME_RACING 6222893.08406\n13          GAME_ACTION 4724329.77269\n26          GAME_SPORTS 4166148.82175\n48        VIDEO_PLAYERS 3773136.82155\n27        GAME_STRATEGY 3425426.62332\n15          GAME_ARCADE 3296286.01473\n19          GAME_CASUAL 2937325.03293\n21           GAME_MUSIC 2644452.86047\n6         COMMUNICATION 2596150.06365\n25      GAME_SIMULATION 2254367.49413\n18          GAME_CASINO 1828752.19828\n14       GAME_ADVENTURE 1708987.13248\n43               SOCIAL 1644402.58915\n24    GAME_ROLE_PLAYING 1608265.53191\n41         PRODUCTIVITY 1563329.75455\n40          PHOTOGRAPHY 1398672.42732\n22          GAME_PUZZLE 1346160.14078\n47     TRAVEL_AND_LOCAL 1308115.61825\n45                TOOLS 1218567.92318\n16           GAME_BOARD 1080260.50754\n29            GAME_WORD  963137.23441\n20     GAME_EDUCATIONAL  726924.91060\n42             SHOPPING  661821.71467\n17            GAME_CARD  652852.79669\n28          GAME_TRIVIA  585626.08723\n49              WEATHER  533323.83392\n37   NEWS_AND_MAGAZINES  499898.59482\n7                DATING  488803.94702\n39      PERSONALIZATION  423701.32698\n5                COMICS  417495.11957\n9         ENTERTAINMENT  383384.34307\n31       HOUSE_AND_HOME  360268.76310\n36      MUSIC_AND_AUDIO  328076.25045\n34  MAPS_AND_NAVIGATION  314267.62959\n30   HEALTH_AND_FITNESS  297285.66937\n0        ART_AND_DESIGN  227266.66708\n11              FINANCE  223438.34351\n12       FOOD_AND_DRINK  198810.44831\n1     AUTO_AND_VEHICLES  196561.96152\n32   LIBRARIES_AND_DEMO  179525.42463\n44               SPORTS  161077.99684\n38            PARENTING  153948.06691\n33            LIFESTYLE  152758.93111\n2                BEAUTY  149071.46118\n4              BUSINESS  139258.62350\n3   BOOKS_AND_REFERENCE  105154.89688\n8             EDUCATION   77019.27349\n35              MEDICAL   63612.10080\n10               EVENTS   47432.08319\n46               TRAVEL   10000.00000",
      "text/html": "<div>\n<style scoped>\n    .dataframe tbody tr th:only-of-type {\n        vertical-align: middle;\n    }\n\n    .dataframe tbody tr th {\n        vertical-align: top;\n    }\n\n    .dataframe thead th {\n        text-align: right;\n    }\n</style>\n<table border=\"1\" class=\"dataframe\">\n  <thead>\n    <tr style=\"text-align: right;\">\n      <th></th>\n      <th>Category</th>\n      <th>Installs</th>\n    </tr>\n  </thead>\n  <tbody>\n    <tr>\n      <th>23</th>\n      <td>GAME_RACING</td>\n      <td>6222893.08406</td>\n    </tr>\n    <tr>\n      <th>13</th>\n      <td>GAME_ACTION</td>\n      <td>4724329.77269</td>\n    </tr>\n    <tr>\n      <th>26</th>\n      <td>GAME_SPORTS</td>\n      <td>4166148.82175</td>\n    </tr>\n    <tr>\n      <th>48</th>\n      <td>VIDEO_PLAYERS</td>\n      <td>3773136.82155</td>\n    </tr>\n    <tr>\n      <th>27</th>\n      <td>GAME_STRATEGY</td>\n      <td>3425426.62332</td>\n    </tr>\n    <tr>\n      <th>15</th>\n      <td>GAME_ARCADE</td>\n      <td>3296286.01473</td>\n    </tr>\n    <tr>\n      <th>19</th>\n      <td>GAME_CASUAL</td>\n      <td>2937325.03293</td>\n    </tr>\n    <tr>\n      <th>21</th>\n      <td>GAME_MUSIC</td>\n      <td>2644452.86047</td>\n    </tr>\n    <tr>\n      <th>6</th>\n      <td>COMMUNICATION</td>\n      <td>2596150.06365</td>\n    </tr>\n    <tr>\n      <th>25</th>\n      <td>GAME_SIMULATION</td>\n      <td>2254367.49413</td>\n    </tr>\n    <tr>\n      <th>18</th>\n      <td>GAME_CASINO</td>\n      <td>1828752.19828</td>\n    </tr>\n    <tr>\n      <th>14</th>\n      <td>GAME_ADVENTURE</td>\n      <td>1708987.13248</td>\n    </tr>\n    <tr>\n      <th>43</th>\n      <td>SOCIAL</td>\n      <td>1644402.58915</td>\n    </tr>\n    <tr>\n      <th>24</th>\n      <td>GAME_ROLE_PLAYING</td>\n      <td>1608265.53191</td>\n    </tr>\n    <tr>\n      <th>41</th>\n      <td>PRODUCTIVITY</td>\n      <td>1563329.75455</td>\n    </tr>\n    <tr>\n      <th>40</th>\n      <td>PHOTOGRAPHY</td>\n      <td>1398672.42732</td>\n    </tr>\n    <tr>\n      <th>22</th>\n      <td>GAME_PUZZLE</td>\n      <td>1346160.14078</td>\n    </tr>\n    <tr>\n      <th>47</th>\n      <td>TRAVEL_AND_LOCAL</td>\n      <td>1308115.61825</td>\n    </tr>\n    <tr>\n      <th>45</th>\n      <td>TOOLS</td>\n      <td>1218567.92318</td>\n    </tr>\n    <tr>\n      <th>16</th>\n      <td>GAME_BOARD</td>\n      <td>1080260.50754</td>\n    </tr>\n    <tr>\n      <th>29</th>\n      <td>GAME_WORD</td>\n      <td>963137.23441</td>\n    </tr>\n    <tr>\n      <th>20</th>\n      <td>GAME_EDUCATIONAL</td>\n      <td>726924.91060</td>\n    </tr>\n    <tr>\n      <th>42</th>\n      <td>SHOPPING</td>\n      <td>661821.71467</td>\n    </tr>\n    <tr>\n      <th>17</th>\n      <td>GAME_CARD</td>\n      <td>652852.79669</td>\n    </tr>\n    <tr>\n      <th>28</th>\n      <td>GAME_TRIVIA</td>\n      <td>585626.08723</td>\n    </tr>\n    <tr>\n      <th>49</th>\n      <td>WEATHER</td>\n      <td>533323.83392</td>\n    </tr>\n    <tr>\n      <th>37</th>\n      <td>NEWS_AND_MAGAZINES</td>\n      <td>499898.59482</td>\n    </tr>\n    <tr>\n      <th>7</th>\n      <td>DATING</td>\n      <td>488803.94702</td>\n    </tr>\n    <tr>\n      <th>39</th>\n      <td>PERSONALIZATION</td>\n      <td>423701.32698</td>\n    </tr>\n    <tr>\n      <th>5</th>\n      <td>COMICS</td>\n      <td>417495.11957</td>\n    </tr>\n    <tr>\n      <th>9</th>\n      <td>ENTERTAINMENT</td>\n      <td>383384.34307</td>\n    </tr>\n    <tr>\n      <th>31</th>\n      <td>HOUSE_AND_HOME</td>\n      <td>360268.76310</td>\n    </tr>\n    <tr>\n      <th>36</th>\n      <td>MUSIC_AND_AUDIO</td>\n      <td>328076.25045</td>\n    </tr>\n    <tr>\n      <th>34</th>\n      <td>MAPS_AND_NAVIGATION</td>\n      <td>314267.62959</td>\n    </tr>\n    <tr>\n      <th>30</th>\n      <td>HEALTH_AND_FITNESS</td>\n      <td>297285.66937</td>\n    </tr>\n    <tr>\n      <th>0</th>\n      <td>ART_AND_DESIGN</td>\n      <td>227266.66708</td>\n    </tr>\n    <tr>\n      <th>11</th>\n      <td>FINANCE</td>\n      <td>223438.34351</td>\n    </tr>\n    <tr>\n      <th>12</th>\n      <td>FOOD_AND_DRINK</td>\n      <td>198810.44831</td>\n    </tr>\n    <tr>\n      <th>1</th>\n      <td>AUTO_AND_VEHICLES</td>\n      <td>196561.96152</td>\n    </tr>\n    <tr>\n      <th>32</th>\n      <td>LIBRARIES_AND_DEMO</td>\n      <td>179525.42463</td>\n    </tr>\n    <tr>\n      <th>44</th>\n      <td>SPORTS</td>\n      <td>161077.99684</td>\n    </tr>\n    <tr>\n      <th>38</th>\n      <td>PARENTING</td>\n      <td>153948.06691</td>\n    </tr>\n    <tr>\n      <th>33</th>\n      <td>LIFESTYLE</td>\n      <td>152758.93111</td>\n    </tr>\n    <tr>\n      <th>2</th>\n      <td>BEAUTY</td>\n      <td>149071.46118</td>\n    </tr>\n    <tr>\n      <th>4</th>\n      <td>BUSINESS</td>\n      <td>139258.62350</td>\n    </tr>\n    <tr>\n      <th>3</th>\n      <td>BOOKS_AND_REFERENCE</td>\n      <td>105154.89688</td>\n    </tr>\n    <tr>\n      <th>8</th>\n      <td>EDUCATION</td>\n      <td>77019.27349</td>\n    </tr>\n    <tr>\n      <th>35</th>\n      <td>MEDICAL</td>\n      <td>63612.10080</td>\n    </tr>\n    <tr>\n      <th>10</th>\n      <td>EVENTS</td>\n      <td>47432.08319</td>\n    </tr>\n    <tr>\n      <th>46</th>\n      <td>TRAVEL</td>\n      <td>10000.00000</td>\n    </tr>\n  </tbody>\n</table>\n</div>"
     },
     "metadata": {},
     "execution_count": 27
    }
   ],
   "source": [
    "df_free.groupby('Category', as_index=False)['Installs'].mean().sort_values('Installs', ascending=False)"
   ]
  },
  {
   "cell_type": "markdown",
   "metadata": {},
   "source": [
    "As we can see it's obvious that games are popular."
   ]
  },
  {
   "cell_type": "code",
   "execution_count": 35,
   "metadata": {},
   "outputs": [
    {
     "output_type": "execute_result",
     "data": {
      "text/plain": "                                                 App Name       Category  \\\n813                                               YouTube  VIDEO_PLAYERS   \n6412                              Google Play Movies & TV  VIDEO_PLAYERS   \n3154            LIKE Video -Magic Video Maker & Community  VIDEO_PLAYERS   \n10796                                   Motorola FM Radio  VIDEO_PLAYERS   \n8987    VideoShow Video Editor, Video Maker, Beauty Ca...  VIDEO_PLAYERS   \n8986    DU Recorder � Screen Recorder, Video Editor, Live  VIDEO_PLAYERS   \n2114                                      VLC for Android  VIDEO_PLAYERS   \n3151    VMate 2019- Video Downloader &Best Video Tube ...  VIDEO_PLAYERS   \n3497                                     Motorola Gallery  VIDEO_PLAYERS   \n44563              VivaVideo - Video Editor & Photo Movie  VIDEO_PLAYERS   \n8718                                Samsung Video Library  VIDEO_PLAYERS   \n112157                      �Torrent�- Torrent Downloader  VIDEO_PLAYERS   \n14401                          Peel Smart Remote TV Guide  VIDEO_PLAYERS   \n190161             Dubsmash - Dance Videos & Lip Sync App  VIDEO_PLAYERS   \n8978    Quik � Free Video Editor for photos, clips, music  VIDEO_PLAYERS   \n13025         MiniMovie - Free Video and Slideshow Editor  VIDEO_PLAYERS   \n1273                                                 Vine  VIDEO_PLAYERS   \n109434               Kwai - Short Video Maker & Community  VIDEO_PLAYERS   \n253120     Magisto - Video Editor & Music Slideshow Maker  VIDEO_PLAYERS   \n8599    PowerDirector - Video Editor App, Best Video M...  VIDEO_PLAYERS   \n\n             Rating   Reviews         Installs                Size Price  \\\n813      4.36842823  41919102 5000000000.00000  Varies with device     0   \n6412    3.703356266   1048972 1000000000.00000  Varies with device     0   \n3154    4.581243515   2048739  100000000.00000                 45M     0   \n10796   3.924235821     58141  100000000.00000  Varies with device     0   \n8987    4.559087276   4458794  100000000.00000                 22M     0   \n8986    4.745390892   3992518  100000000.00000                 17M     0   \n2114    4.423864365   1139749  100000000.00000  Varies with device     0   \n3151    4.248163223    323372  100000000.00000                 17M     0   \n3497    3.947426319    126318  100000000.00000                 23M     0   \n44563   4.603675365  10855572  100000000.00000                 40M     0   \n8718    4.466049671     39661  100000000.00000                5.8M     0   \n112157  4.542450905   3800761  100000000.00000  Varies with device     0   \n14401   4.295152664    658432  100000000.00000  Varies with device     0   \n190161  4.228127003   1997744  100000000.00000                 11M     0   \n8978    4.738492489    975119   50000000.00000                 99M     0   \n13025   4.518614292    509444   50000000.00000  Varies with device     0   \n1273    4.186682224   1139574   50000000.00000                1.3M     0   \n109434  4.449896336    419552   50000000.00000                 32M     0   \n253120  4.285580158   1008323   50000000.00000                 51M     0   \n8599    4.512517929    898860   50000000.00000                 54M     0   \n\n       Content Rating       Last Updated     Minimum Version  \\\n813              Teen      April 2, 2019  Varies with device   \n6412             Teen      April 1, 2019  Varies with device   \n3154             Teen      April 2, 2019          4.0 and up   \n10796        Everyone  December 13, 2018  Varies with device   \n8987         Everyone      April 3, 2019        4.0.3 and up   \n8986         Everyone      April 3, 2019          5.0 and up   \n2114         Everyone      April 1, 2019          2.3 and up   \n3151             Teen      April 1, 2019        4.0.3 and up   \n3497         Everyone   January 25, 2016  Varies with device   \n44563            Teen      April 3, 2019          4.1 and up   \n8718         Everyone     March 28, 2019          7.0 and up   \n112157       Everyone      April 1, 2019          4.1 and up   \n14401        Everyone     March 30, 2019  Varies with device   \n190161           Teen     March 29, 2019          5.0 and up   \n8978         Everyone      March 8, 2019          5.0 and up   \n13025        Everyone  December 13, 2017  Varies with device   \n1273             Teen       May 25, 2018          4.1 and up   \n109434           Teen      April 2, 2019          4.1 and up   \n253120       Everyone      April 1, 2019          5.0 and up   \n8599         Everyone     March 20, 2019          4.3 and up   \n\n              Latest Version  \n813       Varies with device  \n6412      Varies with device  \n3154                 2.15.12  \n10796     Varies with device  \n8987                 8.3.5rc  \n8986                 2.1.1.5  \n2114      Varies with device  \n3151                    2.14  \n3497      Varies with device  \n44563                  7.9.7  \n8718                1.4.10.5  \n112157                 5.4.4  \n14401               10.7.3.3  \n190161                4.10.0  \n8978    5.0.5.4019-a8a5b21f5  \n13025     Varies with device  \n1273                   7.0.0  \n109434         1.4.50.504108  \n253120          4.51.1.19467  \n8599                   5.3.2  ",
      "text/html": "<div>\n<style scoped>\n    .dataframe tbody tr th:only-of-type {\n        vertical-align: middle;\n    }\n\n    .dataframe tbody tr th {\n        vertical-align: top;\n    }\n\n    .dataframe thead th {\n        text-align: right;\n    }\n</style>\n<table border=\"1\" class=\"dataframe\">\n  <thead>\n    <tr style=\"text-align: right;\">\n      <th></th>\n      <th>App Name</th>\n      <th>Category</th>\n      <th>Rating</th>\n      <th>Reviews</th>\n      <th>Installs</th>\n      <th>Size</th>\n      <th>Price</th>\n      <th>Content Rating</th>\n      <th>Last Updated</th>\n      <th>Minimum Version</th>\n      <th>Latest Version</th>\n    </tr>\n  </thead>\n  <tbody>\n    <tr>\n      <th>813</th>\n      <td>YouTube</td>\n      <td>VIDEO_PLAYERS</td>\n      <td>4.36842823</td>\n      <td>41919102</td>\n      <td>5000000000.00000</td>\n      <td>Varies with device</td>\n      <td>0</td>\n      <td>Teen</td>\n      <td>April 2, 2019</td>\n      <td>Varies with device</td>\n      <td>Varies with device</td>\n    </tr>\n    <tr>\n      <th>6412</th>\n      <td>Google Play Movies &amp; TV</td>\n      <td>VIDEO_PLAYERS</td>\n      <td>3.703356266</td>\n      <td>1048972</td>\n      <td>1000000000.00000</td>\n      <td>Varies with device</td>\n      <td>0</td>\n      <td>Teen</td>\n      <td>April 1, 2019</td>\n      <td>Varies with device</td>\n      <td>Varies with device</td>\n    </tr>\n    <tr>\n      <th>3154</th>\n      <td>LIKE Video -Magic Video Maker &amp; Community</td>\n      <td>VIDEO_PLAYERS</td>\n      <td>4.581243515</td>\n      <td>2048739</td>\n      <td>100000000.00000</td>\n      <td>45M</td>\n      <td>0</td>\n      <td>Teen</td>\n      <td>April 2, 2019</td>\n      <td>4.0 and up</td>\n      <td>2.15.12</td>\n    </tr>\n    <tr>\n      <th>10796</th>\n      <td>Motorola FM Radio</td>\n      <td>VIDEO_PLAYERS</td>\n      <td>3.924235821</td>\n      <td>58141</td>\n      <td>100000000.00000</td>\n      <td>Varies with device</td>\n      <td>0</td>\n      <td>Everyone</td>\n      <td>December 13, 2018</td>\n      <td>Varies with device</td>\n      <td>Varies with device</td>\n    </tr>\n    <tr>\n      <th>8987</th>\n      <td>VideoShow Video Editor, Video Maker, Beauty Ca...</td>\n      <td>VIDEO_PLAYERS</td>\n      <td>4.559087276</td>\n      <td>4458794</td>\n      <td>100000000.00000</td>\n      <td>22M</td>\n      <td>0</td>\n      <td>Everyone</td>\n      <td>April 3, 2019</td>\n      <td>4.0.3 and up</td>\n      <td>8.3.5rc</td>\n    </tr>\n    <tr>\n      <th>8986</th>\n      <td>DU Recorder � Screen Recorder, Video Editor, Live</td>\n      <td>VIDEO_PLAYERS</td>\n      <td>4.745390892</td>\n      <td>3992518</td>\n      <td>100000000.00000</td>\n      <td>17M</td>\n      <td>0</td>\n      <td>Everyone</td>\n      <td>April 3, 2019</td>\n      <td>5.0 and up</td>\n      <td>2.1.1.5</td>\n    </tr>\n    <tr>\n      <th>2114</th>\n      <td>VLC for Android</td>\n      <td>VIDEO_PLAYERS</td>\n      <td>4.423864365</td>\n      <td>1139749</td>\n      <td>100000000.00000</td>\n      <td>Varies with device</td>\n      <td>0</td>\n      <td>Everyone</td>\n      <td>April 1, 2019</td>\n      <td>2.3 and up</td>\n      <td>Varies with device</td>\n    </tr>\n    <tr>\n      <th>3151</th>\n      <td>VMate 2019- Video Downloader &amp;Best Video Tube ...</td>\n      <td>VIDEO_PLAYERS</td>\n      <td>4.248163223</td>\n      <td>323372</td>\n      <td>100000000.00000</td>\n      <td>17M</td>\n      <td>0</td>\n      <td>Teen</td>\n      <td>April 1, 2019</td>\n      <td>4.0.3 and up</td>\n      <td>2.14</td>\n    </tr>\n    <tr>\n      <th>3497</th>\n      <td>Motorola Gallery</td>\n      <td>VIDEO_PLAYERS</td>\n      <td>3.947426319</td>\n      <td>126318</td>\n      <td>100000000.00000</td>\n      <td>23M</td>\n      <td>0</td>\n      <td>Everyone</td>\n      <td>January 25, 2016</td>\n      <td>Varies with device</td>\n      <td>Varies with device</td>\n    </tr>\n    <tr>\n      <th>44563</th>\n      <td>VivaVideo - Video Editor &amp; Photo Movie</td>\n      <td>VIDEO_PLAYERS</td>\n      <td>4.603675365</td>\n      <td>10855572</td>\n      <td>100000000.00000</td>\n      <td>40M</td>\n      <td>0</td>\n      <td>Teen</td>\n      <td>April 3, 2019</td>\n      <td>4.1 and up</td>\n      <td>7.9.7</td>\n    </tr>\n    <tr>\n      <th>8718</th>\n      <td>Samsung Video Library</td>\n      <td>VIDEO_PLAYERS</td>\n      <td>4.466049671</td>\n      <td>39661</td>\n      <td>100000000.00000</td>\n      <td>5.8M</td>\n      <td>0</td>\n      <td>Everyone</td>\n      <td>March 28, 2019</td>\n      <td>7.0 and up</td>\n      <td>1.4.10.5</td>\n    </tr>\n    <tr>\n      <th>112157</th>\n      <td>�Torrent�- Torrent Downloader</td>\n      <td>VIDEO_PLAYERS</td>\n      <td>4.542450905</td>\n      <td>3800761</td>\n      <td>100000000.00000</td>\n      <td>Varies with device</td>\n      <td>0</td>\n      <td>Everyone</td>\n      <td>April 1, 2019</td>\n      <td>4.1 and up</td>\n      <td>5.4.4</td>\n    </tr>\n    <tr>\n      <th>14401</th>\n      <td>Peel Smart Remote TV Guide</td>\n      <td>VIDEO_PLAYERS</td>\n      <td>4.295152664</td>\n      <td>658432</td>\n      <td>100000000.00000</td>\n      <td>Varies with device</td>\n      <td>0</td>\n      <td>Everyone</td>\n      <td>March 30, 2019</td>\n      <td>Varies with device</td>\n      <td>10.7.3.3</td>\n    </tr>\n    <tr>\n      <th>190161</th>\n      <td>Dubsmash - Dance Videos &amp; Lip Sync App</td>\n      <td>VIDEO_PLAYERS</td>\n      <td>4.228127003</td>\n      <td>1997744</td>\n      <td>100000000.00000</td>\n      <td>11M</td>\n      <td>0</td>\n      <td>Teen</td>\n      <td>March 29, 2019</td>\n      <td>5.0 and up</td>\n      <td>4.10.0</td>\n    </tr>\n    <tr>\n      <th>8978</th>\n      <td>Quik � Free Video Editor for photos, clips, music</td>\n      <td>VIDEO_PLAYERS</td>\n      <td>4.738492489</td>\n      <td>975119</td>\n      <td>50000000.00000</td>\n      <td>99M</td>\n      <td>0</td>\n      <td>Everyone</td>\n      <td>March 8, 2019</td>\n      <td>5.0 and up</td>\n      <td>5.0.5.4019-a8a5b21f5</td>\n    </tr>\n    <tr>\n      <th>13025</th>\n      <td>MiniMovie - Free Video and Slideshow Editor</td>\n      <td>VIDEO_PLAYERS</td>\n      <td>4.518614292</td>\n      <td>509444</td>\n      <td>50000000.00000</td>\n      <td>Varies with device</td>\n      <td>0</td>\n      <td>Everyone</td>\n      <td>December 13, 2017</td>\n      <td>Varies with device</td>\n      <td>Varies with device</td>\n    </tr>\n    <tr>\n      <th>1273</th>\n      <td>Vine</td>\n      <td>VIDEO_PLAYERS</td>\n      <td>4.186682224</td>\n      <td>1139574</td>\n      <td>50000000.00000</td>\n      <td>1.3M</td>\n      <td>0</td>\n      <td>Teen</td>\n      <td>May 25, 2018</td>\n      <td>4.1 and up</td>\n      <td>7.0.0</td>\n    </tr>\n    <tr>\n      <th>109434</th>\n      <td>Kwai - Short Video Maker &amp; Community</td>\n      <td>VIDEO_PLAYERS</td>\n      <td>4.449896336</td>\n      <td>419552</td>\n      <td>50000000.00000</td>\n      <td>32M</td>\n      <td>0</td>\n      <td>Teen</td>\n      <td>April 2, 2019</td>\n      <td>4.1 and up</td>\n      <td>1.4.50.504108</td>\n    </tr>\n    <tr>\n      <th>253120</th>\n      <td>Magisto - Video Editor &amp; Music Slideshow Maker</td>\n      <td>VIDEO_PLAYERS</td>\n      <td>4.285580158</td>\n      <td>1008323</td>\n      <td>50000000.00000</td>\n      <td>51M</td>\n      <td>0</td>\n      <td>Everyone</td>\n      <td>April 1, 2019</td>\n      <td>5.0 and up</td>\n      <td>4.51.1.19467</td>\n    </tr>\n    <tr>\n      <th>8599</th>\n      <td>PowerDirector - Video Editor App, Best Video M...</td>\n      <td>VIDEO_PLAYERS</td>\n      <td>4.512517929</td>\n      <td>898860</td>\n      <td>50000000.00000</td>\n      <td>54M</td>\n      <td>0</td>\n      <td>Everyone</td>\n      <td>March 20, 2019</td>\n      <td>4.3 and up</td>\n      <td>5.3.2</td>\n    </tr>\n  </tbody>\n</table>\n</div>"
     },
     "metadata": {},
     "execution_count": 35
    }
   ],
   "source": [
    "df_free[df_free['Category'] == 'VIDEO_PLAYERS'].sort_values('Installs', ascending=False).head(20)"
   ]
  },
  {
   "cell_type": "code",
   "execution_count": 34,
   "metadata": {},
   "outputs": [
    {
     "output_type": "execute_result",
     "data": {
      "text/plain": "                                                 App Name       Category  \\\n632              Messenger � Text and Video Chat for Free  COMMUNICATION   \n815                         Skype - free IM & video calls  COMMUNICATION   \n3267                             Samsung Internet Browser  COMMUNICATION   \n842                          Google Chrome: Fast & Secure  COMMUNICATION   \n1981                                             Hangouts  COMMUNICATION   \n2724                                                Gmail  COMMUNICATION   \n6411                Google Duo - High Quality Video Calls  COMMUNICATION   \n671                                    WhatsApp Messenger  COMMUNICATION   \n832       Viber Messenger - Messages, Group Chats & Calls  COMMUNICATION   \n2729    UC Browser � Short Video Status & Video Downlo...  COMMUNICATION   \n1954                          LINE: Free Calls & Messages  COMMUNICATION   \n154068                                               Azar  COMMUNICATION   \n3265                                             Contacts  COMMUNICATION   \n3016                          BBM - Free Calls & Messages  COMMUNICATION   \n2737                                             Telegram  COMMUNICATION   \n685                 Messenger Lite: Free Calls & Messages  COMMUNICATION   \n2747                                                  Kik  COMMUNICATION   \n2741                         Yahoo Mail � Organized Email  COMMUNICATION   \n2736    UC Browser Mini - Video Downloader & Video Status  COMMUNICATION   \n3800                                     Carrier Services  COMMUNICATION   \n\n             Rating   Reviews         Installs                Size Price  \\\n632     4.085856438  65469531 1000000000.00000  Varies with device     0   \n815     4.134609699  10746013 1000000000.00000  Varies with device     0   \n3267    4.424014568    832714 1000000000.00000  Varies with device     0   \n842     4.335205078  13636591 1000000000.00000  Varies with device     0   \n1981    4.040542603   3960560 1000000000.00000  Varies with device     0   \n2724    4.346980095   5614163 1000000000.00000  Varies with device     0   \n6411    4.596403599   3641252 1000000000.00000                 20M     0   \n671     4.417610168  86214292 1000000000.00000  Varies with device     0   \n832     4.362102032  12723787  500000000.00000  Varies with device     0   \n2729    4.450339317  19573637  500000000.00000                 44M     0   \n1954    4.185222626  11390281  500000000.00000                 94M     0   \n154068  4.213160515   1256622  100000000.00000  Varies with device     0   \n3265    4.348867416    152998  100000000.00000  Varies with device     0   \n3016    4.274343967  12958310  100000000.00000                 45M     0   \n2737    4.393939018   3532906  100000000.00000  Varies with device     0   \n685     4.410111427   2421586  100000000.00000  Varies with device     0   \n2747    4.280104637   2467050  100000000.00000  Varies with device     0   \n2741    4.346459389   4549487  100000000.00000  Varies with device     0   \n2736    4.408800125   4005437  100000000.00000                8.8M     0   \n3800    4.402204514    144168  100000000.00000  Varies with device     0   \n\n       Content Rating       Last Updated     Minimum Version  \\\n632          Everyone      April 2, 2019  Varies with device   \n815          Everyone     March 28, 2019  Varies with device   \n3267         Everyone  February 21, 2019          5.0 and up   \n842          Everyone     March 26, 2019  Varies with device   \n1981         Everyone     March 29, 2019  Varies with device   \n2724         Everyone      April 2, 2019  Varies with device   \n6411         Everyone      April 2, 2019          4.4 and up   \n671          Everyone     March 27, 2019  Varies with device   \n832          Everyone      April 2, 2019          4.1 and up   \n2729             Teen      April 2, 2019          4.0 and up   \n1954         Everyone     March 20, 2019          4.4 and up   \n154068     Mature 17+     March 13, 2019  Varies with device   \n3265         Everyone  February 21, 2019          5.0 and up   \n3016         Everyone     March 25, 2019          4.1 and up   \n2737       Mature 17+     March 26, 2019  Varies with device   \n685          Everyone      April 2, 2019          4.0 and up   \n2747             Teen      April 1, 2019  Varies with device   \n2741         Everyone     March 29, 2019  Varies with device   \n2736             Teen      April 1, 2019          4.4 and up   \n3800         Everyone     March 25, 2019          6.0 and up   \n\n                                  Latest Version  \n632                           Varies with device  \n815                           Varies with device  \n3267                          Varies with device  \n842                           Varies with device  \n1981                          Varies with device  \n2724                          Varies with device  \n6411                    50.1.240885383.DR50_RC06  \n671                           Varies with device  \n832                                     10.4.0.4  \n2729                                12.10.9.1193  \n1954                                       9.4.2  \n154068                        Varies with device  \n3265                             3.4.6.234021015  \n3016                                   3.3.21.78  \n2737                          Varies with device  \n685                                54.0.1.10.215  \n2747                          Varies with device  \n2741                          Varies with device  \n2736                                12.10.0.1178  \n3800    21.0.238731980-carrierservices_V21E_RC09  ",
      "text/html": "<div>\n<style scoped>\n    .dataframe tbody tr th:only-of-type {\n        vertical-align: middle;\n    }\n\n    .dataframe tbody tr th {\n        vertical-align: top;\n    }\n\n    .dataframe thead th {\n        text-align: right;\n    }\n</style>\n<table border=\"1\" class=\"dataframe\">\n  <thead>\n    <tr style=\"text-align: right;\">\n      <th></th>\n      <th>App Name</th>\n      <th>Category</th>\n      <th>Rating</th>\n      <th>Reviews</th>\n      <th>Installs</th>\n      <th>Size</th>\n      <th>Price</th>\n      <th>Content Rating</th>\n      <th>Last Updated</th>\n      <th>Minimum Version</th>\n      <th>Latest Version</th>\n    </tr>\n  </thead>\n  <tbody>\n    <tr>\n      <th>632</th>\n      <td>Messenger � Text and Video Chat for Free</td>\n      <td>COMMUNICATION</td>\n      <td>4.085856438</td>\n      <td>65469531</td>\n      <td>1000000000.00000</td>\n      <td>Varies with device</td>\n      <td>0</td>\n      <td>Everyone</td>\n      <td>April 2, 2019</td>\n      <td>Varies with device</td>\n      <td>Varies with device</td>\n    </tr>\n    <tr>\n      <th>815</th>\n      <td>Skype - free IM &amp; video calls</td>\n      <td>COMMUNICATION</td>\n      <td>4.134609699</td>\n      <td>10746013</td>\n      <td>1000000000.00000</td>\n      <td>Varies with device</td>\n      <td>0</td>\n      <td>Everyone</td>\n      <td>March 28, 2019</td>\n      <td>Varies with device</td>\n      <td>Varies with device</td>\n    </tr>\n    <tr>\n      <th>3267</th>\n      <td>Samsung Internet Browser</td>\n      <td>COMMUNICATION</td>\n      <td>4.424014568</td>\n      <td>832714</td>\n      <td>1000000000.00000</td>\n      <td>Varies with device</td>\n      <td>0</td>\n      <td>Everyone</td>\n      <td>February 21, 2019</td>\n      <td>5.0 and up</td>\n      <td>Varies with device</td>\n    </tr>\n    <tr>\n      <th>842</th>\n      <td>Google Chrome: Fast &amp; Secure</td>\n      <td>COMMUNICATION</td>\n      <td>4.335205078</td>\n      <td>13636591</td>\n      <td>1000000000.00000</td>\n      <td>Varies with device</td>\n      <td>0</td>\n      <td>Everyone</td>\n      <td>March 26, 2019</td>\n      <td>Varies with device</td>\n      <td>Varies with device</td>\n    </tr>\n    <tr>\n      <th>1981</th>\n      <td>Hangouts</td>\n      <td>COMMUNICATION</td>\n      <td>4.040542603</td>\n      <td>3960560</td>\n      <td>1000000000.00000</td>\n      <td>Varies with device</td>\n      <td>0</td>\n      <td>Everyone</td>\n      <td>March 29, 2019</td>\n      <td>Varies with device</td>\n      <td>Varies with device</td>\n    </tr>\n    <tr>\n      <th>2724</th>\n      <td>Gmail</td>\n      <td>COMMUNICATION</td>\n      <td>4.346980095</td>\n      <td>5614163</td>\n      <td>1000000000.00000</td>\n      <td>Varies with device</td>\n      <td>0</td>\n      <td>Everyone</td>\n      <td>April 2, 2019</td>\n      <td>Varies with device</td>\n      <td>Varies with device</td>\n    </tr>\n    <tr>\n      <th>6411</th>\n      <td>Google Duo - High Quality Video Calls</td>\n      <td>COMMUNICATION</td>\n      <td>4.596403599</td>\n      <td>3641252</td>\n      <td>1000000000.00000</td>\n      <td>20M</td>\n      <td>0</td>\n      <td>Everyone</td>\n      <td>April 2, 2019</td>\n      <td>4.4 and up</td>\n      <td>50.1.240885383.DR50_RC06</td>\n    </tr>\n    <tr>\n      <th>671</th>\n      <td>WhatsApp Messenger</td>\n      <td>COMMUNICATION</td>\n      <td>4.417610168</td>\n      <td>86214292</td>\n      <td>1000000000.00000</td>\n      <td>Varies with device</td>\n      <td>0</td>\n      <td>Everyone</td>\n      <td>March 27, 2019</td>\n      <td>Varies with device</td>\n      <td>Varies with device</td>\n    </tr>\n    <tr>\n      <th>832</th>\n      <td>Viber Messenger - Messages, Group Chats &amp; Calls</td>\n      <td>COMMUNICATION</td>\n      <td>4.362102032</td>\n      <td>12723787</td>\n      <td>500000000.00000</td>\n      <td>Varies with device</td>\n      <td>0</td>\n      <td>Everyone</td>\n      <td>April 2, 2019</td>\n      <td>4.1 and up</td>\n      <td>10.4.0.4</td>\n    </tr>\n    <tr>\n      <th>2729</th>\n      <td>UC Browser � Short Video Status &amp; Video Downlo...</td>\n      <td>COMMUNICATION</td>\n      <td>4.450339317</td>\n      <td>19573637</td>\n      <td>500000000.00000</td>\n      <td>44M</td>\n      <td>0</td>\n      <td>Teen</td>\n      <td>April 2, 2019</td>\n      <td>4.0 and up</td>\n      <td>12.10.9.1193</td>\n    </tr>\n    <tr>\n      <th>1954</th>\n      <td>LINE: Free Calls &amp; Messages</td>\n      <td>COMMUNICATION</td>\n      <td>4.185222626</td>\n      <td>11390281</td>\n      <td>500000000.00000</td>\n      <td>94M</td>\n      <td>0</td>\n      <td>Everyone</td>\n      <td>March 20, 2019</td>\n      <td>4.4 and up</td>\n      <td>9.4.2</td>\n    </tr>\n    <tr>\n      <th>154068</th>\n      <td>Azar</td>\n      <td>COMMUNICATION</td>\n      <td>4.213160515</td>\n      <td>1256622</td>\n      <td>100000000.00000</td>\n      <td>Varies with device</td>\n      <td>0</td>\n      <td>Mature 17+</td>\n      <td>March 13, 2019</td>\n      <td>Varies with device</td>\n      <td>Varies with device</td>\n    </tr>\n    <tr>\n      <th>3265</th>\n      <td>Contacts</td>\n      <td>COMMUNICATION</td>\n      <td>4.348867416</td>\n      <td>152998</td>\n      <td>100000000.00000</td>\n      <td>Varies with device</td>\n      <td>0</td>\n      <td>Everyone</td>\n      <td>February 21, 2019</td>\n      <td>5.0 and up</td>\n      <td>3.4.6.234021015</td>\n    </tr>\n    <tr>\n      <th>3016</th>\n      <td>BBM - Free Calls &amp; Messages</td>\n      <td>COMMUNICATION</td>\n      <td>4.274343967</td>\n      <td>12958310</td>\n      <td>100000000.00000</td>\n      <td>45M</td>\n      <td>0</td>\n      <td>Everyone</td>\n      <td>March 25, 2019</td>\n      <td>4.1 and up</td>\n      <td>3.3.21.78</td>\n    </tr>\n    <tr>\n      <th>2737</th>\n      <td>Telegram</td>\n      <td>COMMUNICATION</td>\n      <td>4.393939018</td>\n      <td>3532906</td>\n      <td>100000000.00000</td>\n      <td>Varies with device</td>\n      <td>0</td>\n      <td>Mature 17+</td>\n      <td>March 26, 2019</td>\n      <td>Varies with device</td>\n      <td>Varies with device</td>\n    </tr>\n    <tr>\n      <th>685</th>\n      <td>Messenger Lite: Free Calls &amp; Messages</td>\n      <td>COMMUNICATION</td>\n      <td>4.410111427</td>\n      <td>2421586</td>\n      <td>100000000.00000</td>\n      <td>Varies with device</td>\n      <td>0</td>\n      <td>Everyone</td>\n      <td>April 2, 2019</td>\n      <td>4.0 and up</td>\n      <td>54.0.1.10.215</td>\n    </tr>\n    <tr>\n      <th>2747</th>\n      <td>Kik</td>\n      <td>COMMUNICATION</td>\n      <td>4.280104637</td>\n      <td>2467050</td>\n      <td>100000000.00000</td>\n      <td>Varies with device</td>\n      <td>0</td>\n      <td>Teen</td>\n      <td>April 1, 2019</td>\n      <td>Varies with device</td>\n      <td>Varies with device</td>\n    </tr>\n    <tr>\n      <th>2741</th>\n      <td>Yahoo Mail � Organized Email</td>\n      <td>COMMUNICATION</td>\n      <td>4.346459389</td>\n      <td>4549487</td>\n      <td>100000000.00000</td>\n      <td>Varies with device</td>\n      <td>0</td>\n      <td>Everyone</td>\n      <td>March 29, 2019</td>\n      <td>Varies with device</td>\n      <td>Varies with device</td>\n    </tr>\n    <tr>\n      <th>2736</th>\n      <td>UC Browser Mini - Video Downloader &amp; Video Status</td>\n      <td>COMMUNICATION</td>\n      <td>4.408800125</td>\n      <td>4005437</td>\n      <td>100000000.00000</td>\n      <td>8.8M</td>\n      <td>0</td>\n      <td>Teen</td>\n      <td>April 1, 2019</td>\n      <td>4.4 and up</td>\n      <td>12.10.0.1178</td>\n    </tr>\n    <tr>\n      <th>3800</th>\n      <td>Carrier Services</td>\n      <td>COMMUNICATION</td>\n      <td>4.402204514</td>\n      <td>144168</td>\n      <td>100000000.00000</td>\n      <td>Varies with device</td>\n      <td>0</td>\n      <td>Everyone</td>\n      <td>March 25, 2019</td>\n      <td>6.0 and up</td>\n      <td>21.0.238731980-carrierservices_V21E_RC09</td>\n    </tr>\n  </tbody>\n</table>\n</div>"
     },
     "metadata": {},
     "execution_count": 34
    }
   ],
   "source": [
    "df_free[df_free['Category'] == 'COMMUNICATION'].sort_values('Installs', ascending=False).head(20)"
   ]
  },
  {
   "cell_type": "code",
   "execution_count": 33,
   "metadata": {},
   "outputs": [
    {
     "output_type": "execute_result",
     "data": {
      "text/plain": "                                                 App Name Category  \\\n831                                         Facebook Lite   SOCIAL   \n653                                             Instagram   SOCIAL   \n704                                              Facebook   SOCIAL   \n642                                                TikTok   SOCIAL   \n691                                              Snapchat   SOCIAL   \n13915    Hike News & Content (for chatting go to new app)   SOCIAL   \n7637                        VK � social network and calls   SOCIAL   \n1991                        Tango - Live Video Broadcasts   SOCIAL   \n463                                             Pinterest   SOCIAL   \n2710    LinkedIn: Jobs, professional profile, & networ...   SOCIAL   \n1962                                               Tumblr   SOCIAL   \n20592   ShareChat - Make Friends, WhatsApp Status & Vi...   SOCIAL   \n1995                       Badoo - Free Chat & Dating App   SOCIAL   \n102032                     Vigo Video - Funny Short Video   SOCIAL   \n3158      BIGO LIVE - Live Stream, Live Video & Live Chat   SOCIAL   \n32732                                                  OK   SOCIAL   \n1978                          SKOUT - Meet, Chat, Go Live   SOCIAL   \n1960                                               LOVOO�   SOCIAL   \n35324    LiveMe - Video chat, new friends, and make money   SOCIAL   \n1985                                  POF Free Dating App   SOCIAL   \n\n             Rating   Reviews         Installs                Size Price  \\\n831     4.288809299  10866006 1000000000.00000  Varies with device     0   \n653      4.51955986  79726403 1000000000.00000  Varies with device     0   \n704     4.087946415  85766433 1000000000.00000  Varies with device     0   \n642     4.386767387   9670607  500000000.00000                 72M     0   \n691      4.07791853  19026060  500000000.00000                 56M     0   \n13915   4.337181568   2929521  100000000.00000  Varies with device     0   \n7637    3.821457386   6286733  100000000.00000                 51M     0   \n1991    4.290686131   3822103  100000000.00000                 80M     0   \n463     4.617506027   5064395  100000000.00000  Varies with device     0   \n2710    4.240080833   1372067  100000000.00000                 23M     0   \n1962    4.345463276   3241472  100000000.00000  Varies with device     0   \n20592   4.521960258    950124  100000000.00000                 42M     0   \n1995    4.299030304   4216266  100000000.00000  Varies with device     0   \n102032  4.326038837    613004  100000000.00000                 68M     0   \n3158    4.460019588   2968932  100000000.00000                 34M     0   \n32732    4.36797905   2267408  100000000.00000  Varies with device     0   \n1978    4.257332802   1109664   50000000.00000                 72M     0   \n1960    4.026992321    906584   50000000.00000  Varies with device     0   \n35324   4.444291115    524118   50000000.00000  Varies with device     0   \n1985    4.135750771   1318838   50000000.00000  Varies with device     0   \n\n       Content Rating       Last Updated     Minimum Version  \\\n831              Teen     March 28, 2019  Varies with device   \n653              Teen      April 2, 2019  Varies with device   \n704              Teen      April 2, 2019  Varies with device   \n642              Teen      April 2, 2019          4.1 and up   \n691              Teen      April 3, 2019          4.4 and up   \n13915            Teen  February 15, 2019  Varies with device   \n7637       Mature 17+      April 2, 2019  Varies with device   \n1991       Mature 17+      April 2, 2019          4.4 and up   \n463              Teen      April 2, 2019  Varies with device   \n2710         Everyone     March 28, 2019          5.0 and up   \n1962       Mature 17+     March 27, 2019  Varies with device   \n20592            Teen      April 1, 2019          4.1 and up   \n1995       Mature 17+      April 2, 2019  Varies with device   \n102032           Teen      April 1, 2019        4.0.3 and up   \n3158             Teen      April 3, 2019          4.1 and up   \n32732            Teen      April 1, 2019  Varies with device   \n1978       Mature 17+      April 2, 2019          4.1 and up   \n1960       Mature 17+      April 1, 2019  Varies with device   \n35324            Teen      April 2, 2019  Varies with device   \n1985       Mature 17+     March 27, 2019  Varies with device   \n\n            Latest Version  \n831     Varies with device  \n653     Varies with device  \n704     Varies with device  \n642                 10.5.0  \n691             10.54.0.31  \n13915   Varies with device  \n7637    Varies with device  \n1991            6.6.233897  \n463     Varies with device  \n2710               4.1.289  \n1962    Varies with device  \n20592         emarti_8.5.4  \n1995    Varies with device  \n102032               6.0.0  \n3158                4.12.0  \n32732   Varies with device  \n1978                 6.6.2  \n1960    Varies with device  \n35324   Varies with device  \n1985    Varies with device  ",
      "text/html": "<div>\n<style scoped>\n    .dataframe tbody tr th:only-of-type {\n        vertical-align: middle;\n    }\n\n    .dataframe tbody tr th {\n        vertical-align: top;\n    }\n\n    .dataframe thead th {\n        text-align: right;\n    }\n</style>\n<table border=\"1\" class=\"dataframe\">\n  <thead>\n    <tr style=\"text-align: right;\">\n      <th></th>\n      <th>App Name</th>\n      <th>Category</th>\n      <th>Rating</th>\n      <th>Reviews</th>\n      <th>Installs</th>\n      <th>Size</th>\n      <th>Price</th>\n      <th>Content Rating</th>\n      <th>Last Updated</th>\n      <th>Minimum Version</th>\n      <th>Latest Version</th>\n    </tr>\n  </thead>\n  <tbody>\n    <tr>\n      <th>831</th>\n      <td>Facebook Lite</td>\n      <td>SOCIAL</td>\n      <td>4.288809299</td>\n      <td>10866006</td>\n      <td>1000000000.00000</td>\n      <td>Varies with device</td>\n      <td>0</td>\n      <td>Teen</td>\n      <td>March 28, 2019</td>\n      <td>Varies with device</td>\n      <td>Varies with device</td>\n    </tr>\n    <tr>\n      <th>653</th>\n      <td>Instagram</td>\n      <td>SOCIAL</td>\n      <td>4.51955986</td>\n      <td>79726403</td>\n      <td>1000000000.00000</td>\n      <td>Varies with device</td>\n      <td>0</td>\n      <td>Teen</td>\n      <td>April 2, 2019</td>\n      <td>Varies with device</td>\n      <td>Varies with device</td>\n    </tr>\n    <tr>\n      <th>704</th>\n      <td>Facebook</td>\n      <td>SOCIAL</td>\n      <td>4.087946415</td>\n      <td>85766433</td>\n      <td>1000000000.00000</td>\n      <td>Varies with device</td>\n      <td>0</td>\n      <td>Teen</td>\n      <td>April 2, 2019</td>\n      <td>Varies with device</td>\n      <td>Varies with device</td>\n    </tr>\n    <tr>\n      <th>642</th>\n      <td>TikTok</td>\n      <td>SOCIAL</td>\n      <td>4.386767387</td>\n      <td>9670607</td>\n      <td>500000000.00000</td>\n      <td>72M</td>\n      <td>0</td>\n      <td>Teen</td>\n      <td>April 2, 2019</td>\n      <td>4.1 and up</td>\n      <td>10.5.0</td>\n    </tr>\n    <tr>\n      <th>691</th>\n      <td>Snapchat</td>\n      <td>SOCIAL</td>\n      <td>4.07791853</td>\n      <td>19026060</td>\n      <td>500000000.00000</td>\n      <td>56M</td>\n      <td>0</td>\n      <td>Teen</td>\n      <td>April 3, 2019</td>\n      <td>4.4 and up</td>\n      <td>10.54.0.31</td>\n    </tr>\n    <tr>\n      <th>13915</th>\n      <td>Hike News &amp; Content (for chatting go to new app)</td>\n      <td>SOCIAL</td>\n      <td>4.337181568</td>\n      <td>2929521</td>\n      <td>100000000.00000</td>\n      <td>Varies with device</td>\n      <td>0</td>\n      <td>Teen</td>\n      <td>February 15, 2019</td>\n      <td>Varies with device</td>\n      <td>Varies with device</td>\n    </tr>\n    <tr>\n      <th>7637</th>\n      <td>VK � social network and calls</td>\n      <td>SOCIAL</td>\n      <td>3.821457386</td>\n      <td>6286733</td>\n      <td>100000000.00000</td>\n      <td>51M</td>\n      <td>0</td>\n      <td>Mature 17+</td>\n      <td>April 2, 2019</td>\n      <td>Varies with device</td>\n      <td>Varies with device</td>\n    </tr>\n    <tr>\n      <th>1991</th>\n      <td>Tango - Live Video Broadcasts</td>\n      <td>SOCIAL</td>\n      <td>4.290686131</td>\n      <td>3822103</td>\n      <td>100000000.00000</td>\n      <td>80M</td>\n      <td>0</td>\n      <td>Mature 17+</td>\n      <td>April 2, 2019</td>\n      <td>4.4 and up</td>\n      <td>6.6.233897</td>\n    </tr>\n    <tr>\n      <th>463</th>\n      <td>Pinterest</td>\n      <td>SOCIAL</td>\n      <td>4.617506027</td>\n      <td>5064395</td>\n      <td>100000000.00000</td>\n      <td>Varies with device</td>\n      <td>0</td>\n      <td>Teen</td>\n      <td>April 2, 2019</td>\n      <td>Varies with device</td>\n      <td>Varies with device</td>\n    </tr>\n    <tr>\n      <th>2710</th>\n      <td>LinkedIn: Jobs, professional profile, &amp; networ...</td>\n      <td>SOCIAL</td>\n      <td>4.240080833</td>\n      <td>1372067</td>\n      <td>100000000.00000</td>\n      <td>23M</td>\n      <td>0</td>\n      <td>Everyone</td>\n      <td>March 28, 2019</td>\n      <td>5.0 and up</td>\n      <td>4.1.289</td>\n    </tr>\n    <tr>\n      <th>1962</th>\n      <td>Tumblr</td>\n      <td>SOCIAL</td>\n      <td>4.345463276</td>\n      <td>3241472</td>\n      <td>100000000.00000</td>\n      <td>Varies with device</td>\n      <td>0</td>\n      <td>Mature 17+</td>\n      <td>March 27, 2019</td>\n      <td>Varies with device</td>\n      <td>Varies with device</td>\n    </tr>\n    <tr>\n      <th>20592</th>\n      <td>ShareChat - Make Friends, WhatsApp Status &amp; Vi...</td>\n      <td>SOCIAL</td>\n      <td>4.521960258</td>\n      <td>950124</td>\n      <td>100000000.00000</td>\n      <td>42M</td>\n      <td>0</td>\n      <td>Teen</td>\n      <td>April 1, 2019</td>\n      <td>4.1 and up</td>\n      <td>emarti_8.5.4</td>\n    </tr>\n    <tr>\n      <th>1995</th>\n      <td>Badoo - Free Chat &amp; Dating App</td>\n      <td>SOCIAL</td>\n      <td>4.299030304</td>\n      <td>4216266</td>\n      <td>100000000.00000</td>\n      <td>Varies with device</td>\n      <td>0</td>\n      <td>Mature 17+</td>\n      <td>April 2, 2019</td>\n      <td>Varies with device</td>\n      <td>Varies with device</td>\n    </tr>\n    <tr>\n      <th>102032</th>\n      <td>Vigo Video - Funny Short Video</td>\n      <td>SOCIAL</td>\n      <td>4.326038837</td>\n      <td>613004</td>\n      <td>100000000.00000</td>\n      <td>68M</td>\n      <td>0</td>\n      <td>Teen</td>\n      <td>April 1, 2019</td>\n      <td>4.0.3 and up</td>\n      <td>6.0.0</td>\n    </tr>\n    <tr>\n      <th>3158</th>\n      <td>BIGO LIVE - Live Stream, Live Video &amp; Live Chat</td>\n      <td>SOCIAL</td>\n      <td>4.460019588</td>\n      <td>2968932</td>\n      <td>100000000.00000</td>\n      <td>34M</td>\n      <td>0</td>\n      <td>Teen</td>\n      <td>April 3, 2019</td>\n      <td>4.1 and up</td>\n      <td>4.12.0</td>\n    </tr>\n    <tr>\n      <th>32732</th>\n      <td>OK</td>\n      <td>SOCIAL</td>\n      <td>4.36797905</td>\n      <td>2267408</td>\n      <td>100000000.00000</td>\n      <td>Varies with device</td>\n      <td>0</td>\n      <td>Teen</td>\n      <td>April 1, 2019</td>\n      <td>Varies with device</td>\n      <td>Varies with device</td>\n    </tr>\n    <tr>\n      <th>1978</th>\n      <td>SKOUT - Meet, Chat, Go Live</td>\n      <td>SOCIAL</td>\n      <td>4.257332802</td>\n      <td>1109664</td>\n      <td>50000000.00000</td>\n      <td>72M</td>\n      <td>0</td>\n      <td>Mature 17+</td>\n      <td>April 2, 2019</td>\n      <td>4.1 and up</td>\n      <td>6.6.2</td>\n    </tr>\n    <tr>\n      <th>1960</th>\n      <td>LOVOO�</td>\n      <td>SOCIAL</td>\n      <td>4.026992321</td>\n      <td>906584</td>\n      <td>50000000.00000</td>\n      <td>Varies with device</td>\n      <td>0</td>\n      <td>Mature 17+</td>\n      <td>April 1, 2019</td>\n      <td>Varies with device</td>\n      <td>Varies with device</td>\n    </tr>\n    <tr>\n      <th>35324</th>\n      <td>LiveMe - Video chat, new friends, and make money</td>\n      <td>SOCIAL</td>\n      <td>4.444291115</td>\n      <td>524118</td>\n      <td>50000000.00000</td>\n      <td>Varies with device</td>\n      <td>0</td>\n      <td>Teen</td>\n      <td>April 2, 2019</td>\n      <td>Varies with device</td>\n      <td>Varies with device</td>\n    </tr>\n    <tr>\n      <th>1985</th>\n      <td>POF Free Dating App</td>\n      <td>SOCIAL</td>\n      <td>4.135750771</td>\n      <td>1318838</td>\n      <td>50000000.00000</td>\n      <td>Varies with device</td>\n      <td>0</td>\n      <td>Mature 17+</td>\n      <td>March 27, 2019</td>\n      <td>Varies with device</td>\n      <td>Varies with device</td>\n    </tr>\n  </tbody>\n</table>\n</div>"
     },
     "metadata": {},
     "execution_count": 33
    }
   ],
   "source": [
    "df_free[df_free['Category'] == 'SOCIAL'].sort_values('Installs', ascending=False).head(20)"
   ]
  },
  {
   "cell_type": "markdown",
   "metadata": {},
   "source": [
    "To support even more games popularity, categories like video players, communication and social are dominated by apps like YouTube, Skype and Facebook with billions of installs each, making these categories seems more popular than they really are."
   ]
  },
  {
   "cell_type": "markdown",
   "metadata": {},
   "source": [
    "## Conclusion\n",
    "In this project, we analyzed data about the Google Play mobile apps with the goal of recommending an app profile that can be profitable.\n",
    "\n",
    "After the analysis, we concluded that making a game would probably be the best bet (racing games are more popular, but we think that any kind of game would be fine), they are popular and people tend to install multiple games of the same genre, unlike other categories of apps that people generally have a preference and that we would start at a disadvantage in competition."
   ]
  }
 ],
 "metadata": {
  "language_info": {
   "name": "python",
   "codemirror_mode": {
    "name": "ipython",
    "version": 3
   },
   "version": "3.7.6-final"
  },
  "orig_nbformat": 2,
  "file_extension": ".py",
  "mimetype": "text/x-python",
  "name": "python",
  "npconvert_exporter": "python",
  "pygments_lexer": "ipython3",
  "version": 3,
  "kernelspec": {
   "name": "python37364bitbasecondabf60750d4ace4701b72d66be8319987b",
   "display_name": "Python 3.7.3 64-bit ('base': conda)"
  }
 },
 "nbformat": 4,
 "nbformat_minor": 2
}