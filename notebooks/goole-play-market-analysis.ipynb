{
 "nbformat": 4,
 "nbformat_minor": 2,
 "metadata": {
  "language_info": {
   "name": "python",
   "codemirror_mode": {
    "name": "ipython",
    "version": 3
   },
   "version": "3.7.3-final"
  },
  "orig_nbformat": 2,
  "file_extension": ".py",
  "mimetype": "text/x-python",
  "name": "python",
  "npconvert_exporter": "python",
  "pygments_lexer": "ipython3",
  "version": 3,
  "kernelspec": {
   "name": "python37364bitbasecondabf60750d4ace4701b72d66be8319987b",
   "display_name": "Python 3.7.3 64-bit ('base': conda)"
  }
 },
 "cells": [
  {
   "cell_type": "markdown",
   "execution_count": null,
   "metadata": {},
   "outputs": [],
   "source": [
    "# Analysis goal \n",
    "- The goal for this project is to analyze Google Play's data to help understand what kinds of apps are likely to attract more users."
   ]
  },
  {
   "cell_type": "markdown",
   "execution_count": null,
   "metadata": {},
   "outputs": [],
   "source": [
    "## About the Data\n",
    "As of September 2019, there were [approximately 2.8 million Android apps](https://www.statista.com/statistics/266210/number-of-available-applications-in-the-google-play-store/) on Google Play.\n",
    "\n",
    "Collecting data for these many apps is not an easy task. So I decided to look for a data set that could help me. After some search I found two promising data sets:\n",
    "- [A data set](https://www.kaggle.com/lava18/google-play-store-apps) with 10k apps collected on february 2019\n",
    "- And [a data set](https://www.kaggle.com/lava18/google-play-store-apps) with 267k apps collected on april 2019\n",
    "\n",
    "\n",
    "After some thought I decided to use the last one, because it has more data and was collected more recently.\n"
   ]
  },
  {
   "cell_type": "markdown",
   "execution_count": null,
   "metadata": {},
   "outputs": [],
   "source": [
    "## Opening the Data"
   ]
  },
  {
   "cell_type": "code",
   "execution_count": 43,
   "metadata": {},
   "outputs": [],
   "source": [
    "from csv import reader\n",
    "\n",
    "### The Google Play data set ###\n",
    "opened_file = open('..\\\\data\\\\raw\\\\Google-Playstore-Full.csv')\n",
    "read_file = reader(opened_file)\n",
    "google_play = list(read_file)\n",
    "google_play_header = google_play[0]\n",
    "google_play_data = google_play[1:]"
   ]
  },
  {
   "cell_type": "markdown",
   "execution_count": null,
   "metadata": {},
   "outputs": [],
   "source": [
    "## Exploring the Data\n",
    "To make it easier to explore the data set I created 3 functions that I will reuse throughout the project."
   ]
  },
  {
   "cell_type": "code",
   "execution_count": 44,
   "metadata": {},
   "outputs": [],
   "source": [
    "def print_header(header):\n",
    "    print(header)\n",
    "    print('\\n')"
   ]
  },
  {
   "cell_type": "code",
   "execution_count": 45,
   "metadata": {},
   "outputs": [],
   "source": [
    "def print_data(data, start = 0, end = 5):\n",
    "    data_slice = data[start:end]\n",
    "    for row in data_slice:\n",
    "        print(row)\n",
    "        print('\\n')"
   ]
  },
  {
   "cell_type": "code",
   "execution_count": 46,
   "metadata": {},
   "outputs": [],
   "source": [
    "def print_data_info(data):\n",
    "    print('Number of rows:', len(data))\n",
    "    print('Number of columns:', len(data[0]))"
   ]
  },
  {
   "cell_type": "code",
   "execution_count": 47,
   "metadata": {},
   "outputs": [],
   "source": [
    "def print_data_overview():\n",
    "    print_header(google_play_header)\n",
    "    print_data(google_play_data)\n",
    "    print_data_info(google_play_data)   "
   ]
  },
  {
   "cell_type": "code",
   "execution_count": 48,
   "metadata": {},
   "outputs": [
    {
     "name": "stdout",
     "output_type": "stream",
     "text": "['App Name', 'Category', 'Rating', 'Reviews', 'Installs', 'Size', 'Price', 'Content Rating', 'Last Updated', 'Minimum Version', 'Latest Version', '', '', '', '']\n\n\n['DoorDash - Food Delivery', 'FOOD_AND_DRINK', '4.548561573', '305034', '5,000,000+', 'Varies with device', '0', 'Everyone', 'March 29, 2019', 'Varies with device', 'Varies with device', '', '', '', '']\n\n\n['TripAdvisor Hotels Flights Restaurants Attractions', 'TRAVEL_AND_LOCAL', '4.400671482', '1207922', '100,000,000+', 'Varies with device', '0', 'Everyone', 'March 29, 2019', 'Varies with device', 'Varies with device', '', '', '', '']\n\n\n['Peapod', 'SHOPPING', '3.656329393', '1967', '100,000+', '1.4M', '0', 'Everyone', 'September 20, 2018', '5.0 and up', '2.2.0', '', '', '', '']\n\n\n['foodpanda - Local Food Delivery', 'FOOD_AND_DRINK', '4.107232571', '389154', '10,000,000+', '16M', '0', 'Everyone', 'March 22, 2019', '4.2 and up', '4.18.2', '', '', '', '']\n\n\n['My CookBook Pro (Ad Free)', 'FOOD_AND_DRINK', '4.647752285', '2291', '10,000+', 'Varies with device', '$5.99', 'Everyone', 'April 1, 2019', 'Varies with device', 'Varies with device', '', '', '', '']\n\n\nNumber of rows: 267052\nNumber of columns: 15\n"
    }
   ],
   "source": [
    "print_data_overview()"
   ]
  },
  {
   "cell_type": "markdown",
   "execution_count": null,
   "metadata": {},
   "outputs": [],
   "source": [
    "## Data Wrangling\n",
    "\n",
    "After a quick glance we can get some useful information about this data, like the columns that can be important ('Category', 'Rating', 'Reviews', 'Installs', 'Price', 'Content Rating').\n",
    "\n",
    "If we pay a little more attention, we can see that the header and rows are missing the last 4 values. Since the header is mmissing too any information in these fields are meaningless. So we can start fixing that."
   ]
  },
  {
   "cell_type": "markdown",
   "execution_count": null,
   "metadata": {},
   "outputs": [],
   "source": [
    "### Drop 4 last missing values"
   ]
  },
  {
   "cell_type": "code",
   "execution_count": 49,
   "metadata": {},
   "outputs": [],
   "source": [
    "number_of_items_to_delete = 4\n",
    "\n",
    "del google_play_header[-number_of_items_to_delete:]\n",
    "\n",
    "for row in google_play_data:\n",
    "    del row[-number_of_items_to_delete:]"
   ]
  },
  {
   "cell_type": "code",
   "execution_count": 50,
   "metadata": {},
   "outputs": [
    {
     "name": "stdout",
     "output_type": "stream",
     "text": "['App Name', 'Category', 'Rating', 'Reviews', 'Installs', 'Size', 'Price', 'Content Rating', 'Last Updated', 'Minimum Version', 'Latest Version']\n\n\n['DoorDash - Food Delivery', 'FOOD_AND_DRINK', '4.548561573', '305034', '5,000,000+', 'Varies with device', '0', 'Everyone', 'March 29, 2019', 'Varies with device', 'Varies with device']\n\n\n['TripAdvisor Hotels Flights Restaurants Attractions', 'TRAVEL_AND_LOCAL', '4.400671482', '1207922', '100,000,000+', 'Varies with device', '0', 'Everyone', 'March 29, 2019', 'Varies with device', 'Varies with device']\n\n\n['Peapod', 'SHOPPING', '3.656329393', '1967', '100,000+', '1.4M', '0', 'Everyone', 'September 20, 2018', '5.0 and up', '2.2.0']\n\n\n['foodpanda - Local Food Delivery', 'FOOD_AND_DRINK', '4.107232571', '389154', '10,000,000+', '16M', '0', 'Everyone', 'March 22, 2019', '4.2 and up', '4.18.2']\n\n\n['My CookBook Pro (Ad Free)', 'FOOD_AND_DRINK', '4.647752285', '2291', '10,000+', 'Varies with device', '$5.99', 'Everyone', 'April 1, 2019', 'Varies with device', 'Varies with device']\n\n\nNumber of rows: 267052\nNumber of columns: 11\n"
    }
   ],
   "source": [
    "print_data_overview()"
   ]
  },
  {
   "cell_type": "markdown",
   "execution_count": null,
   "metadata": {},
   "outputs": [],
   "source": [
    "### Find duplicates\n",
    "\n",
    "So here is where I hit a wall using pure python, to check for duplicates I'd have to do something like:\n",
    "```python\n",
    "duplicate_apps = []\n",
    "unique_apps = []\n",
    "\n",
    "for app in google_play_data:\n",
    "    name = app[0]\n",
    "    if name in unique_apps:\n",
    "        duplicate_apps.append(name)\n",
    "    else:\n",
    "        unique_apps.append(name)\n",
    "```\n",
    "This would work just fine for a small data set. But in this data set it just takes too long, so for now I'll start using pandas"
   ]
  },
  {
   "cell_type": "code",
   "execution_count": 51,
   "metadata": {},
   "outputs": [],
   "source": [
    "import pandas as pd"
   ]
  },
  {
   "cell_type": "code",
   "execution_count": 52,
   "metadata": {},
   "outputs": [],
   "source": [
    "df = pd.read_csv('..\\\\data\\\\raw\\\\Google-Playstore-Full.csv', low_memory=False)"
   ]
  },
  {
   "cell_type": "code",
   "execution_count": 53,
   "metadata": {},
   "outputs": [
    {
     "data": {
      "text/html": "<div>\n<style scoped>\n    .dataframe tbody tr th:only-of-type {\n        vertical-align: middle;\n    }\n\n    .dataframe tbody tr th {\n        vertical-align: top;\n    }\n\n    .dataframe thead th {\n        text-align: right;\n    }\n</style>\n<table border=\"1\" class=\"dataframe\">\n  <thead>\n    <tr style=\"text-align: right;\">\n      <th></th>\n      <th>App Name</th>\n      <th>Category</th>\n      <th>Rating</th>\n      <th>Reviews</th>\n      <th>Installs</th>\n      <th>Size</th>\n      <th>Price</th>\n      <th>Content Rating</th>\n      <th>Last Updated</th>\n      <th>Minimum Version</th>\n      <th>Latest Version</th>\n      <th>Unnamed: 11</th>\n      <th>Unnamed: 12</th>\n      <th>Unnamed: 13</th>\n      <th>Unnamed: 14</th>\n    </tr>\n  </thead>\n  <tbody>\n    <tr>\n      <th>0</th>\n      <td>DoorDash - Food Delivery</td>\n      <td>FOOD_AND_DRINK</td>\n      <td>4.548561573</td>\n      <td>305034</td>\n      <td>5,000,000+</td>\n      <td>Varies with device</td>\n      <td>0</td>\n      <td>Everyone</td>\n      <td>March 29, 2019</td>\n      <td>Varies with device</td>\n      <td>Varies with device</td>\n      <td>NaN</td>\n      <td>NaN</td>\n      <td>NaN</td>\n      <td>NaN</td>\n    </tr>\n    <tr>\n      <th>1</th>\n      <td>TripAdvisor Hotels Flights Restaurants Attract...</td>\n      <td>TRAVEL_AND_LOCAL</td>\n      <td>4.400671482</td>\n      <td>1207922</td>\n      <td>100,000,000+</td>\n      <td>Varies with device</td>\n      <td>0</td>\n      <td>Everyone</td>\n      <td>March 29, 2019</td>\n      <td>Varies with device</td>\n      <td>Varies with device</td>\n      <td>NaN</td>\n      <td>NaN</td>\n      <td>NaN</td>\n      <td>NaN</td>\n    </tr>\n    <tr>\n      <th>2</th>\n      <td>Peapod</td>\n      <td>SHOPPING</td>\n      <td>3.656329393</td>\n      <td>1967</td>\n      <td>100,000+</td>\n      <td>1.4M</td>\n      <td>0</td>\n      <td>Everyone</td>\n      <td>September 20, 2018</td>\n      <td>5.0 and up</td>\n      <td>2.2.0</td>\n      <td>NaN</td>\n      <td>NaN</td>\n      <td>NaN</td>\n      <td>NaN</td>\n    </tr>\n    <tr>\n      <th>3</th>\n      <td>foodpanda - Local Food Delivery</td>\n      <td>FOOD_AND_DRINK</td>\n      <td>4.107232571</td>\n      <td>389154</td>\n      <td>10,000,000+</td>\n      <td>16M</td>\n      <td>0</td>\n      <td>Everyone</td>\n      <td>March 22, 2019</td>\n      <td>4.2 and up</td>\n      <td>4.18.2</td>\n      <td>NaN</td>\n      <td>NaN</td>\n      <td>NaN</td>\n      <td>NaN</td>\n    </tr>\n    <tr>\n      <th>4</th>\n      <td>My CookBook Pro (Ad Free)</td>\n      <td>FOOD_AND_DRINK</td>\n      <td>4.647752285</td>\n      <td>2291</td>\n      <td>10,000+</td>\n      <td>Varies with device</td>\n      <td>$5.99</td>\n      <td>Everyone</td>\n      <td>April 1, 2019</td>\n      <td>Varies with device</td>\n      <td>Varies with device</td>\n      <td>NaN</td>\n      <td>NaN</td>\n      <td>NaN</td>\n      <td>NaN</td>\n    </tr>\n  </tbody>\n</table>\n</div>",
      "text/plain": "                                            App Name          Category  \\\n0                           DoorDash - Food Delivery    FOOD_AND_DRINK   \n1  TripAdvisor Hotels Flights Restaurants Attract...  TRAVEL_AND_LOCAL   \n2                                             Peapod          SHOPPING   \n3                    foodpanda - Local Food Delivery    FOOD_AND_DRINK   \n4                          My CookBook Pro (Ad Free)    FOOD_AND_DRINK   \n\n        Rating  Reviews      Installs                Size  Price  \\\n0  4.548561573   305034    5,000,000+  Varies with device      0   \n1  4.400671482  1207922  100,000,000+  Varies with device      0   \n2  3.656329393     1967      100,000+                1.4M      0   \n3  4.107232571   389154   10,000,000+                 16M      0   \n4  4.647752285     2291       10,000+  Varies with device  $5.99   \n\n  Content Rating        Last Updated     Minimum Version      Latest Version  \\\n0       Everyone      March 29, 2019  Varies with device  Varies with device   \n1       Everyone      March 29, 2019  Varies with device  Varies with device   \n2       Everyone  September 20, 2018          5.0 and up               2.2.0   \n3       Everyone      March 22, 2019          4.2 and up              4.18.2   \n4       Everyone       April 1, 2019  Varies with device  Varies with device   \n\n  Unnamed: 11 Unnamed: 12 Unnamed: 13  Unnamed: 14  \n0         NaN         NaN         NaN          NaN  \n1         NaN         NaN         NaN          NaN  \n2         NaN         NaN         NaN          NaN  \n3         NaN         NaN         NaN          NaN  \n4         NaN         NaN         NaN          NaN  "
     },
     "execution_count": 53,
     "metadata": {},
     "output_type": "execute_result"
    }
   ],
   "source": [
    "df.head()"
   ]
  },
  {
   "cell_type": "code",
   "execution_count": 54,
   "metadata": {},
   "outputs": [],
   "source": [
    "df = df.drop(columns=['Unnamed: 11', 'Unnamed: 12', 'Unnamed: 13', 'Unnamed: 14'])"
   ]
  },
  {
   "cell_type": "code",
   "execution_count": 55,
   "metadata": {},
   "outputs": [
    {
     "data": {
      "text/html": "<div>\n<style scoped>\n    .dataframe tbody tr th:only-of-type {\n        vertical-align: middle;\n    }\n\n    .dataframe tbody tr th {\n        vertical-align: top;\n    }\n\n    .dataframe thead th {\n        text-align: right;\n    }\n</style>\n<table border=\"1\" class=\"dataframe\">\n  <thead>\n    <tr style=\"text-align: right;\">\n      <th></th>\n      <th>App Name</th>\n      <th>Category</th>\n      <th>Rating</th>\n      <th>Reviews</th>\n      <th>Installs</th>\n      <th>Size</th>\n      <th>Price</th>\n      <th>Content Rating</th>\n      <th>Last Updated</th>\n      <th>Minimum Version</th>\n      <th>Latest Version</th>\n    </tr>\n  </thead>\n  <tbody>\n    <tr>\n      <th>0</th>\n      <td>DoorDash - Food Delivery</td>\n      <td>FOOD_AND_DRINK</td>\n      <td>4.548561573</td>\n      <td>305034</td>\n      <td>5,000,000+</td>\n      <td>Varies with device</td>\n      <td>0</td>\n      <td>Everyone</td>\n      <td>March 29, 2019</td>\n      <td>Varies with device</td>\n      <td>Varies with device</td>\n    </tr>\n    <tr>\n      <th>1</th>\n      <td>TripAdvisor Hotels Flights Restaurants Attract...</td>\n      <td>TRAVEL_AND_LOCAL</td>\n      <td>4.400671482</td>\n      <td>1207922</td>\n      <td>100,000,000+</td>\n      <td>Varies with device</td>\n      <td>0</td>\n      <td>Everyone</td>\n      <td>March 29, 2019</td>\n      <td>Varies with device</td>\n      <td>Varies with device</td>\n    </tr>\n    <tr>\n      <th>2</th>\n      <td>Peapod</td>\n      <td>SHOPPING</td>\n      <td>3.656329393</td>\n      <td>1967</td>\n      <td>100,000+</td>\n      <td>1.4M</td>\n      <td>0</td>\n      <td>Everyone</td>\n      <td>September 20, 2018</td>\n      <td>5.0 and up</td>\n      <td>2.2.0</td>\n    </tr>\n    <tr>\n      <th>3</th>\n      <td>foodpanda - Local Food Delivery</td>\n      <td>FOOD_AND_DRINK</td>\n      <td>4.107232571</td>\n      <td>389154</td>\n      <td>10,000,000+</td>\n      <td>16M</td>\n      <td>0</td>\n      <td>Everyone</td>\n      <td>March 22, 2019</td>\n      <td>4.2 and up</td>\n      <td>4.18.2</td>\n    </tr>\n    <tr>\n      <th>4</th>\n      <td>My CookBook Pro (Ad Free)</td>\n      <td>FOOD_AND_DRINK</td>\n      <td>4.647752285</td>\n      <td>2291</td>\n      <td>10,000+</td>\n      <td>Varies with device</td>\n      <td>$5.99</td>\n      <td>Everyone</td>\n      <td>April 1, 2019</td>\n      <td>Varies with device</td>\n      <td>Varies with device</td>\n    </tr>\n  </tbody>\n</table>\n</div>",
      "text/plain": "                                            App Name          Category  \\\n0                           DoorDash - Food Delivery    FOOD_AND_DRINK   \n1  TripAdvisor Hotels Flights Restaurants Attract...  TRAVEL_AND_LOCAL   \n2                                             Peapod          SHOPPING   \n3                    foodpanda - Local Food Delivery    FOOD_AND_DRINK   \n4                          My CookBook Pro (Ad Free)    FOOD_AND_DRINK   \n\n        Rating  Reviews      Installs                Size  Price  \\\n0  4.548561573   305034    5,000,000+  Varies with device      0   \n1  4.400671482  1207922  100,000,000+  Varies with device      0   \n2  3.656329393     1967      100,000+                1.4M      0   \n3  4.107232571   389154   10,000,000+                 16M      0   \n4  4.647752285     2291       10,000+  Varies with device  $5.99   \n\n  Content Rating        Last Updated     Minimum Version      Latest Version  \n0       Everyone      March 29, 2019  Varies with device  Varies with device  \n1       Everyone      March 29, 2019  Varies with device  Varies with device  \n2       Everyone  September 20, 2018          5.0 and up               2.2.0  \n3       Everyone      March 22, 2019          4.2 and up              4.18.2  \n4       Everyone       April 1, 2019  Varies with device  Varies with device  "
     },
     "execution_count": 55,
     "metadata": {},
     "output_type": "execute_result"
    }
   ],
   "source": [
    "df.head()"
   ]
  }
 ]
}